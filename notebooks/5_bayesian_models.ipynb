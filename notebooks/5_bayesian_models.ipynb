{
 "cells": [
  {
   "cell_type": "code",
   "execution_count": 2,
   "id": "7c3ab10f-500f-48b6-96fb-8de858af951c",
   "metadata": {},
   "outputs": [
    {
     "name": "stderr",
     "output_type": "stream",
     "text": [
      "Installing package into ‘/home/marius/R/x86_64-pc-linux-gnu-library/4.1’\n",
      "(as ‘lib’ is unspecified)\n",
      "\n",
      "also installing the dependencies ‘performance’, ‘bayestestR’, ‘datawizard’, ‘effectsize’, ‘ggplot2’, ‘insight’, ‘parameters’\n",
      "\n",
      "\n"
     ]
    }
   ],
   "source": [
    "install.packages('see')"
   ]
  },
  {
   "cell_type": "code",
   "execution_count": 160,
   "id": "3c3e7e09-c638-4e3e-bce0-4e00ed68a7fe",
   "metadata": {
    "scene__Init": true,
    "tags": [
     "ActiveScene"
    ]
   },
   "outputs": [],
   "source": [
    "\n",
    "# Load packages -----------------------------------------------------------\n",
    "library(BayesFactor) # needed to calculate Bayes factors\n",
    "library(here) # needed to assign working directory for relative paths\n",
    "library(tidyverse) # needed for importing, processing, and plotting data\n",
    "library(ggplot2)\n",
    "library(ggtext)\n",
    "library(ggpubr)\n",
    "library(brms)\n",
    "library(hash)\n",
    "library(magrittr)\n",
    "library(reshape2)\n",
    "library(stringr)\n",
    "library(dplyr)\n",
    "library(purrr)\n",
    "library(forcats)\n",
    "library(tidyr)\n",
    "library(modelr)\n",
    "library(ggdist)\n",
    "library(tidybayes)\n",
    "library(cowplot)\n",
    "library(rstan)\n",
    "library(ggrepel)\n",
    "library(RColorBrewer)\n",
    "library(posterior)\n",
    "library(svglite)\n",
    "library(see)\n",
    "library(ggpubr)"
   ]
  },
  {
   "cell_type": "markdown",
   "id": "093002e5-12f2-4f4c-9300-d4bf48ed4f51",
   "metadata": {},
   "source": [
    "# Activation data"
   ]
  },
  {
   "cell_type": "markdown",
   "id": "33ac7c30-ecbd-4d2b-8b84-7e90a233dc14",
   "metadata": {},
   "source": [
    "## Load data"
   ]
  },
  {
   "cell_type": "code",
   "execution_count": 367,
   "id": "c7fd8c54-d4ea-46f6-82fa-ea98cb525212",
   "metadata": {},
   "outputs": [],
   "source": [
    "# load and prepare data\n",
    "# activations_df <- read.csv(file = \"/Users/mariusgorner/ownCloud/PhD/projects/scientific/gaze-motion/results/mixed_models/data_tables/gm-dat_fwhm-5_z-scores.csv\", sep='\\t')\n",
    "activations_df <- read.csv(file = \"/home/marius/ownCloud/PhD/projects/scientific/gaze-motion/data/pilot/beta_values/gm-dat_fwhm-5_z-scores_newROIs.csv\", sep='\\t')\n",
    "\n",
    "activations_df$participant = factor(activations_df$participant)\n",
    "activations_df$subject_type = factor(activations_df$subject_type)\n",
    "activations_df$roi = factor(activations_df$roi)\n",
    "activations_df$hemisphere = factor(activations_df$hemisphere)\n",
    "activations_df$condition = factor(activations_df$condition)\n",
    "activations_df$type_of_y = factor(activations_df$type_of_y)\n",
    "\n",
    "\n",
    "activations_df <- activations_df %>% discard(~all(is.na(.) | . ==\"\"))\n"
   ]
  },
  {
   "cell_type": "code",
   "execution_count": 371,
   "id": "6571bdd4-f6b7-482e-af44-ba01cbe50abe",
   "metadata": {
    "tags": []
   },
   "outputs": [
    {
     "data": {
      "text/html": [
       "<table class=\"dataframe\">\n",
       "<caption>A data.frame: 306 × 9</caption>\n",
       "<thead>\n",
       "\t<tr><th scope=col>participant</th><th scope=col>subject_type</th><th scope=col>task</th><th scope=col>run</th><th scope=col>roi</th><th scope=col>hemisphere</th><th scope=col>condition</th><th scope=col>y</th><th scope=col>type_of_y</th></tr>\n",
       "\t<tr><th scope=col>&lt;fct&gt;</th><th scope=col>&lt;fct&gt;</th><th scope=col>&lt;chr&gt;</th><th scope=col>&lt;chr&gt;</th><th scope=col>&lt;fct&gt;</th><th scope=col>&lt;fct&gt;</th><th scope=col>&lt;fct&gt;</th><th scope=col>&lt;dbl&gt;</th><th scope=col>&lt;fct&gt;</th></tr>\n",
       "</thead>\n",
       "<tbody>\n",
       "\t<tr><td>sub-00</td><td>pilot</td><td>gc</td><td>run-001</td><td>GFP             </td><td>LH</td><td>Gaze </td><td>-1.21211491</td><td>beta_z-score</td></tr>\n",
       "\t<tr><td>sub-00</td><td>pilot</td><td>gc</td><td>run-001</td><td>GFP             </td><td>RH</td><td>Gaze </td><td> 3.86039374</td><td>beta_z-score</td></tr>\n",
       "\t<tr><td>sub-00</td><td>pilot</td><td>gc</td><td>run-001</td><td>fMotionArea     </td><td>LH</td><td>Gaze </td><td> 1.26630388</td><td>beta_z-score</td></tr>\n",
       "\t<tr><td>sub-00</td><td>pilot</td><td>gc</td><td>run-001</td><td>fMotionArea     </td><td>RH</td><td>Gaze </td><td> 2.65328134</td><td>beta_z-score</td></tr>\n",
       "\t<tr><td>sub-00</td><td>pilot</td><td>gc</td><td>run-001</td><td>Marquardt2017GFP</td><td>LH</td><td>Gaze </td><td> 0.30278289</td><td>beta_z-score</td></tr>\n",
       "\t<tr><td>sub-00</td><td>pilot</td><td>gc</td><td>run-001</td><td>Marquardt2017GFP</td><td>RH</td><td>Gaze </td><td> 1.44977668</td><td>beta_z-score</td></tr>\n",
       "\t<tr><td>sub-00</td><td>pilot</td><td>gc</td><td>run-001</td><td>GFP             </td><td>LH</td><td>Cubes</td><td> 0.67338350</td><td>beta_z-score</td></tr>\n",
       "\t<tr><td>sub-00</td><td>pilot</td><td>gc</td><td>run-001</td><td>GFP             </td><td>RH</td><td>Cubes</td><td> 3.79211670</td><td>beta_z-score</td></tr>\n",
       "\t<tr><td>sub-00</td><td>pilot</td><td>gc</td><td>run-001</td><td>fMotionArea     </td><td>LH</td><td>Cubes</td><td> 2.00931825</td><td>beta_z-score</td></tr>\n",
       "\t<tr><td>sub-00</td><td>pilot</td><td>gc</td><td>run-001</td><td>fMotionArea     </td><td>RH</td><td>Cubes</td><td> 2.79427957</td><td>beta_z-score</td></tr>\n",
       "\t<tr><td>sub-00</td><td>pilot</td><td>gc</td><td>run-001</td><td>Marquardt2017GFP</td><td>LH</td><td>Cubes</td><td> 2.00017502</td><td>beta_z-score</td></tr>\n",
       "\t<tr><td>sub-00</td><td>pilot</td><td>gc</td><td>run-001</td><td>Marquardt2017GFP</td><td>RH</td><td>Cubes</td><td> 1.80343910</td><td>beta_z-score</td></tr>\n",
       "\t<tr><td>sub-00</td><td>pilot</td><td>gc</td><td>run-002</td><td>GFP             </td><td>LH</td><td>Gaze </td><td> 0.13137179</td><td>beta_z-score</td></tr>\n",
       "\t<tr><td>sub-00</td><td>pilot</td><td>gc</td><td>run-002</td><td>GFP             </td><td>RH</td><td>Gaze </td><td> 3.21187175</td><td>beta_z-score</td></tr>\n",
       "\t<tr><td>sub-00</td><td>pilot</td><td>gc</td><td>run-002</td><td>fMotionArea     </td><td>LH</td><td>Gaze </td><td> 1.12685443</td><td>beta_z-score</td></tr>\n",
       "\t<tr><td>sub-00</td><td>pilot</td><td>gc</td><td>run-002</td><td>fMotionArea     </td><td>RH</td><td>Gaze </td><td> 2.19580228</td><td>beta_z-score</td></tr>\n",
       "\t<tr><td>sub-00</td><td>pilot</td><td>gc</td><td>run-002</td><td>Marquardt2017GFP</td><td>LH</td><td>Gaze </td><td> 0.79185287</td><td>beta_z-score</td></tr>\n",
       "\t<tr><td>sub-00</td><td>pilot</td><td>gc</td><td>run-002</td><td>Marquardt2017GFP</td><td>RH</td><td>Gaze </td><td> 0.87536434</td><td>beta_z-score</td></tr>\n",
       "\t<tr><td>sub-00</td><td>pilot</td><td>gc</td><td>run-002</td><td>GFP             </td><td>LH</td><td>Cubes</td><td> 1.97367260</td><td>beta_z-score</td></tr>\n",
       "\t<tr><td>sub-00</td><td>pilot</td><td>gc</td><td>run-002</td><td>GFP             </td><td>RH</td><td>Cubes</td><td> 3.39225202</td><td>beta_z-score</td></tr>\n",
       "\t<tr><td>sub-00</td><td>pilot</td><td>gc</td><td>run-002</td><td>fMotionArea     </td><td>LH</td><td>Cubes</td><td> 2.34146825</td><td>beta_z-score</td></tr>\n",
       "\t<tr><td>sub-00</td><td>pilot</td><td>gc</td><td>run-002</td><td>fMotionArea     </td><td>RH</td><td>Cubes</td><td> 2.73809216</td><td>beta_z-score</td></tr>\n",
       "\t<tr><td>sub-00</td><td>pilot</td><td>gc</td><td>run-002</td><td>Marquardt2017GFP</td><td>LH</td><td>Cubes</td><td> 2.57038750</td><td>beta_z-score</td></tr>\n",
       "\t<tr><td>sub-00</td><td>pilot</td><td>gc</td><td>run-002</td><td>Marquardt2017GFP</td><td>RH</td><td>Cubes</td><td> 1.61865159</td><td>beta_z-score</td></tr>\n",
       "\t<tr><td>sub-00</td><td>pilot</td><td>gc</td><td>run-003</td><td>GFP             </td><td>LH</td><td>Gaze </td><td> 0.08950992</td><td>beta_z-score</td></tr>\n",
       "\t<tr><td>sub-00</td><td>pilot</td><td>gc</td><td>run-003</td><td>GFP             </td><td>RH</td><td>Gaze </td><td> 2.63175748</td><td>beta_z-score</td></tr>\n",
       "\t<tr><td>sub-00</td><td>pilot</td><td>gc</td><td>run-003</td><td>fMotionArea     </td><td>LH</td><td>Gaze </td><td> 1.31566080</td><td>beta_z-score</td></tr>\n",
       "\t<tr><td>sub-00</td><td>pilot</td><td>gc</td><td>run-003</td><td>fMotionArea     </td><td>RH</td><td>Gaze </td><td> 1.71677054</td><td>beta_z-score</td></tr>\n",
       "\t<tr><td>sub-00</td><td>pilot</td><td>gc</td><td>run-003</td><td>Marquardt2017GFP</td><td>LH</td><td>Gaze </td><td> 0.61471298</td><td>beta_z-score</td></tr>\n",
       "\t<tr><td>sub-00</td><td>pilot</td><td>gc</td><td>run-003</td><td>Marquardt2017GFP</td><td>RH</td><td>Gaze </td><td> 0.98854357</td><td>beta_z-score</td></tr>\n",
       "\t<tr><td>⋮</td><td>⋮</td><td>⋮</td><td>⋮</td><td>⋮</td><td>⋮</td><td>⋮</td><td>⋮</td><td>⋮</td></tr>\n",
       "\t<tr><td>sub-0000</td><td>pilot</td><td>gic</td><td>run-015</td><td>GFP             </td><td>LH</td><td>Gaze </td><td> 0.94435042</td><td>beta_z-score</td></tr>\n",
       "\t<tr><td>sub-0000</td><td>pilot</td><td>gic</td><td>run-015</td><td>GFP             </td><td>RH</td><td>Gaze </td><td> 0.79384121</td><td>beta_z-score</td></tr>\n",
       "\t<tr><td>sub-0000</td><td>pilot</td><td>gic</td><td>run-015</td><td>GazeCubes       </td><td>LH</td><td>Gaze </td><td> 1.62482437</td><td>beta_z-score</td></tr>\n",
       "\t<tr><td>sub-0000</td><td>pilot</td><td>gic</td><td>run-015</td><td>GazeCubes       </td><td>RH</td><td>Gaze </td><td> 0.09652182</td><td>beta_z-score</td></tr>\n",
       "\t<tr><td>sub-0000</td><td>pilot</td><td>gic</td><td>run-015</td><td>fMotionArea     </td><td>LH</td><td>Gaze </td><td> 0.72595416</td><td>beta_z-score</td></tr>\n",
       "\t<tr><td>sub-0000</td><td>pilot</td><td>gic</td><td>run-015</td><td>fMotionArea     </td><td>RH</td><td>Gaze </td><td> 1.38833431</td><td>beta_z-score</td></tr>\n",
       "\t<tr><td>sub-0000</td><td>pilot</td><td>gic</td><td>run-015</td><td>GFPalt          </td><td>LH</td><td>Gaze </td><td> 0.96352531</td><td>beta_z-score</td></tr>\n",
       "\t<tr><td>sub-0000</td><td>pilot</td><td>gic</td><td>run-015</td><td>GFPalt          </td><td>RH</td><td>Gaze </td><td>-0.21485677</td><td>beta_z-score</td></tr>\n",
       "\t<tr><td>sub-0000</td><td>pilot</td><td>gic</td><td>run-015</td><td>Marquardt2017GFP</td><td>LH</td><td>Gaze </td><td> 0.85536202</td><td>beta_z-score</td></tr>\n",
       "\t<tr><td>sub-0000</td><td>pilot</td><td>gic</td><td>run-015</td><td>Marquardt2017GFP</td><td>RH</td><td>Gaze </td><td> 0.41437454</td><td>beta_z-score</td></tr>\n",
       "\t<tr><td>sub-0000</td><td>pilot</td><td>gic</td><td>run-015</td><td>GFP             </td><td>LH</td><td>Cubes</td><td> 1.42768117</td><td>beta_z-score</td></tr>\n",
       "\t<tr><td>sub-0000</td><td>pilot</td><td>gic</td><td>run-015</td><td>GFP             </td><td>RH</td><td>Cubes</td><td> 1.81208371</td><td>beta_z-score</td></tr>\n",
       "\t<tr><td>sub-0000</td><td>pilot</td><td>gic</td><td>run-015</td><td>GazeCubes       </td><td>LH</td><td>Cubes</td><td> 0.89840743</td><td>beta_z-score</td></tr>\n",
       "\t<tr><td>sub-0000</td><td>pilot</td><td>gic</td><td>run-015</td><td>GazeCubes       </td><td>RH</td><td>Cubes</td><td>-0.37856973</td><td>beta_z-score</td></tr>\n",
       "\t<tr><td>sub-0000</td><td>pilot</td><td>gic</td><td>run-015</td><td>fMotionArea     </td><td>LH</td><td>Cubes</td><td> 1.79340556</td><td>beta_z-score</td></tr>\n",
       "\t<tr><td>sub-0000</td><td>pilot</td><td>gic</td><td>run-015</td><td>fMotionArea     </td><td>RH</td><td>Cubes</td><td> 1.89237624</td><td>beta_z-score</td></tr>\n",
       "\t<tr><td>sub-0000</td><td>pilot</td><td>gic</td><td>run-015</td><td>GFPalt          </td><td>LH</td><td>Cubes</td><td> 1.02268222</td><td>beta_z-score</td></tr>\n",
       "\t<tr><td>sub-0000</td><td>pilot</td><td>gic</td><td>run-015</td><td>GFPalt          </td><td>RH</td><td>Cubes</td><td>-0.72934786</td><td>beta_z-score</td></tr>\n",
       "\t<tr><td>sub-0000</td><td>pilot</td><td>gic</td><td>run-015</td><td>Marquardt2017GFP</td><td>LH</td><td>Cubes</td><td> 1.53336238</td><td>beta_z-score</td></tr>\n",
       "\t<tr><td>sub-0000</td><td>pilot</td><td>gic</td><td>run-015</td><td>Marquardt2017GFP</td><td>RH</td><td>Cubes</td><td> 1.60089229</td><td>beta_z-score</td></tr>\n",
       "\t<tr><td>sub-0000</td><td>pilot</td><td>gic</td><td>run-015</td><td>GFP             </td><td>LH</td><td>Iris </td><td> 0.84606751</td><td>beta_z-score</td></tr>\n",
       "\t<tr><td>sub-0000</td><td>pilot</td><td>gic</td><td>run-015</td><td>GFP             </td><td>RH</td><td>Iris </td><td> 0.47523887</td><td>beta_z-score</td></tr>\n",
       "\t<tr><td>sub-0000</td><td>pilot</td><td>gic</td><td>run-015</td><td>GazeCubes       </td><td>LH</td><td>Iris </td><td> 1.72169038</td><td>beta_z-score</td></tr>\n",
       "\t<tr><td>sub-0000</td><td>pilot</td><td>gic</td><td>run-015</td><td>GazeCubes       </td><td>RH</td><td>Iris </td><td> 0.18162000</td><td>beta_z-score</td></tr>\n",
       "\t<tr><td>sub-0000</td><td>pilot</td><td>gic</td><td>run-015</td><td>fMotionArea     </td><td>LH</td><td>Iris </td><td> 1.00141378</td><td>beta_z-score</td></tr>\n",
       "\t<tr><td>sub-0000</td><td>pilot</td><td>gic</td><td>run-015</td><td>fMotionArea     </td><td>RH</td><td>Iris </td><td> 1.57474393</td><td>beta_z-score</td></tr>\n",
       "\t<tr><td>sub-0000</td><td>pilot</td><td>gic</td><td>run-015</td><td>GFPalt          </td><td>LH</td><td>Iris </td><td> 1.04230422</td><td>beta_z-score</td></tr>\n",
       "\t<tr><td>sub-0000</td><td>pilot</td><td>gic</td><td>run-015</td><td>GFPalt          </td><td>RH</td><td>Iris </td><td>-0.64849105</td><td>beta_z-score</td></tr>\n",
       "\t<tr><td>sub-0000</td><td>pilot</td><td>gic</td><td>run-015</td><td>Marquardt2017GFP</td><td>LH</td><td>Iris </td><td> 0.93386051</td><td>beta_z-score</td></tr>\n",
       "\t<tr><td>sub-0000</td><td>pilot</td><td>gic</td><td>run-015</td><td>Marquardt2017GFP</td><td>RH</td><td>Iris </td><td> 0.18480924</td><td>beta_z-score</td></tr>\n",
       "</tbody>\n",
       "</table>\n"
      ],
      "text/latex": [
       "A data.frame: 306 × 9\n",
       "\\begin{tabular}{lllllllll}\n",
       " participant & subject\\_type & task & run & roi & hemisphere & condition & y & type\\_of\\_y\\\\\n",
       " <fct> & <fct> & <chr> & <chr> & <fct> & <fct> & <fct> & <dbl> & <fct>\\\\\n",
       "\\hline\n",
       "\t sub-00 & pilot & gc & run-001 & GFP              & LH & Gaze  & -1.21211491 & beta\\_z-score\\\\\n",
       "\t sub-00 & pilot & gc & run-001 & GFP              & RH & Gaze  &  3.86039374 & beta\\_z-score\\\\\n",
       "\t sub-00 & pilot & gc & run-001 & fMotionArea      & LH & Gaze  &  1.26630388 & beta\\_z-score\\\\\n",
       "\t sub-00 & pilot & gc & run-001 & fMotionArea      & RH & Gaze  &  2.65328134 & beta\\_z-score\\\\\n",
       "\t sub-00 & pilot & gc & run-001 & Marquardt2017GFP & LH & Gaze  &  0.30278289 & beta\\_z-score\\\\\n",
       "\t sub-00 & pilot & gc & run-001 & Marquardt2017GFP & RH & Gaze  &  1.44977668 & beta\\_z-score\\\\\n",
       "\t sub-00 & pilot & gc & run-001 & GFP              & LH & Cubes &  0.67338350 & beta\\_z-score\\\\\n",
       "\t sub-00 & pilot & gc & run-001 & GFP              & RH & Cubes &  3.79211670 & beta\\_z-score\\\\\n",
       "\t sub-00 & pilot & gc & run-001 & fMotionArea      & LH & Cubes &  2.00931825 & beta\\_z-score\\\\\n",
       "\t sub-00 & pilot & gc & run-001 & fMotionArea      & RH & Cubes &  2.79427957 & beta\\_z-score\\\\\n",
       "\t sub-00 & pilot & gc & run-001 & Marquardt2017GFP & LH & Cubes &  2.00017502 & beta\\_z-score\\\\\n",
       "\t sub-00 & pilot & gc & run-001 & Marquardt2017GFP & RH & Cubes &  1.80343910 & beta\\_z-score\\\\\n",
       "\t sub-00 & pilot & gc & run-002 & GFP              & LH & Gaze  &  0.13137179 & beta\\_z-score\\\\\n",
       "\t sub-00 & pilot & gc & run-002 & GFP              & RH & Gaze  &  3.21187175 & beta\\_z-score\\\\\n",
       "\t sub-00 & pilot & gc & run-002 & fMotionArea      & LH & Gaze  &  1.12685443 & beta\\_z-score\\\\\n",
       "\t sub-00 & pilot & gc & run-002 & fMotionArea      & RH & Gaze  &  2.19580228 & beta\\_z-score\\\\\n",
       "\t sub-00 & pilot & gc & run-002 & Marquardt2017GFP & LH & Gaze  &  0.79185287 & beta\\_z-score\\\\\n",
       "\t sub-00 & pilot & gc & run-002 & Marquardt2017GFP & RH & Gaze  &  0.87536434 & beta\\_z-score\\\\\n",
       "\t sub-00 & pilot & gc & run-002 & GFP              & LH & Cubes &  1.97367260 & beta\\_z-score\\\\\n",
       "\t sub-00 & pilot & gc & run-002 & GFP              & RH & Cubes &  3.39225202 & beta\\_z-score\\\\\n",
       "\t sub-00 & pilot & gc & run-002 & fMotionArea      & LH & Cubes &  2.34146825 & beta\\_z-score\\\\\n",
       "\t sub-00 & pilot & gc & run-002 & fMotionArea      & RH & Cubes &  2.73809216 & beta\\_z-score\\\\\n",
       "\t sub-00 & pilot & gc & run-002 & Marquardt2017GFP & LH & Cubes &  2.57038750 & beta\\_z-score\\\\\n",
       "\t sub-00 & pilot & gc & run-002 & Marquardt2017GFP & RH & Cubes &  1.61865159 & beta\\_z-score\\\\\n",
       "\t sub-00 & pilot & gc & run-003 & GFP              & LH & Gaze  &  0.08950992 & beta\\_z-score\\\\\n",
       "\t sub-00 & pilot & gc & run-003 & GFP              & RH & Gaze  &  2.63175748 & beta\\_z-score\\\\\n",
       "\t sub-00 & pilot & gc & run-003 & fMotionArea      & LH & Gaze  &  1.31566080 & beta\\_z-score\\\\\n",
       "\t sub-00 & pilot & gc & run-003 & fMotionArea      & RH & Gaze  &  1.71677054 & beta\\_z-score\\\\\n",
       "\t sub-00 & pilot & gc & run-003 & Marquardt2017GFP & LH & Gaze  &  0.61471298 & beta\\_z-score\\\\\n",
       "\t sub-00 & pilot & gc & run-003 & Marquardt2017GFP & RH & Gaze  &  0.98854357 & beta\\_z-score\\\\\n",
       "\t ⋮ & ⋮ & ⋮ & ⋮ & ⋮ & ⋮ & ⋮ & ⋮ & ⋮\\\\\n",
       "\t sub-0000 & pilot & gic & run-015 & GFP              & LH & Gaze  &  0.94435042 & beta\\_z-score\\\\\n",
       "\t sub-0000 & pilot & gic & run-015 & GFP              & RH & Gaze  &  0.79384121 & beta\\_z-score\\\\\n",
       "\t sub-0000 & pilot & gic & run-015 & GazeCubes        & LH & Gaze  &  1.62482437 & beta\\_z-score\\\\\n",
       "\t sub-0000 & pilot & gic & run-015 & GazeCubes        & RH & Gaze  &  0.09652182 & beta\\_z-score\\\\\n",
       "\t sub-0000 & pilot & gic & run-015 & fMotionArea      & LH & Gaze  &  0.72595416 & beta\\_z-score\\\\\n",
       "\t sub-0000 & pilot & gic & run-015 & fMotionArea      & RH & Gaze  &  1.38833431 & beta\\_z-score\\\\\n",
       "\t sub-0000 & pilot & gic & run-015 & GFPalt           & LH & Gaze  &  0.96352531 & beta\\_z-score\\\\\n",
       "\t sub-0000 & pilot & gic & run-015 & GFPalt           & RH & Gaze  & -0.21485677 & beta\\_z-score\\\\\n",
       "\t sub-0000 & pilot & gic & run-015 & Marquardt2017GFP & LH & Gaze  &  0.85536202 & beta\\_z-score\\\\\n",
       "\t sub-0000 & pilot & gic & run-015 & Marquardt2017GFP & RH & Gaze  &  0.41437454 & beta\\_z-score\\\\\n",
       "\t sub-0000 & pilot & gic & run-015 & GFP              & LH & Cubes &  1.42768117 & beta\\_z-score\\\\\n",
       "\t sub-0000 & pilot & gic & run-015 & GFP              & RH & Cubes &  1.81208371 & beta\\_z-score\\\\\n",
       "\t sub-0000 & pilot & gic & run-015 & GazeCubes        & LH & Cubes &  0.89840743 & beta\\_z-score\\\\\n",
       "\t sub-0000 & pilot & gic & run-015 & GazeCubes        & RH & Cubes & -0.37856973 & beta\\_z-score\\\\\n",
       "\t sub-0000 & pilot & gic & run-015 & fMotionArea      & LH & Cubes &  1.79340556 & beta\\_z-score\\\\\n",
       "\t sub-0000 & pilot & gic & run-015 & fMotionArea      & RH & Cubes &  1.89237624 & beta\\_z-score\\\\\n",
       "\t sub-0000 & pilot & gic & run-015 & GFPalt           & LH & Cubes &  1.02268222 & beta\\_z-score\\\\\n",
       "\t sub-0000 & pilot & gic & run-015 & GFPalt           & RH & Cubes & -0.72934786 & beta\\_z-score\\\\\n",
       "\t sub-0000 & pilot & gic & run-015 & Marquardt2017GFP & LH & Cubes &  1.53336238 & beta\\_z-score\\\\\n",
       "\t sub-0000 & pilot & gic & run-015 & Marquardt2017GFP & RH & Cubes &  1.60089229 & beta\\_z-score\\\\\n",
       "\t sub-0000 & pilot & gic & run-015 & GFP              & LH & Iris  &  0.84606751 & beta\\_z-score\\\\\n",
       "\t sub-0000 & pilot & gic & run-015 & GFP              & RH & Iris  &  0.47523887 & beta\\_z-score\\\\\n",
       "\t sub-0000 & pilot & gic & run-015 & GazeCubes        & LH & Iris  &  1.72169038 & beta\\_z-score\\\\\n",
       "\t sub-0000 & pilot & gic & run-015 & GazeCubes        & RH & Iris  &  0.18162000 & beta\\_z-score\\\\\n",
       "\t sub-0000 & pilot & gic & run-015 & fMotionArea      & LH & Iris  &  1.00141378 & beta\\_z-score\\\\\n",
       "\t sub-0000 & pilot & gic & run-015 & fMotionArea      & RH & Iris  &  1.57474393 & beta\\_z-score\\\\\n",
       "\t sub-0000 & pilot & gic & run-015 & GFPalt           & LH & Iris  &  1.04230422 & beta\\_z-score\\\\\n",
       "\t sub-0000 & pilot & gic & run-015 & GFPalt           & RH & Iris  & -0.64849105 & beta\\_z-score\\\\\n",
       "\t sub-0000 & pilot & gic & run-015 & Marquardt2017GFP & LH & Iris  &  0.93386051 & beta\\_z-score\\\\\n",
       "\t sub-0000 & pilot & gic & run-015 & Marquardt2017GFP & RH & Iris  &  0.18480924 & beta\\_z-score\\\\\n",
       "\\end{tabular}\n"
      ],
      "text/markdown": [
       "\n",
       "A data.frame: 306 × 9\n",
       "\n",
       "| participant &lt;fct&gt; | subject_type &lt;fct&gt; | task &lt;chr&gt; | run &lt;chr&gt; | roi &lt;fct&gt; | hemisphere &lt;fct&gt; | condition &lt;fct&gt; | y &lt;dbl&gt; | type_of_y &lt;fct&gt; |\n",
       "|---|---|---|---|---|---|---|---|---|\n",
       "| sub-00 | pilot | gc | run-001 | GFP              | LH | Gaze  | -1.21211491 | beta_z-score |\n",
       "| sub-00 | pilot | gc | run-001 | GFP              | RH | Gaze  |  3.86039374 | beta_z-score |\n",
       "| sub-00 | pilot | gc | run-001 | fMotionArea      | LH | Gaze  |  1.26630388 | beta_z-score |\n",
       "| sub-00 | pilot | gc | run-001 | fMotionArea      | RH | Gaze  |  2.65328134 | beta_z-score |\n",
       "| sub-00 | pilot | gc | run-001 | Marquardt2017GFP | LH | Gaze  |  0.30278289 | beta_z-score |\n",
       "| sub-00 | pilot | gc | run-001 | Marquardt2017GFP | RH | Gaze  |  1.44977668 | beta_z-score |\n",
       "| sub-00 | pilot | gc | run-001 | GFP              | LH | Cubes |  0.67338350 | beta_z-score |\n",
       "| sub-00 | pilot | gc | run-001 | GFP              | RH | Cubes |  3.79211670 | beta_z-score |\n",
       "| sub-00 | pilot | gc | run-001 | fMotionArea      | LH | Cubes |  2.00931825 | beta_z-score |\n",
       "| sub-00 | pilot | gc | run-001 | fMotionArea      | RH | Cubes |  2.79427957 | beta_z-score |\n",
       "| sub-00 | pilot | gc | run-001 | Marquardt2017GFP | LH | Cubes |  2.00017502 | beta_z-score |\n",
       "| sub-00 | pilot | gc | run-001 | Marquardt2017GFP | RH | Cubes |  1.80343910 | beta_z-score |\n",
       "| sub-00 | pilot | gc | run-002 | GFP              | LH | Gaze  |  0.13137179 | beta_z-score |\n",
       "| sub-00 | pilot | gc | run-002 | GFP              | RH | Gaze  |  3.21187175 | beta_z-score |\n",
       "| sub-00 | pilot | gc | run-002 | fMotionArea      | LH | Gaze  |  1.12685443 | beta_z-score |\n",
       "| sub-00 | pilot | gc | run-002 | fMotionArea      | RH | Gaze  |  2.19580228 | beta_z-score |\n",
       "| sub-00 | pilot | gc | run-002 | Marquardt2017GFP | LH | Gaze  |  0.79185287 | beta_z-score |\n",
       "| sub-00 | pilot | gc | run-002 | Marquardt2017GFP | RH | Gaze  |  0.87536434 | beta_z-score |\n",
       "| sub-00 | pilot | gc | run-002 | GFP              | LH | Cubes |  1.97367260 | beta_z-score |\n",
       "| sub-00 | pilot | gc | run-002 | GFP              | RH | Cubes |  3.39225202 | beta_z-score |\n",
       "| sub-00 | pilot | gc | run-002 | fMotionArea      | LH | Cubes |  2.34146825 | beta_z-score |\n",
       "| sub-00 | pilot | gc | run-002 | fMotionArea      | RH | Cubes |  2.73809216 | beta_z-score |\n",
       "| sub-00 | pilot | gc | run-002 | Marquardt2017GFP | LH | Cubes |  2.57038750 | beta_z-score |\n",
       "| sub-00 | pilot | gc | run-002 | Marquardt2017GFP | RH | Cubes |  1.61865159 | beta_z-score |\n",
       "| sub-00 | pilot | gc | run-003 | GFP              | LH | Gaze  |  0.08950992 | beta_z-score |\n",
       "| sub-00 | pilot | gc | run-003 | GFP              | RH | Gaze  |  2.63175748 | beta_z-score |\n",
       "| sub-00 | pilot | gc | run-003 | fMotionArea      | LH | Gaze  |  1.31566080 | beta_z-score |\n",
       "| sub-00 | pilot | gc | run-003 | fMotionArea      | RH | Gaze  |  1.71677054 | beta_z-score |\n",
       "| sub-00 | pilot | gc | run-003 | Marquardt2017GFP | LH | Gaze  |  0.61471298 | beta_z-score |\n",
       "| sub-00 | pilot | gc | run-003 | Marquardt2017GFP | RH | Gaze  |  0.98854357 | beta_z-score |\n",
       "| ⋮ | ⋮ | ⋮ | ⋮ | ⋮ | ⋮ | ⋮ | ⋮ | ⋮ |\n",
       "| sub-0000 | pilot | gic | run-015 | GFP              | LH | Gaze  |  0.94435042 | beta_z-score |\n",
       "| sub-0000 | pilot | gic | run-015 | GFP              | RH | Gaze  |  0.79384121 | beta_z-score |\n",
       "| sub-0000 | pilot | gic | run-015 | GazeCubes        | LH | Gaze  |  1.62482437 | beta_z-score |\n",
       "| sub-0000 | pilot | gic | run-015 | GazeCubes        | RH | Gaze  |  0.09652182 | beta_z-score |\n",
       "| sub-0000 | pilot | gic | run-015 | fMotionArea      | LH | Gaze  |  0.72595416 | beta_z-score |\n",
       "| sub-0000 | pilot | gic | run-015 | fMotionArea      | RH | Gaze  |  1.38833431 | beta_z-score |\n",
       "| sub-0000 | pilot | gic | run-015 | GFPalt           | LH | Gaze  |  0.96352531 | beta_z-score |\n",
       "| sub-0000 | pilot | gic | run-015 | GFPalt           | RH | Gaze  | -0.21485677 | beta_z-score |\n",
       "| sub-0000 | pilot | gic | run-015 | Marquardt2017GFP | LH | Gaze  |  0.85536202 | beta_z-score |\n",
       "| sub-0000 | pilot | gic | run-015 | Marquardt2017GFP | RH | Gaze  |  0.41437454 | beta_z-score |\n",
       "| sub-0000 | pilot | gic | run-015 | GFP              | LH | Cubes |  1.42768117 | beta_z-score |\n",
       "| sub-0000 | pilot | gic | run-015 | GFP              | RH | Cubes |  1.81208371 | beta_z-score |\n",
       "| sub-0000 | pilot | gic | run-015 | GazeCubes        | LH | Cubes |  0.89840743 | beta_z-score |\n",
       "| sub-0000 | pilot | gic | run-015 | GazeCubes        | RH | Cubes | -0.37856973 | beta_z-score |\n",
       "| sub-0000 | pilot | gic | run-015 | fMotionArea      | LH | Cubes |  1.79340556 | beta_z-score |\n",
       "| sub-0000 | pilot | gic | run-015 | fMotionArea      | RH | Cubes |  1.89237624 | beta_z-score |\n",
       "| sub-0000 | pilot | gic | run-015 | GFPalt           | LH | Cubes |  1.02268222 | beta_z-score |\n",
       "| sub-0000 | pilot | gic | run-015 | GFPalt           | RH | Cubes | -0.72934786 | beta_z-score |\n",
       "| sub-0000 | pilot | gic | run-015 | Marquardt2017GFP | LH | Cubes |  1.53336238 | beta_z-score |\n",
       "| sub-0000 | pilot | gic | run-015 | Marquardt2017GFP | RH | Cubes |  1.60089229 | beta_z-score |\n",
       "| sub-0000 | pilot | gic | run-015 | GFP              | LH | Iris  |  0.84606751 | beta_z-score |\n",
       "| sub-0000 | pilot | gic | run-015 | GFP              | RH | Iris  |  0.47523887 | beta_z-score |\n",
       "| sub-0000 | pilot | gic | run-015 | GazeCubes        | LH | Iris  |  1.72169038 | beta_z-score |\n",
       "| sub-0000 | pilot | gic | run-015 | GazeCubes        | RH | Iris  |  0.18162000 | beta_z-score |\n",
       "| sub-0000 | pilot | gic | run-015 | fMotionArea      | LH | Iris  |  1.00141378 | beta_z-score |\n",
       "| sub-0000 | pilot | gic | run-015 | fMotionArea      | RH | Iris  |  1.57474393 | beta_z-score |\n",
       "| sub-0000 | pilot | gic | run-015 | GFPalt           | LH | Iris  |  1.04230422 | beta_z-score |\n",
       "| sub-0000 | pilot | gic | run-015 | GFPalt           | RH | Iris  | -0.64849105 | beta_z-score |\n",
       "| sub-0000 | pilot | gic | run-015 | Marquardt2017GFP | LH | Iris  |  0.93386051 | beta_z-score |\n",
       "| sub-0000 | pilot | gic | run-015 | Marquardt2017GFP | RH | Iris  |  0.18480924 | beta_z-score |\n",
       "\n"
      ],
      "text/plain": [
       "    participant subject_type task run     roi              hemisphere condition\n",
       "1   sub-00      pilot        gc   run-001 GFP              LH         Gaze     \n",
       "2   sub-00      pilot        gc   run-001 GFP              RH         Gaze     \n",
       "3   sub-00      pilot        gc   run-001 fMotionArea      LH         Gaze     \n",
       "4   sub-00      pilot        gc   run-001 fMotionArea      RH         Gaze     \n",
       "5   sub-00      pilot        gc   run-001 Marquardt2017GFP LH         Gaze     \n",
       "6   sub-00      pilot        gc   run-001 Marquardt2017GFP RH         Gaze     \n",
       "7   sub-00      pilot        gc   run-001 GFP              LH         Cubes    \n",
       "8   sub-00      pilot        gc   run-001 GFP              RH         Cubes    \n",
       "9   sub-00      pilot        gc   run-001 fMotionArea      LH         Cubes    \n",
       "10  sub-00      pilot        gc   run-001 fMotionArea      RH         Cubes    \n",
       "11  sub-00      pilot        gc   run-001 Marquardt2017GFP LH         Cubes    \n",
       "12  sub-00      pilot        gc   run-001 Marquardt2017GFP RH         Cubes    \n",
       "13  sub-00      pilot        gc   run-002 GFP              LH         Gaze     \n",
       "14  sub-00      pilot        gc   run-002 GFP              RH         Gaze     \n",
       "15  sub-00      pilot        gc   run-002 fMotionArea      LH         Gaze     \n",
       "16  sub-00      pilot        gc   run-002 fMotionArea      RH         Gaze     \n",
       "17  sub-00      pilot        gc   run-002 Marquardt2017GFP LH         Gaze     \n",
       "18  sub-00      pilot        gc   run-002 Marquardt2017GFP RH         Gaze     \n",
       "19  sub-00      pilot        gc   run-002 GFP              LH         Cubes    \n",
       "20  sub-00      pilot        gc   run-002 GFP              RH         Cubes    \n",
       "21  sub-00      pilot        gc   run-002 fMotionArea      LH         Cubes    \n",
       "22  sub-00      pilot        gc   run-002 fMotionArea      RH         Cubes    \n",
       "23  sub-00      pilot        gc   run-002 Marquardt2017GFP LH         Cubes    \n",
       "24  sub-00      pilot        gc   run-002 Marquardt2017GFP RH         Cubes    \n",
       "25  sub-00      pilot        gc   run-003 GFP              LH         Gaze     \n",
       "26  sub-00      pilot        gc   run-003 GFP              RH         Gaze     \n",
       "27  sub-00      pilot        gc   run-003 fMotionArea      LH         Gaze     \n",
       "28  sub-00      pilot        gc   run-003 fMotionArea      RH         Gaze     \n",
       "29  sub-00      pilot        gc   run-003 Marquardt2017GFP LH         Gaze     \n",
       "30  sub-00      pilot        gc   run-003 Marquardt2017GFP RH         Gaze     \n",
       "⋮   ⋮           ⋮            ⋮    ⋮       ⋮                ⋮          ⋮        \n",
       "277 sub-0000    pilot        gic  run-015 GFP              LH         Gaze     \n",
       "278 sub-0000    pilot        gic  run-015 GFP              RH         Gaze     \n",
       "279 sub-0000    pilot        gic  run-015 GazeCubes        LH         Gaze     \n",
       "280 sub-0000    pilot        gic  run-015 GazeCubes        RH         Gaze     \n",
       "281 sub-0000    pilot        gic  run-015 fMotionArea      LH         Gaze     \n",
       "282 sub-0000    pilot        gic  run-015 fMotionArea      RH         Gaze     \n",
       "283 sub-0000    pilot        gic  run-015 GFPalt           LH         Gaze     \n",
       "284 sub-0000    pilot        gic  run-015 GFPalt           RH         Gaze     \n",
       "285 sub-0000    pilot        gic  run-015 Marquardt2017GFP LH         Gaze     \n",
       "286 sub-0000    pilot        gic  run-015 Marquardt2017GFP RH         Gaze     \n",
       "287 sub-0000    pilot        gic  run-015 GFP              LH         Cubes    \n",
       "288 sub-0000    pilot        gic  run-015 GFP              RH         Cubes    \n",
       "289 sub-0000    pilot        gic  run-015 GazeCubes        LH         Cubes    \n",
       "290 sub-0000    pilot        gic  run-015 GazeCubes        RH         Cubes    \n",
       "291 sub-0000    pilot        gic  run-015 fMotionArea      LH         Cubes    \n",
       "292 sub-0000    pilot        gic  run-015 fMotionArea      RH         Cubes    \n",
       "293 sub-0000    pilot        gic  run-015 GFPalt           LH         Cubes    \n",
       "294 sub-0000    pilot        gic  run-015 GFPalt           RH         Cubes    \n",
       "295 sub-0000    pilot        gic  run-015 Marquardt2017GFP LH         Cubes    \n",
       "296 sub-0000    pilot        gic  run-015 Marquardt2017GFP RH         Cubes    \n",
       "297 sub-0000    pilot        gic  run-015 GFP              LH         Iris     \n",
       "298 sub-0000    pilot        gic  run-015 GFP              RH         Iris     \n",
       "299 sub-0000    pilot        gic  run-015 GazeCubes        LH         Iris     \n",
       "300 sub-0000    pilot        gic  run-015 GazeCubes        RH         Iris     \n",
       "301 sub-0000    pilot        gic  run-015 fMotionArea      LH         Iris     \n",
       "302 sub-0000    pilot        gic  run-015 fMotionArea      RH         Iris     \n",
       "303 sub-0000    pilot        gic  run-015 GFPalt           LH         Iris     \n",
       "304 sub-0000    pilot        gic  run-015 GFPalt           RH         Iris     \n",
       "305 sub-0000    pilot        gic  run-015 Marquardt2017GFP LH         Iris     \n",
       "306 sub-0000    pilot        gic  run-015 Marquardt2017GFP RH         Iris     \n",
       "    y           type_of_y   \n",
       "1   -1.21211491 beta_z-score\n",
       "2    3.86039374 beta_z-score\n",
       "3    1.26630388 beta_z-score\n",
       "4    2.65328134 beta_z-score\n",
       "5    0.30278289 beta_z-score\n",
       "6    1.44977668 beta_z-score\n",
       "7    0.67338350 beta_z-score\n",
       "8    3.79211670 beta_z-score\n",
       "9    2.00931825 beta_z-score\n",
       "10   2.79427957 beta_z-score\n",
       "11   2.00017502 beta_z-score\n",
       "12   1.80343910 beta_z-score\n",
       "13   0.13137179 beta_z-score\n",
       "14   3.21187175 beta_z-score\n",
       "15   1.12685443 beta_z-score\n",
       "16   2.19580228 beta_z-score\n",
       "17   0.79185287 beta_z-score\n",
       "18   0.87536434 beta_z-score\n",
       "19   1.97367260 beta_z-score\n",
       "20   3.39225202 beta_z-score\n",
       "21   2.34146825 beta_z-score\n",
       "22   2.73809216 beta_z-score\n",
       "23   2.57038750 beta_z-score\n",
       "24   1.61865159 beta_z-score\n",
       "25   0.08950992 beta_z-score\n",
       "26   2.63175748 beta_z-score\n",
       "27   1.31566080 beta_z-score\n",
       "28   1.71677054 beta_z-score\n",
       "29   0.61471298 beta_z-score\n",
       "30   0.98854357 beta_z-score\n",
       "⋮   ⋮           ⋮           \n",
       "277  0.94435042 beta_z-score\n",
       "278  0.79384121 beta_z-score\n",
       "279  1.62482437 beta_z-score\n",
       "280  0.09652182 beta_z-score\n",
       "281  0.72595416 beta_z-score\n",
       "282  1.38833431 beta_z-score\n",
       "283  0.96352531 beta_z-score\n",
       "284 -0.21485677 beta_z-score\n",
       "285  0.85536202 beta_z-score\n",
       "286  0.41437454 beta_z-score\n",
       "287  1.42768117 beta_z-score\n",
       "288  1.81208371 beta_z-score\n",
       "289  0.89840743 beta_z-score\n",
       "290 -0.37856973 beta_z-score\n",
       "291  1.79340556 beta_z-score\n",
       "292  1.89237624 beta_z-score\n",
       "293  1.02268222 beta_z-score\n",
       "294 -0.72934786 beta_z-score\n",
       "295  1.53336238 beta_z-score\n",
       "296  1.60089229 beta_z-score\n",
       "297  0.84606751 beta_z-score\n",
       "298  0.47523887 beta_z-score\n",
       "299  1.72169038 beta_z-score\n",
       "300  0.18162000 beta_z-score\n",
       "301  1.00141378 beta_z-score\n",
       "302  1.57474393 beta_z-score\n",
       "303  1.04230422 beta_z-score\n",
       "304 -0.64849105 beta_z-score\n",
       "305  0.93386051 beta_z-score\n",
       "306  0.18480924 beta_z-score"
      ]
     },
     "metadata": {},
     "output_type": "display_data"
    }
   ],
   "source": [
    "activations_df"
   ]
  },
  {
   "cell_type": "code",
   "execution_count": null,
   "id": "17a536d5-9c86-4118-ac69-5b0ee329a985",
   "metadata": {},
   "outputs": [],
   "source": [
    "p <- cc + soa + (cc|run) (soa|run)"
   ]
  },
  {
   "cell_type": "markdown",
   "id": "3d601624-6711-4a6a-8735-bd41ef4f6f29",
   "metadata": {},
   "source": [
    "## Plot"
   ]
  },
  {
   "cell_type": "code",
   "execution_count": 370,
   "id": "df8de388-a5a4-4c8b-bb25-710f11fc44a0",
   "metadata": {},
   "outputs": [
    {
     "data": {
      "image/png": "[encoded data removed]",
      "text/plain": [
       "plot without title"
      ]
     },
     "metadata": {
      "image/png": {
       "height": 420,
       "width": 780
      }
     },
     "output_type": "display_data"
    }
   ],
   "source": [
    "out_path <- \"/home/marius/ownCloud/PhD/projects/scientific/gaze-motion/results/pilot/activations\"\n",
    "\n",
    "roi_ <- c(\"Marquardt2017GFP\")\n",
    "cons_ <- c(\"Gaze\", \"Cubes\")\n",
    "# hemisphere_ <- 'LH'\n",
    "\n",
    "filtered_data = filter(\n",
    "                activations_df, \n",
    "                subject_type == 'pilot' &\n",
    "                task %in% c('gc', 'gic') &\n",
    "                condition %in%  cons_ &\n",
    "                roi %in% roi_  \n",
    "                # hemisphere %in% c(hemisphere_)\n",
    ")\n",
    "\n",
    "options(repr.plot.width=13, repr.plot.height=7)\n",
    "\n",
    "\n",
    "p1 <- ggplot(filtered_data, aes(x = hemisphere, y = y, col=condition)) + \n",
    "geom_boxplot(aes(fill = condition), alpha = .8, colour=\"black\", size=0.7) +\n",
    "scale_fill_manual(labels = c(\"Cubes\", \"Gaze\"), values=c(\"#2c7bb6\", \"#d7191c\")) + \n",
    "geom_violinhalf(aes(x = hemisphere, fill = condition), colour=\"white\", flip = c(1, 3), width=1, alpha=0.6, position=\"identity\", size=0) +\n",
    "scale_colour_manual(labels = c(\"cubes\", \"gaze\"), values=c(\"#2c7bb6\", \"#d7191c\")) + \n",
    "ylab(\"AU\") +\n",
    "theme(\n",
    "        aspect.ratio = 1,\n",
    "        panel.background = element_rect(fill='white', colour='black'),\n",
    "        axis.text.x = element_text(color=\" black\", \n",
    "                           size=8, angle=0),\n",
    "        axis.text.y = element_text(color=\"black\", \n",
    "                           size=8, angle=0),\n",
    "        axis.title=element_text(size=8),\n",
    "        strip.text = element_text(size = 8, hjust = 0.5, \n",
    "                              vjust = 0.5),\n",
    "        legend.title=element_text(size=0),\n",
    "        legend.text=element_text(size=8)\n",
    "        ) +\n",
    "\n",
    "facet_wrap(~ participant, labeller=as_labeller(c(\"sub-00\"=\"Pilot 1\", \"sub-0000\"=\"Pilot 2\")))\n",
    "\n",
    "p1\n",
    "ggsave(\n",
    "    paste(out_path, 'results_.pdf', sep='/'),\n",
    "    p1,\n",
    "    scale = 1,\n",
    "    width = 10,\n",
    "    height = 5,\n",
    "    units = \"cm\",\n",
    "    # dpi = 300\n",
    "    device = cairo_pdf\n",
    ")"
   ]
  },
  {
   "cell_type": "code",
   "execution_count": 368,
   "id": "267152bd-4e94-46d4-afd3-31790f5d6602",
   "metadata": {},
   "outputs": [
    {
     "data": {
      "image/png": "[encoded data removed]",
      "text/plain": [
       "plot without title"
      ]
     },
     "metadata": {
      "image/png": {
       "height": 420,
       "width": 780
      }
     },
     "output_type": "display_data"
    }
   ],
   "source": [
    "out_path <- \"/home/marius/ownCloud/PhD/projects/scientific/gaze-motion/results/pilot/activations\"\n",
    "\n",
    "roi_ <- c(\"GFP\")\n",
    "cons_ <- c(\"Gaze\", \"Cubes\")\n",
    "# hemisphere_ <- 'LH'\n",
    "\n",
    "filtered_data = filter(\n",
    "                activations_df, \n",
    "                subject_type == 'pilot' &\n",
    "                task %in% c('gc', 'gic') &\n",
    "                condition %in%  cons_ &\n",
    "                roi %in% roi_  \n",
    "                # hemisphere %in% c(hemisphere_)\n",
    ")\n",
    "\n",
    "options(repr.plot.width=13, repr.plot.height=7)\n",
    "\n",
    "\n",
    "p1 <- ggplot(filtered_data, aes(x = hemisphere, y = y, col=condition)) + \n",
    "geom_boxplot(aes(fill = condition), alpha = .8, colour=\"black\", size=0.7) +\n",
    "scale_fill_manual(labels = c(\"Cubes\", \"Gaze\"), values=c(\"#2c7bb6\", \"#d7191c\")) + \n",
    "geom_violinhalf(aes(x = hemisphere, fill = condition), colour=\"white\", flip = c(1, 3), width=1, alpha=0.6, position=\"identity\", size=0) +\n",
    "scale_colour_manual(labels = c(\"cubes\", \"gaze\"), values=c(\"#2c7bb6\", \"#d7191c\")) + \n",
    "ylab(\"AU\") +\n",
    "theme(\n",
    "        aspect.ratio = 1,\n",
    "        panel.background = element_rect(fill='white', colour='black'),\n",
    "        axis.text.x = element_text(color=\" black\", \n",
    "                           size=8, angle=0),\n",
    "        axis.text.y = element_text(color=\"black\", \n",
    "                           size=8, angle=0),\n",
    "        axis.title=element_text(size=8),\n",
    "        strip.text = element_text(size = 8, hjust = 0.5, \n",
    "                              vjust = 0.5),\n",
    "        legend.title=element_text(size=0),\n",
    "        legend.text=element_text(size=8)\n",
    "        ) +\n",
    "\n",
    "facet_wrap(~ participant, labeller=as_labeller(c(\"sub-00\"=\"Pilot 1\", \"sub-0000\"=\"Pilot 2\")))\n",
    "\n",
    "p1\n",
    "ggsave(\n",
    "    paste(out_path, 'results_.pdf', sep='/'),\n",
    "    p1,\n",
    "    scale = 1,\n",
    "    width = 10,\n",
    "    height = 5,\n",
    "    units = \"cm\",\n",
    "    # dpi = 300\n",
    "    device = cairo_pdf\n",
    ")"
   ]
  },
  {
   "cell_type": "markdown",
   "id": "661ddbdd-fa7c-41ea-8a6b-f95f162f0288",
   "metadata": {},
   "source": [
    "## Differences between conditions grouped by hemisphere"
   ]
  },
  {
   "cell_type": "markdown",
   "id": "36dc7921-53c6-4c77-acad-4f9b677ff256",
   "metadata": {},
   "source": [
    "### specify null-hypotheses"
   ]
  },
  {
   "cell_type": "code",
   "execution_count": 337,
   "id": "c5d98c6e-68a0-4144-9d31-41cd1831f19b",
   "metadata": {},
   "outputs": [],
   "source": [
    "hyps_hash = hash()\n",
    "\n",
    "\n",
    "tasks <- I(list(c('gic', 'gc')))\n",
    "condition_1 <- c('Gaze')\n",
    "condition_2 <- c('Cubes')\n",
    "hyps <- c(\n",
    "    'conditionGaze = 0')\n",
    "names <- c(\n",
    "    'gic-gc_Gaze-Cubes')\n",
    "non_intercept_con <- c(\n",
    "    'b_conditionGaze'\n",
    ")\n",
    "hyps_hash[['GFP']] = data.frame(tasks, condition_1, condition_2, hyps, names, non_intercept_con)\n",
    "\n",
    "\n"
   ]
  },
  {
   "cell_type": "code",
   "execution_count": 54,
   "id": "56ee0bdc-91a8-491a-9ccc-924493f33aff",
   "metadata": {},
   "outputs": [
    {
     "data": {
      "text/plain": [
       "<hash> containing 1 key-value pair(s).\n",
       "  gGFP : gic, gc Gaze Cubes conditionGaze = 0 gic-gc_Gaze-Cubes b_conditionGaze"
      ]
     },
     "metadata": {},
     "output_type": "display_data"
    }
   ],
   "source": [
    "hyps_hash"
   ]
  },
  {
   "cell_type": "code",
   "execution_count": null,
   "id": "9772646e-5a77-474d-b9d0-6d7cb1adc9ca",
   "metadata": {},
   "outputs": [],
   "source": []
  },
  {
   "cell_type": "markdown",
   "id": "5c5d32dc-7f5e-44cd-bf4f-da919c176336",
   "metadata": {},
   "source": [
    "### specify model"
   ]
  },
  {
   "cell_type": "code",
   "execution_count": 338,
   "id": "2929b9be-36ec-49c9-bca7-64a93f7617b9",
   "metadata": {},
   "outputs": [
    {
     "data": {
      "text/html": [
       "<table class=\"dataframe\">\n",
       "<caption>A brmsprior: 12 × 9</caption>\n",
       "<thead>\n",
       "\t<tr><th scope=col>prior</th><th scope=col>class</th><th scope=col>coef</th><th scope=col>group</th><th scope=col>resp</th><th scope=col>dpar</th><th scope=col>nlpar</th><th scope=col>bound</th><th scope=col>source</th></tr>\n",
       "\t<tr><th scope=col>&lt;chr&gt;</th><th scope=col>&lt;chr&gt;</th><th scope=col>&lt;chr&gt;</th><th scope=col>&lt;chr&gt;</th><th scope=col>&lt;chr&gt;</th><th scope=col>&lt;chr&gt;</th><th scope=col>&lt;chr&gt;</th><th scope=col>&lt;chr&gt;</th><th scope=col>&lt;chr&gt;</th></tr>\n",
       "</thead>\n",
       "<tbody>\n",
       "\t<tr><td>                      </td><td>b        </td><td>             </td><td>   </td><td></td><td></td><td></td><td></td><td>default</td></tr>\n",
       "\t<tr><td>                      </td><td>b        </td><td>conditionGaze</td><td>   </td><td></td><td></td><td></td><td></td><td>default</td></tr>\n",
       "\t<tr><td>                      </td><td>b        </td><td>conditionIris</td><td>   </td><td></td><td></td><td></td><td></td><td>default</td></tr>\n",
       "\t<tr><td>lkj(1)                </td><td>cor      </td><td>             </td><td>   </td><td></td><td></td><td></td><td></td><td>default</td></tr>\n",
       "\t<tr><td>                      </td><td>cor      </td><td>             </td><td>run</td><td></td><td></td><td></td><td></td><td>default</td></tr>\n",
       "\t<tr><td>student_t(3, 0.4, 2.5)</td><td>Intercept</td><td>             </td><td>   </td><td></td><td></td><td></td><td></td><td>default</td></tr>\n",
       "\t<tr><td>student_t(3, 0, 2.5)  </td><td>sd       </td><td>             </td><td>   </td><td></td><td></td><td></td><td></td><td>default</td></tr>\n",
       "\t<tr><td>                      </td><td>sd       </td><td>             </td><td>run</td><td></td><td></td><td></td><td></td><td>default</td></tr>\n",
       "\t<tr><td>                      </td><td>sd       </td><td>conditionGaze</td><td>run</td><td></td><td></td><td></td><td></td><td>default</td></tr>\n",
       "\t<tr><td>                      </td><td>sd       </td><td>conditionIris</td><td>run</td><td></td><td></td><td></td><td></td><td>default</td></tr>\n",
       "\t<tr><td>                      </td><td>sd       </td><td>Intercept    </td><td>run</td><td></td><td></td><td></td><td></td><td>default</td></tr>\n",
       "\t<tr><td>student_t(3, 0, 2.5)  </td><td>sigma    </td><td>             </td><td>   </td><td></td><td></td><td></td><td></td><td>default</td></tr>\n",
       "</tbody>\n",
       "</table>\n"
      ],
      "text/latex": [
       "A brmsprior: 12 × 9\n",
       "\\begin{tabular}{lllllllll}\n",
       " prior & class & coef & group & resp & dpar & nlpar & bound & source\\\\\n",
       " <chr> & <chr> & <chr> & <chr> & <chr> & <chr> & <chr> & <chr> & <chr>\\\\\n",
       "\\hline\n",
       "\t                        & b         &               &     &  &  &  &  & default\\\\\n",
       "\t                        & b         & conditionGaze &     &  &  &  &  & default\\\\\n",
       "\t                        & b         & conditionIris &     &  &  &  &  & default\\\\\n",
       "\t lkj(1)                 & cor       &               &     &  &  &  &  & default\\\\\n",
       "\t                        & cor       &               & run &  &  &  &  & default\\\\\n",
       "\t student\\_t(3, 0.4, 2.5) & Intercept &               &     &  &  &  &  & default\\\\\n",
       "\t student\\_t(3, 0, 2.5)   & sd        &               &     &  &  &  &  & default\\\\\n",
       "\t                        & sd        &               & run &  &  &  &  & default\\\\\n",
       "\t                        & sd        & conditionGaze & run &  &  &  &  & default\\\\\n",
       "\t                        & sd        & conditionIris & run &  &  &  &  & default\\\\\n",
       "\t                        & sd        & Intercept     & run &  &  &  &  & default\\\\\n",
       "\t student\\_t(3, 0, 2.5)   & sigma     &               &     &  &  &  &  & default\\\\\n",
       "\\end{tabular}\n"
      ],
      "text/markdown": [
       "\n",
       "A brmsprior: 12 × 9\n",
       "\n",
       "| prior &lt;chr&gt; | class &lt;chr&gt; | coef &lt;chr&gt; | group &lt;chr&gt; | resp &lt;chr&gt; | dpar &lt;chr&gt; | nlpar &lt;chr&gt; | bound &lt;chr&gt; | source &lt;chr&gt; |\n",
       "|---|---|---|---|---|---|---|---|---|\n",
       "| <!----> | b         | <!----> | <!----> | <!----> | <!----> | <!----> | <!----> | default |\n",
       "| <!----> | b         | conditionGaze | <!----> | <!----> | <!----> | <!----> | <!----> | default |\n",
       "| <!----> | b         | conditionIris | <!----> | <!----> | <!----> | <!----> | <!----> | default |\n",
       "| lkj(1)                 | cor       | <!----> | <!----> | <!----> | <!----> | <!----> | <!----> | default |\n",
       "| <!----> | cor       | <!----> | run | <!----> | <!----> | <!----> | <!----> | default |\n",
       "| student_t(3, 0.4, 2.5) | Intercept | <!----> | <!----> | <!----> | <!----> | <!----> | <!----> | default |\n",
       "| student_t(3, 0, 2.5)   | sd        | <!----> | <!----> | <!----> | <!----> | <!----> | <!----> | default |\n",
       "| <!----> | sd        | <!----> | run | <!----> | <!----> | <!----> | <!----> | default |\n",
       "| <!----> | sd        | conditionGaze | run | <!----> | <!----> | <!----> | <!----> | default |\n",
       "| <!----> | sd        | conditionIris | run | <!----> | <!----> | <!----> | <!----> | default |\n",
       "| <!----> | sd        | Intercept     | run | <!----> | <!----> | <!----> | <!----> | default |\n",
       "| student_t(3, 0, 2.5)   | sigma     | <!----> | <!----> | <!----> | <!----> | <!----> | <!----> | default |\n",
       "\n"
      ],
      "text/plain": [
       "   prior                  class     coef          group resp dpar nlpar bound\n",
       "1                         b                                                  \n",
       "2                         b         conditionGaze                            \n",
       "3                         b         conditionIris                            \n",
       "4  lkj(1)                 cor                                                \n",
       "5                         cor                     run                        \n",
       "6  student_t(3, 0.4, 2.5) Intercept                                          \n",
       "7  student_t(3, 0, 2.5)   sd                                                 \n",
       "8                         sd                      run                        \n",
       "9                         sd        conditionGaze run                        \n",
       "10                        sd        conditionIris run                        \n",
       "11                        sd        Intercept     run                        \n",
       "12 student_t(3, 0, 2.5)   sigma                                              \n",
       "   source \n",
       "1  default\n",
       "2  default\n",
       "3  default\n",
       "4  default\n",
       "5  default\n",
       "6  default\n",
       "7  default\n",
       "8  default\n",
       "9  default\n",
       "10 default\n",
       "11 default\n",
       "12 default"
      ]
     },
     "metadata": {},
     "output_type": "display_data"
    }
   ],
   "source": [
    "mf_ <- bf(\n",
    "    y ~ condition + (condition|run)\n",
    "    # y ~ condition + (condition|run:participant) + (condition|participant)#  \n",
    ")\n",
    "get_prior(mf_,  data = activations_df)\n",
    "\n"
   ]
  },
  {
   "cell_type": "markdown",
   "id": "2fc2e081-07f8-4ef6-9ccb-3b94e488d5d3",
   "metadata": {},
   "source": [
    "### Run analysis"
   ]
  },
  {
   "cell_type": "code",
   "execution_count": 339,
   "id": "ee7173a6-d39b-4b33-ab47-762e65e189a0",
   "metadata": {},
   "outputs": [
    {
     "name": "stdout",
     "output_type": "stream",
     "text": [
      "[1] \"GFP\"\n",
      "[1] \"Gaze\"  \"Cubes\"\n"
     ]
    },
    {
     "name": "stderr",
     "output_type": "stream",
     "text": [
      "Compiling Stan program...\n",
      "\n",
      "Start sampling\n",
      "\n"
     ]
    },
    {
     "name": "stdout",
     "output_type": "stream",
     "text": [
      "[1] \"Gaze\"  \"Cubes\"\n"
     ]
    },
    {
     "name": "stderr",
     "output_type": "stream",
     "text": [
      "Compiling Stan program...\n",
      "\n",
      "Start sampling\n",
      "\n"
     ]
    }
   ],
   "source": [
    "\n",
    "load_fitted_models = FALSE\n",
    "\n",
    "out_path = \"/home/marius/ownCloud/PhD/projects/scientific/gaze-motion/results/pilot/activations/fwhm-5_run\"\n",
    "dir.create(out_path, showWarnings = FALSE)\n",
    "\n",
    "for (roi_ in c('GFP')){\n",
    "    \n",
    "    print(roi_)\n",
    "    dir.create(file.path(out_path, roi_), showWarnings = FALSE)\n",
    "    \n",
    "    hyps_df = hyps_hash[[roi_]]\n",
    "    \n",
    "    for (hemi_ in c('LH', 'RH')){\n",
    "\n",
    "        for(i in 1:nrow(hyps_df)) {       # for-loop over rows\n",
    "        # for (hyp_ in hyp_hash){\n",
    "\n",
    "            filtered_data = filter(\n",
    "                activations_df, \n",
    "                subject_type == 'pilot' &\n",
    "                task %in% hyps_df[i, 1][[1]] &\n",
    "                condition %in% c(hyps_df[i, 2][[1]], hyps_df[i, 3][[1]]) & \n",
    "                roi == roi_ & \n",
    "                hemisphere %in% c(hemi_))\n",
    "            \n",
    "            print(c(hyps_df[i, 2][[1]], hyps_df[i, 3][[1]]))\n",
    "\n",
    "            if (dim(filtered_data)[1] != 0) {\n",
    "\n",
    "                ### check if fitted model exists and can be loaded\n",
    "                file_type = \".rds\"\n",
    "                fp_model = file.path(file.path(out_path, roi_), \n",
    "                                  paste(\n",
    "                                    paste(paste(roi_, hemi_, sep='-'), hyps_df[i, 5][[1]], sep=\"_\"), \n",
    "                                    file_type, sep = \"\")\n",
    "                                  )\n",
    "                \n",
    "                if(load_fitted_models & file.exists(fp_model)) {\n",
    "                    m <- readRDS(fp_model)\n",
    "                } else {\n",
    "                \n",
    "\n",
    "                    ## truncated priors:  effect only\n",
    "                    priors_ = c(\n",
    "                        set_prior('normal(0, 10)', class='b', lb=-5, ub=5)\n",
    "                    )\n",
    " \n",
    "\n",
    "                    #\n",
    "                    capture.output({\n",
    "                        m = brm(\n",
    "                            mf_, \n",
    "                            data = filtered_data, \n",
    "                            prior = priors_,\n",
    "                            sample_prior = TRUE, \n",
    "                            family = gaussian(link=\"identity\"),\n",
    "                            chains = 4,\n",
    "                            # iter = 1,\n",
    "                            cores = 4,\n",
    "                            save_pars = save_pars(all=TRUE),\n",
    "                            control = list(adapt_delta = 0.9, max_treedepth = 20))\n",
    "                        }, \n",
    "                    file=\"rstan.modelfit.output\")\n",
    "\n",
    "                    ### store results                \n",
    "                    file_type = \".rds\"\n",
    "                    saveRDS(m, fp_model)\n",
    "                    \n",
    "                }\n",
    "\n",
    "                file_type = \"_summary.txt\"\n",
    "                s <- summary(m)\n",
    "                capture.output(s, file=file.path(file.path(out_path, roi_), \n",
    "                                  paste(\n",
    "                                    paste(paste(roi_, hemi_, sep='-'), hyps_df[i, 5][[1]], sep=\"_\"), \n",
    "                                    file_type, sep = \"\")\n",
    "                                  )\n",
    "                               )\n",
    "\n",
    "                file_type = \"_conditional-effects.pdf\"\n",
    "                pdf(file.path(file.path(out_path, roi_), \n",
    "                                  paste(\n",
    "                                    paste(paste(roi_, hemi_, sep='-'), hyps_df[i, 5][[1]], sep=\"_\"), \n",
    "                                    file_type, sep = \"\"\n",
    "                                    )\n",
    "                              ),\n",
    "                    width = 3, # The width of the plot in inches\n",
    "                    height = 3\n",
    "                    )\n",
    "                plot(conditional_effects(m, robust = TRUE), points = TRUE, point_args=c(size=0.5,width=0.1), ask = FALSE, ylim=c(3,-3))\n",
    "                dev.off()\n",
    "\n",
    "                \n",
    "                file_type = \"_posterior_draws.pdf\"\n",
    "                pdf(file.path(file.path(out_path, roi_), \n",
    "                                  paste(\n",
    "                                    paste(paste(roi_, hemi_, sep='-'), hyps_df[i, 5][[1]], sep=\"_\"), \n",
    "                                    file_type, sep = \"\"\n",
    "                                    )\n",
    "                              ),\n",
    "                    width = 4, # The width of the plot in inches\n",
    "                    height = 3\n",
    "                    )\n",
    "                print(m %>%\n",
    "                    gather_draws(!!sym(paste0(get_variables(m)[1])), !!sym(paste0(get_variables(m)[2]))) %>%\n",
    "                    mutate() %>%\n",
    "                    ggplot(aes(x = .variable, y = .value)) +\n",
    "                    stat_halfeye(size=0.01))\n",
    "                dev.off()\n",
    "\n",
    "                \n",
    "                hyp <- hyps_df[i, 4][[1]]\n",
    "                hyp <- hypothesis(m, hyp)\n",
    "                file_type = \"_hypothesis-test_BF.txt\"\n",
    "                capture.output(hyp[1], file=file.path(file.path(out_path, roi_), \n",
    "                                  paste(\n",
    "                                    paste(paste(roi_, hemi_, sep='-'), hyps_df[i, 5][[1]], sep=\"_\"), \n",
    "                                    file_type, sep = \"\")\n",
    "                                  )\n",
    "                               )\n",
    "                \n",
    "                file_type = \"_posterior-probability.txt\"\n",
    "                pp_ = colMeans(hyp$samples > 0)\n",
    "                capture.output(pp_, file=file.path(file.path(out_path, roi_), \n",
    "                                  paste(\n",
    "                                    paste(paste(roi_, hemi_, sep='-'), hyps_df[i, 5][[1]], sep=\"_\"), \n",
    "                                    file_type, sep = \"\")\n",
    "                                  )\n",
    "                               )\n",
    "                \n",
    "                \n",
    "                file_type = \"_hypothesis-test_prior-posterior.pdf\"\n",
    "                pdf(file.path(file.path(out_path, roi_), \n",
    "                                  paste(\n",
    "                                    paste(paste(roi_, hemi_, sep='-'), hyps_df[i, 5][[1]], sep=\"_\"), \n",
    "                                    file_type, sep = \"\"\n",
    "                                    )\n",
    "                              ),\n",
    "                    width = 4, # The width of the plot in inches\n",
    "                    height = 3\n",
    "                    )\n",
    "                plot(hyp, chars = NULL)\n",
    "                dev.off()\n",
    "                \n",
    "                #\n",
    "                file_type = \"_pairs.pdf\"\n",
    "                pdf(file.path(file.path(out_path, roi_), \n",
    "                                  paste(\n",
    "                                    paste(paste(roi_, hemi_, sep='-'), hyps_df[i, 5][[1]], sep=\"_\"), \n",
    "                                    file_type, sep = \"\"\n",
    "                                    )\n",
    "                              ),\n",
    "                    width = 15, # The width of the plot in inches\n",
    "                    height = 10\n",
    "                    )\n",
    "                plot(pairs(m))\n",
    "                dev.off()\n",
    "                \n",
    "            }else {\n",
    "                \n",
    "                print(\"*** NOT DATA FOUND FOR...\")\n",
    "                print(hyps_df[i, 1][[1]])\n",
    "                print(c(hyps_df[i, 2][[1]], hyps_df[i, 3][[1]]))\n",
    "                print(roi_)\n",
    "                print(c(hemi_))\n",
    "                \n",
    "            }\n",
    "        }\n",
    "    }    \n",
    "}"
   ]
  },
  {
   "cell_type": "markdown",
   "id": "fd8b9690-16b8-418b-baf1-c10550ee8003",
   "metadata": {},
   "source": [
    "## Differences between hemispheres grouped by condition"
   ]
  },
  {
   "cell_type": "markdown",
   "id": "1d3583ec-c257-4d58-995a-fd49520fe659",
   "metadata": {},
   "source": [
    "### specify null-hypothese"
   ]
  },
  {
   "cell_type": "code",
   "execution_count": 348,
   "id": "03ed8cca-bf99-4c8b-8afb-0871cf570c2d",
   "metadata": {},
   "outputs": [],
   "source": [
    "hyps_hash = hash()\n",
    "\n",
    "\n",
    "tasks <- I(list(c('gic', 'gc')))\n",
    "condition_1 <- c('LH')\n",
    "condition_2 <- c('RH')\n",
    "hyps <- c(\n",
    "    'hemisphereRH = 0')\n",
    "names <- c(\n",
    "    'gic-gc_LH-RH')\n",
    "non_intercept_con <- c(\n",
    "    'b_hemisphereRH'\n",
    ")\n",
    "hyps_hash[['GFP']] = data.frame(tasks, condition_1, condition_2, hyps, names, non_intercept_con)\n",
    "\n",
    "\n"
   ]
  },
  {
   "cell_type": "markdown",
   "id": "9a199273-1fdf-4328-918b-8ec006deb8c5",
   "metadata": {},
   "source": [
    "### specify model"
   ]
  },
  {
   "cell_type": "code",
   "execution_count": 349,
   "id": "9db68da1-f134-4b84-a177-53370593e2c3",
   "metadata": {},
   "outputs": [
    {
     "data": {
      "text/html": [
       "<table class=\"dataframe\">\n",
       "<caption>A brmsprior: 10 × 9</caption>\n",
       "<thead>\n",
       "\t<tr><th scope=col>prior</th><th scope=col>class</th><th scope=col>coef</th><th scope=col>group</th><th scope=col>resp</th><th scope=col>dpar</th><th scope=col>nlpar</th><th scope=col>bound</th><th scope=col>source</th></tr>\n",
       "\t<tr><th scope=col>&lt;chr&gt;</th><th scope=col>&lt;chr&gt;</th><th scope=col>&lt;chr&gt;</th><th scope=col>&lt;chr&gt;</th><th scope=col>&lt;chr&gt;</th><th scope=col>&lt;chr&gt;</th><th scope=col>&lt;chr&gt;</th><th scope=col>&lt;chr&gt;</th><th scope=col>&lt;chr&gt;</th></tr>\n",
       "</thead>\n",
       "<tbody>\n",
       "\t<tr><td>                      </td><td>b        </td><td>            </td><td>   </td><td></td><td></td><td></td><td></td><td>default</td></tr>\n",
       "\t<tr><td>                      </td><td>b        </td><td>hemisphereRH</td><td>   </td><td></td><td></td><td></td><td></td><td>default</td></tr>\n",
       "\t<tr><td>lkj(1)                </td><td>cor      </td><td>            </td><td>   </td><td></td><td></td><td></td><td></td><td>default</td></tr>\n",
       "\t<tr><td>                      </td><td>cor      </td><td>            </td><td>run</td><td></td><td></td><td></td><td></td><td>default</td></tr>\n",
       "\t<tr><td>student_t(3, 0.4, 2.5)</td><td>Intercept</td><td>            </td><td>   </td><td></td><td></td><td></td><td></td><td>default</td></tr>\n",
       "\t<tr><td>student_t(3, 0, 2.5)  </td><td>sd       </td><td>            </td><td>   </td><td></td><td></td><td></td><td></td><td>default</td></tr>\n",
       "\t<tr><td>                      </td><td>sd       </td><td>            </td><td>run</td><td></td><td></td><td></td><td></td><td>default</td></tr>\n",
       "\t<tr><td>                      </td><td>sd       </td><td>hemisphereRH</td><td>run</td><td></td><td></td><td></td><td></td><td>default</td></tr>\n",
       "\t<tr><td>                      </td><td>sd       </td><td>Intercept   </td><td>run</td><td></td><td></td><td></td><td></td><td>default</td></tr>\n",
       "\t<tr><td>student_t(3, 0, 2.5)  </td><td>sigma    </td><td>            </td><td>   </td><td></td><td></td><td></td><td></td><td>default</td></tr>\n",
       "</tbody>\n",
       "</table>\n"
      ],
      "text/latex": [
       "A brmsprior: 10 × 9\n",
       "\\begin{tabular}{lllllllll}\n",
       " prior & class & coef & group & resp & dpar & nlpar & bound & source\\\\\n",
       " <chr> & <chr> & <chr> & <chr> & <chr> & <chr> & <chr> & <chr> & <chr>\\\\\n",
       "\\hline\n",
       "\t                        & b         &              &     &  &  &  &  & default\\\\\n",
       "\t                        & b         & hemisphereRH &     &  &  &  &  & default\\\\\n",
       "\t lkj(1)                 & cor       &              &     &  &  &  &  & default\\\\\n",
       "\t                        & cor       &              & run &  &  &  &  & default\\\\\n",
       "\t student\\_t(3, 0.4, 2.5) & Intercept &              &     &  &  &  &  & default\\\\\n",
       "\t student\\_t(3, 0, 2.5)   & sd        &              &     &  &  &  &  & default\\\\\n",
       "\t                        & sd        &              & run &  &  &  &  & default\\\\\n",
       "\t                        & sd        & hemisphereRH & run &  &  &  &  & default\\\\\n",
       "\t                        & sd        & Intercept    & run &  &  &  &  & default\\\\\n",
       "\t student\\_t(3, 0, 2.5)   & sigma     &              &     &  &  &  &  & default\\\\\n",
       "\\end{tabular}\n"
      ],
      "text/markdown": [
       "\n",
       "A brmsprior: 10 × 9\n",
       "\n",
       "| prior &lt;chr&gt; | class &lt;chr&gt; | coef &lt;chr&gt; | group &lt;chr&gt; | resp &lt;chr&gt; | dpar &lt;chr&gt; | nlpar &lt;chr&gt; | bound &lt;chr&gt; | source &lt;chr&gt; |\n",
       "|---|---|---|---|---|---|---|---|---|\n",
       "| <!----> | b         | <!----> | <!----> | <!----> | <!----> | <!----> | <!----> | default |\n",
       "| <!----> | b         | hemisphereRH | <!----> | <!----> | <!----> | <!----> | <!----> | default |\n",
       "| lkj(1)                 | cor       | <!----> | <!----> | <!----> | <!----> | <!----> | <!----> | default |\n",
       "| <!----> | cor       | <!----> | run | <!----> | <!----> | <!----> | <!----> | default |\n",
       "| student_t(3, 0.4, 2.5) | Intercept | <!----> | <!----> | <!----> | <!----> | <!----> | <!----> | default |\n",
       "| student_t(3, 0, 2.5)   | sd        | <!----> | <!----> | <!----> | <!----> | <!----> | <!----> | default |\n",
       "| <!----> | sd        | <!----> | run | <!----> | <!----> | <!----> | <!----> | default |\n",
       "| <!----> | sd        | hemisphereRH | run | <!----> | <!----> | <!----> | <!----> | default |\n",
       "| <!----> | sd        | Intercept    | run | <!----> | <!----> | <!----> | <!----> | default |\n",
       "| student_t(3, 0, 2.5)   | sigma     | <!----> | <!----> | <!----> | <!----> | <!----> | <!----> | default |\n",
       "\n"
      ],
      "text/plain": [
       "   prior                  class     coef         group resp dpar nlpar bound\n",
       "1                         b                                                 \n",
       "2                         b         hemisphereRH                            \n",
       "3  lkj(1)                 cor                                               \n",
       "4                         cor                    run                        \n",
       "5  student_t(3, 0.4, 2.5) Intercept                                         \n",
       "6  student_t(3, 0, 2.5)   sd                                                \n",
       "7                         sd                     run                        \n",
       "8                         sd        hemisphereRH run                        \n",
       "9                         sd        Intercept    run                        \n",
       "10 student_t(3, 0, 2.5)   sigma                                             \n",
       "   source \n",
       "1  default\n",
       "2  default\n",
       "3  default\n",
       "4  default\n",
       "5  default\n",
       "6  default\n",
       "7  default\n",
       "8  default\n",
       "9  default\n",
       "10 default"
      ]
     },
     "metadata": {},
     "output_type": "display_data"
    }
   ],
   "source": [
    "mf_ <- bf(\n",
    "    y ~ hemisphere + (hemisphere|run)\n",
    "    # y ~ condition + (condition|run:participant) + (condition|participant)#  \n",
    ")\n",
    "get_prior(mf_,  data = activations_df)\n",
    "\n"
   ]
  },
  {
   "cell_type": "markdown",
   "id": "4aefe628-4865-48ed-8b94-52d960fb3117",
   "metadata": {},
   "source": [
    "### Run analysis"
   ]
  },
  {
   "cell_type": "code",
   "execution_count": 350,
   "id": "3cd1eba4-da26-41ae-b3a4-3a7fefb6ec2a",
   "metadata": {},
   "outputs": [
    {
     "name": "stdout",
     "output_type": "stream",
     "text": [
      "[1] \"GFP\"\n",
      "[1] \"Cubes\"\n",
      "[1] \"LH\" \"RH\"\n"
     ]
    },
    {
     "name": "stderr",
     "output_type": "stream",
     "text": [
      "Compiling Stan program...\n",
      "\n",
      "Start sampling\n",
      "\n"
     ]
    },
    {
     "ename": "ERROR",
     "evalue": "Error in saveRDS(m, fp_model): error writing to connection\n",
     "output_type": "error",
     "traceback": [
      "Error in saveRDS(m, fp_model): error writing to connection\nTraceback:\n",
      "1. saveRDS(m, fp_model)"
     ]
    }
   ],
   "source": [
    "\n",
    "load_fitted_models = FALSE\n",
    "\n",
    "out_path = \"/home/marius/ownCloud/PhD/projects/scientific/gaze-motion/results/pilot/activations/fwhm-5_run\"\n",
    "dir.create(out_path, showWarnings = FALSE)\n",
    "\n",
    "for (roi_ in c('GFP')){\n",
    "    \n",
    "    print(roi_)\n",
    "    dir.create(file.path(out_path, roi_), showWarnings = FALSE)\n",
    "    \n",
    "    hyps_df = hyps_hash[[roi_]]\n",
    "    \n",
    "    for (con_ in c('Cubes', 'Gaze')){\n",
    "\n",
    "        for(i in 1:nrow(hyps_df)) {       # for-loop over rows\n",
    "        # for (hyp_ in hyp_hash){\n",
    "\n",
    "            filtered_data = filter(\n",
    "                activations_df, \n",
    "                subject_type == 'pilot' &\n",
    "                task %in% hyps_df[i, 1][[1]] &\n",
    "                condition == con_ & \n",
    "                roi == roi_)\n",
    "            \n",
    "            print(con_)\n",
    "            print(c(hyps_df[i, 2][[1]], hyps_df[i, 3][[1]]))\n",
    "\n",
    "            if (dim(filtered_data)[1] != 0) {\n",
    "\n",
    "                ### check if fitted model exists and can be loaded\n",
    "                file_type = \".rds\"\n",
    "                fp_model = file.path(file.path(out_path, roi_), \n",
    "                                  paste(\n",
    "                                    paste(paste(roi_, con_, sep='-'), hyps_df[i, 5][[1]], sep=\"_\"), \n",
    "                                    file_type, sep = \"\")\n",
    "                                  )\n",
    "                \n",
    "                if(load_fitted_models & file.exists(fp_model)) {\n",
    "                    m <- readRDS(fp_model)\n",
    "                } else {\n",
    "\n",
    "                    ## truncated priors:  effect only\n",
    "                    priors_ = c(\n",
    "                        set_prior('normal(0, 10)', class='b', lb=-5, ub=5)\n",
    "                    )\n",
    "\n",
    "                    #\n",
    "                    capture.output({\n",
    "                        m = brm(\n",
    "                            mf_, \n",
    "                            data = filtered_data, \n",
    "                            prior = priors_,\n",
    "                            sample_prior = TRUE, \n",
    "                            family = gaussian(link=\"identity\"),\n",
    "                            chains = 4,\n",
    "                            # iter = 1,\n",
    "                            cores = 4,\n",
    "                            save_pars = save_pars(all=TRUE),\n",
    "                            control = list(adapt_delta = 0.9, max_treedepth = 20))\n",
    "                        }, \n",
    "                    file=\"rstan.modelfit.output\")\n",
    "\n",
    "                    ### store results                \n",
    "                    file_type = \".rds\"\n",
    "                    saveRDS(m, fp_model)\n",
    "                    \n",
    "                }\n",
    "\n",
    "                file_type = \"_summary.txt\"\n",
    "                s <- summary(m)\n",
    "                capture.output(s, file=file.path(file.path(out_path, roi_), \n",
    "                                  paste(\n",
    "                                    paste(paste(roi_, con_, sep='-'), hyps_df[i, 5][[1]], sep=\"_\"), \n",
    "                                    file_type, sep = \"\")\n",
    "                                  )\n",
    "                               )\n",
    "\n",
    "                file_type = \"_conditional-effects.pdf\"\n",
    "                pdf(file.path(file.path(out_path, roi_), \n",
    "                                  paste(\n",
    "                                    paste(paste(roi_, con_, sep='-'), hyps_df[i, 5][[1]], sep=\"_\"), \n",
    "                                    file_type, sep = \"\"\n",
    "                                    )\n",
    "                              ),\n",
    "                    width = 3, # The width of the plot in inches\n",
    "                    height = 3\n",
    "                    )\n",
    "                plot(conditional_effects(m, robust = TRUE), points = TRUE, point_args=c(size=0.5,width=0.1), ask = FALSE, ylim=c(3,-3))\n",
    "                dev.off()\n",
    "\n",
    "                \n",
    "                file_type = \"_posterior_draws.pdf\"\n",
    "                pdf(file.path(file.path(out_path, roi_), \n",
    "                                  paste(\n",
    "                                    paste(paste(roi_, con_, sep='-'), hyps_df[i, 5][[1]], sep=\"_\"), \n",
    "                                    file_type, sep = \"\"\n",
    "                                    )\n",
    "                              ),\n",
    "                    width = 4, # The width of the plot in inches\n",
    "                    height = 3\n",
    "                    )\n",
    "                print(m %>%\n",
    "                    gather_draws(!!sym(paste0(get_variables(m)[1])), !!sym(paste0(get_variables(m)[2]))) %>%\n",
    "                    mutate() %>%\n",
    "                    ggplot(aes(x = .variable, y = .value)) +\n",
    "                    stat_halfeye(size=0.01))\n",
    "                dev.off()\n",
    "\n",
    "                \n",
    "                hyp <- hyps_df[i, 4][[1]]\n",
    "                hyp <- hypothesis(m, hyp)\n",
    "                file_type = \"_hypothesis-test_BF.txt\"\n",
    "                capture.output(hyp[1], file=file.path(file.path(out_path, roi_), \n",
    "                                  paste(\n",
    "                                    paste(paste(roi_, con_, sep='-'), hyps_df[i, 5][[1]], sep=\"_\"), \n",
    "                                    file_type, sep = \"\")\n",
    "                                  )\n",
    "                               )\n",
    "                \n",
    "                file_type = \"_posterior-probability.txt\"\n",
    "                pp_ = colMeans(hyp$samples > 0)\n",
    "                capture.output(pp_, file=file.path(file.path(out_path, roi_), \n",
    "                                  paste(\n",
    "                                    paste(paste(roi_, con_, sep='-'), hyps_df[i, 5][[1]], sep=\"_\"), \n",
    "                                    file_type, sep = \"\")\n",
    "                                  )\n",
    "                               )\n",
    "                \n",
    "                \n",
    "                file_type = \"_hypothesis-test_prior-posterior.pdf\"\n",
    "                pdf(file.path(file.path(out_path, roi_), \n",
    "                                  paste(\n",
    "                                    paste(paste(roi_, con_, sep='-'), hyps_df[i, 5][[1]], sep=\"_\"), \n",
    "                                    file_type, sep = \"\"\n",
    "                                    )\n",
    "                              ),\n",
    "                    width = 4, # The width of the plot in inches\n",
    "                    height = 3\n",
    "                    )\n",
    "                plot(hyp, chars = NULL)\n",
    "                dev.off()\n",
    "                \n",
    "                #\n",
    "                file_type = \"_pairs.pdf\"\n",
    "                pdf(file.path(file.path(out_path, roi_), \n",
    "                                  paste(\n",
    "                                    paste(paste(roi_, con_, sep='-'), hyps_df[i, 5][[1]], sep=\"_\"), \n",
    "                                    file_type, sep = \"\"\n",
    "                                    )\n",
    "                              ),\n",
    "                    width = 15, # The width of the plot in inches\n",
    "                    height = 10\n",
    "                    )\n",
    "                plot(pairs(m))\n",
    "                dev.off()\n",
    "                \n",
    "            }else {\n",
    "                \n",
    "                print(\"*** NOT DATA FOUND FOR...\")\n",
    "                print(hyps_df[i, 1][[1]])\n",
    "                print(c(hyps_df[i, 2][[1]], hyps_df[i, 3][[1]]))\n",
    "                print(roi_)\n",
    "                print(c(con_))\n",
    "                \n",
    "            }\n",
    "        }\n",
    "    }    \n",
    "}"
   ]
  },
  {
   "cell_type": "code",
   "execution_count": 347,
   "id": "af10b564-b13a-455d-b21b-8906013224bd",
   "metadata": {},
   "outputs": [
    {
     "data": {
      "text/plain": [
       "NULL"
      ]
     },
     "metadata": {},
     "output_type": "display_data"
    }
   ],
   "source": [
    "nrow(hyps_df)"
   ]
  },
  {
   "cell_type": "code",
   "execution_count": null,
   "id": "616731d8-a393-4351-9970-2f4f40471bd0",
   "metadata": {},
   "outputs": [],
   "source": [
    "hyp <- hyps_df[i, 4][[1]]\n",
    "hyp <- hypothesis(m, hyp)"
   ]
  },
  {
   "cell_type": "code",
   "execution_count": null,
   "id": "812fb5a6-7783-45ec-a8fa-79697ff89b95",
   "metadata": {},
   "outputs": [],
   "source": []
  },
  {
   "cell_type": "code",
   "execution_count": null,
   "id": "bc432b55-2970-4e40-a0f0-e91da576fe70",
   "metadata": {},
   "outputs": [],
   "source": []
  },
  {
   "cell_type": "markdown",
   "id": "4dd56fa9-2762-46db-8a66-85705d5510b8",
   "metadata": {},
   "source": [
    "# Correlations of HRFs"
   ]
  },
  {
   "cell_type": "markdown",
   "id": "9768f098-c4b6-4b8e-894d-05908d3aa0c8",
   "metadata": {},
   "source": [
    "## Load data"
   ]
  },
  {
   "cell_type": "code",
   "execution_count": 363,
   "id": "d332a0ec-2cab-4a09-890b-dc4f0ba486ab",
   "metadata": {},
   "outputs": [],
   "source": [
    "# load and prepare data\n",
    "# tc_df <- read.csv(file = \"/Users/mariusgorner/ownCloud/PhD/projects/scientific/gaze-motion/results/from_nideconv/tc_df.csv\", sep='\\t', check.names=FALSE)\n",
    "tc_df <- read.csv(file = \"/home/marius/ownCloud/PhD/projects/scientific/gaze-motion/data/pilot/hrf_estimates/tc_df_fwhm8.csv\", sep='\\t', check.names=FALSE)\n",
    "\n",
    "tc_df$participant = factor(tc_df$participant)\n",
    "tc_df$session = factor(tc_df$session)\n",
    "tc_df$task = factor(tc_df$task)\n",
    "tc_df$covariate = factor(tc_df$covariate)\n",
    "tc_df$covariate = factor(tc_df$covariate)\n",
    "\n",
    "tc_df = melt(tc_df, id=c(\"participant\", \"session\", 'task', 'event-type', 'covariate', 'time'))\n",
    "names(tc_df)[names(tc_df) == 'event-type'] <- 'event.type'\n",
    "tc_df$event.type = factor(tc_df$event.type)\n",
    "\n",
    "### load dataframe with pairings\n",
    "# comparison_df <- read.csv(file = \"/Users/mariusgorner/ownCloud/PhD/projects/scientific/gaze-motion/results/from_nideconv/correlation-analysis_selection.csv\", sep='\\t', na.strings = c(\"\", \"NA\"))\n",
    "comparison_df <- read.csv(file = \"/home/marius/ownCloud/PhD/projects/scientific/gaze-motion/data/pilot/hrf_estimates/correlation-analysis_selection.csv\", sep='\\t', na.strings = c(\"\", \"NA\"))\n",
    "\n",
    "\n",
    "comparison_df = comparison_df %>% na.omit()\n",
    "rownames(comparison_df) <- 1:nrow(comparison_df)\n",
    "\n"
   ]
  },
  {
   "cell_type": "code",
   "execution_count": 316,
   "id": "b312ff9b-282a-45be-a84b-411bd5e8a929",
   "metadata": {
    "collapsed": true,
    "jupyter": {
     "outputs_hidden": true
    },
    "tags": []
   },
   "outputs": [
    {
     "data": {
      "text/html": [
       "<table class=\"dataframe\">\n",
       "<caption>A data.frame: 44640 × 8</caption>\n",
       "<thead>\n",
       "\t<tr><th scope=col>participant</th><th scope=col>session</th><th scope=col>task</th><th scope=col>event.type</th><th scope=col>covariate</th><th scope=col>time</th><th scope=col>variable</th><th scope=col>value</th></tr>\n",
       "\t<tr><th scope=col>&lt;fct&gt;</th><th scope=col>&lt;fct&gt;</th><th scope=col>&lt;fct&gt;</th><th scope=col>&lt;fct&gt;</th><th scope=col>&lt;fct&gt;</th><th scope=col>&lt;dbl&gt;</th><th scope=col>&lt;fct&gt;</th><th scope=col>&lt;dbl&gt;</th></tr>\n",
       "</thead>\n",
       "<tbody>\n",
       "\t<tr><td>sub-00</td><td>ses-gc</td><td>gc</td><td>Cubes-1</td><td>intercept</td><td>0.000</td><td>GFP-left</td><td>0.03132404</td></tr>\n",
       "\t<tr><td>sub-00</td><td>ses-gc</td><td>gc</td><td>Cubes-1</td><td>intercept</td><td>0.075</td><td>GFP-left</td><td>0.02855353</td></tr>\n",
       "\t<tr><td>sub-00</td><td>ses-gc</td><td>gc</td><td>Cubes-1</td><td>intercept</td><td>0.150</td><td>GFP-left</td><td>0.02542774</td></tr>\n",
       "\t<tr><td>sub-00</td><td>ses-gc</td><td>gc</td><td>Cubes-1</td><td>intercept</td><td>0.225</td><td>GFP-left</td><td>0.02216856</td></tr>\n",
       "\t<tr><td>sub-00</td><td>ses-gc</td><td>gc</td><td>Cubes-1</td><td>intercept</td><td>0.300</td><td>GFP-left</td><td>0.01901017</td></tr>\n",
       "\t<tr><td>sub-00</td><td>ses-gc</td><td>gc</td><td>Cubes-1</td><td>intercept</td><td>0.375</td><td>GFP-left</td><td>0.01619492</td></tr>\n",
       "\t<tr><td>sub-00</td><td>ses-gc</td><td>gc</td><td>Cubes-1</td><td>intercept</td><td>0.450</td><td>GFP-left</td><td>0.01396917</td></tr>\n",
       "\t<tr><td>sub-00</td><td>ses-gc</td><td>gc</td><td>Cubes-1</td><td>intercept</td><td>0.525</td><td>GFP-left</td><td>0.01257882</td></tr>\n",
       "\t<tr><td>sub-00</td><td>ses-gc</td><td>gc</td><td>Cubes-1</td><td>intercept</td><td>0.600</td><td>GFP-left</td><td>0.01226496</td></tr>\n",
       "\t<tr><td>sub-00</td><td>ses-gc</td><td>gc</td><td>Cubes-1</td><td>intercept</td><td>0.675</td><td>GFP-left</td><td>0.01325939</td></tr>\n",
       "\t<tr><td>sub-00</td><td>ses-gc</td><td>gc</td><td>Cubes-1</td><td>intercept</td><td>0.750</td><td>GFP-left</td><td>0.01578037</td></tr>\n",
       "\t<tr><td>sub-00</td><td>ses-gc</td><td>gc</td><td>Cubes-1</td><td>intercept</td><td>0.825</td><td>GFP-left</td><td>0.02002846</td></tr>\n",
       "\t<tr><td>sub-00</td><td>ses-gc</td><td>gc</td><td>Cubes-1</td><td>intercept</td><td>0.900</td><td>GFP-left</td><td>0.02618271</td></tr>\n",
       "\t<tr><td>sub-00</td><td>ses-gc</td><td>gc</td><td>Cubes-1</td><td>intercept</td><td>0.975</td><td>GFP-left</td><td>0.03439705</td></tr>\n",
       "\t<tr><td>sub-00</td><td>ses-gc</td><td>gc</td><td>Cubes-1</td><td>intercept</td><td>1.050</td><td>GFP-left</td><td>0.04479721</td></tr>\n",
       "\t<tr><td>sub-00</td><td>ses-gc</td><td>gc</td><td>Cubes-1</td><td>intercept</td><td>1.125</td><td>GFP-left</td><td>0.05747798</td></tr>\n",
       "\t<tr><td>sub-00</td><td>ses-gc</td><td>gc</td><td>Cubes-1</td><td>intercept</td><td>1.200</td><td>GFP-left</td><td>0.07250104</td></tr>\n",
       "\t<tr><td>sub-00</td><td>ses-gc</td><td>gc</td><td>Cubes-1</td><td>intercept</td><td>1.275</td><td>GFP-left</td><td>0.08989328</td></tr>\n",
       "\t<tr><td>sub-00</td><td>ses-gc</td><td>gc</td><td>Cubes-1</td><td>intercept</td><td>1.350</td><td>GFP-left</td><td>0.10964574</td></tr>\n",
       "\t<tr><td>sub-00</td><td>ses-gc</td><td>gc</td><td>Cubes-1</td><td>intercept</td><td>1.425</td><td>GFP-left</td><td>0.13171310</td></tr>\n",
       "\t<tr><td>sub-00</td><td>ses-gc</td><td>gc</td><td>Cubes-1</td><td>intercept</td><td>1.500</td><td>GFP-left</td><td>0.15601378</td></tr>\n",
       "\t<tr><td>sub-00</td><td>ses-gc</td><td>gc</td><td>Cubes-1</td><td>intercept</td><td>1.575</td><td>GFP-left</td><td>0.18243067</td></tr>\n",
       "\t<tr><td>sub-00</td><td>ses-gc</td><td>gc</td><td>Cubes-1</td><td>intercept</td><td>1.650</td><td>GFP-left</td><td>0.21081242</td></tr>\n",
       "\t<tr><td>sub-00</td><td>ses-gc</td><td>gc</td><td>Cubes-1</td><td>intercept</td><td>1.725</td><td>GFP-left</td><td>0.24097534</td></tr>\n",
       "\t<tr><td>sub-00</td><td>ses-gc</td><td>gc</td><td>Cubes-1</td><td>intercept</td><td>1.800</td><td>GFP-left</td><td>0.27270579</td></tr>\n",
       "\t<tr><td>sub-00</td><td>ses-gc</td><td>gc</td><td>Cubes-1</td><td>intercept</td><td>1.875</td><td>GFP-left</td><td>0.30576309</td></tr>\n",
       "\t<tr><td>sub-00</td><td>ses-gc</td><td>gc</td><td>Cubes-1</td><td>intercept</td><td>1.950</td><td>GFP-left</td><td>0.33988290</td></tr>\n",
       "\t<tr><td>sub-00</td><td>ses-gc</td><td>gc</td><td>Cubes-1</td><td>intercept</td><td>2.025</td><td>GFP-left</td><td>0.37478098</td></tr>\n",
       "\t<tr><td>sub-00</td><td>ses-gc</td><td>gc</td><td>Cubes-1</td><td>intercept</td><td>2.100</td><td>GFP-left</td><td>0.41015722</td></tr>\n",
       "\t<tr><td>sub-00</td><td>ses-gc</td><td>gc</td><td>Cubes-1</td><td>intercept</td><td>2.175</td><td>GFP-left</td><td>0.44570003</td></tr>\n",
       "\t<tr><td>⋮</td><td>⋮</td><td>⋮</td><td>⋮</td><td>⋮</td><td>⋮</td><td>⋮</td><td>⋮</td></tr>\n",
       "\t<tr><td>sub-0000</td><td>ses-sep</td><td>go</td><td>Gaze-3</td><td>intercept</td><td>11.250</td><td>Marquardt2017GFP-right</td><td>-0.17853716</td></tr>\n",
       "\t<tr><td>sub-0000</td><td>ses-sep</td><td>go</td><td>Gaze-3</td><td>intercept</td><td>11.325</td><td>Marquardt2017GFP-right</td><td>-0.17873941</td></tr>\n",
       "\t<tr><td>sub-0000</td><td>ses-sep</td><td>go</td><td>Gaze-3</td><td>intercept</td><td>11.400</td><td>Marquardt2017GFP-right</td><td>-0.17831907</td></tr>\n",
       "\t<tr><td>sub-0000</td><td>ses-sep</td><td>go</td><td>Gaze-3</td><td>intercept</td><td>11.475</td><td>Marquardt2017GFP-right</td><td>-0.17723886</td></tr>\n",
       "\t<tr><td>sub-0000</td><td>ses-sep</td><td>go</td><td>Gaze-3</td><td>intercept</td><td>11.550</td><td>Marquardt2017GFP-right</td><td>-0.17547221</td></tr>\n",
       "\t<tr><td>sub-0000</td><td>ses-sep</td><td>go</td><td>Gaze-3</td><td>intercept</td><td>11.625</td><td>Marquardt2017GFP-right</td><td>-0.17300414</td></tr>\n",
       "\t<tr><td>sub-0000</td><td>ses-sep</td><td>go</td><td>Gaze-3</td><td>intercept</td><td>11.700</td><td>Marquardt2017GFP-right</td><td>-0.16983194</td></tr>\n",
       "\t<tr><td>sub-0000</td><td>ses-sep</td><td>go</td><td>Gaze-3</td><td>intercept</td><td>11.775</td><td>Marquardt2017GFP-right</td><td>-0.16596565</td></tr>\n",
       "\t<tr><td>sub-0000</td><td>ses-sep</td><td>go</td><td>Gaze-3</td><td>intercept</td><td>11.850</td><td>Marquardt2017GFP-right</td><td>-0.16142830</td></tr>\n",
       "\t<tr><td>sub-0000</td><td>ses-sep</td><td>go</td><td>Gaze-3</td><td>intercept</td><td>11.925</td><td>Marquardt2017GFP-right</td><td>-0.15625587</td></tr>\n",
       "\t<tr><td>sub-0000</td><td>ses-sep</td><td>go</td><td>Gaze-3</td><td>intercept</td><td>12.000</td><td>Marquardt2017GFP-right</td><td>-0.15049710</td></tr>\n",
       "\t<tr><td>sub-0000</td><td>ses-sep</td><td>go</td><td>Gaze-3</td><td>intercept</td><td>12.075</td><td>Marquardt2017GFP-right</td><td>-0.14421292</td></tr>\n",
       "\t<tr><td>sub-0000</td><td>ses-sep</td><td>go</td><td>Gaze-3</td><td>intercept</td><td>12.150</td><td>Marquardt2017GFP-right</td><td>-0.13747579</td></tr>\n",
       "\t<tr><td>sub-0000</td><td>ses-sep</td><td>go</td><td>Gaze-3</td><td>intercept</td><td>12.225</td><td>Marquardt2017GFP-right</td><td>-0.13036871</td></tr>\n",
       "\t<tr><td>sub-0000</td><td>ses-sep</td><td>go</td><td>Gaze-3</td><td>intercept</td><td>12.300</td><td>Marquardt2017GFP-right</td><td>-0.12298405</td></tr>\n",
       "\t<tr><td>sub-0000</td><td>ses-sep</td><td>go</td><td>Gaze-3</td><td>intercept</td><td>12.375</td><td>Marquardt2017GFP-right</td><td>-0.11542220</td></tr>\n",
       "\t<tr><td>sub-0000</td><td>ses-sep</td><td>go</td><td>Gaze-3</td><td>intercept</td><td>12.450</td><td>Marquardt2017GFP-right</td><td>-0.10779006</td></tr>\n",
       "\t<tr><td>sub-0000</td><td>ses-sep</td><td>go</td><td>Gaze-3</td><td>intercept</td><td>12.525</td><td>Marquardt2017GFP-right</td><td>-0.10019933</td></tr>\n",
       "\t<tr><td>sub-0000</td><td>ses-sep</td><td>go</td><td>Gaze-3</td><td>intercept</td><td>12.600</td><td>Marquardt2017GFP-right</td><td>-0.09276477</td></tr>\n",
       "\t<tr><td>sub-0000</td><td>ses-sep</td><td>go</td><td>Gaze-3</td><td>intercept</td><td>12.675</td><td>Marquardt2017GFP-right</td><td>-0.08560229</td></tr>\n",
       "\t<tr><td>sub-0000</td><td>ses-sep</td><td>go</td><td>Gaze-3</td><td>intercept</td><td>12.750</td><td>Marquardt2017GFP-right</td><td>-0.07882707</td></tr>\n",
       "\t<tr><td>sub-0000</td><td>ses-sep</td><td>go</td><td>Gaze-3</td><td>intercept</td><td>12.825</td><td>Marquardt2017GFP-right</td><td>-0.07255161</td></tr>\n",
       "\t<tr><td>sub-0000</td><td>ses-sep</td><td>go</td><td>Gaze-3</td><td>intercept</td><td>12.900</td><td>Marquardt2017GFP-right</td><td>-0.06688382</td></tr>\n",
       "\t<tr><td>sub-0000</td><td>ses-sep</td><td>go</td><td>Gaze-3</td><td>intercept</td><td>12.975</td><td>Marquardt2017GFP-right</td><td>-0.06192517</td></tr>\n",
       "\t<tr><td>sub-0000</td><td>ses-sep</td><td>go</td><td>Gaze-3</td><td>intercept</td><td>13.050</td><td>Marquardt2017GFP-right</td><td>-0.05776889</td></tr>\n",
       "\t<tr><td>sub-0000</td><td>ses-sep</td><td>go</td><td>Gaze-3</td><td>intercept</td><td>13.125</td><td>Marquardt2017GFP-right</td><td>-0.05449835</td></tr>\n",
       "\t<tr><td>sub-0000</td><td>ses-sep</td><td>go</td><td>Gaze-3</td><td>intercept</td><td>13.200</td><td>Marquardt2017GFP-right</td><td>-0.05218556</td></tr>\n",
       "\t<tr><td>sub-0000</td><td>ses-sep</td><td>go</td><td>Gaze-3</td><td>intercept</td><td>13.275</td><td>Marquardt2017GFP-right</td><td>-0.05088979</td></tr>\n",
       "\t<tr><td>sub-0000</td><td>ses-sep</td><td>go</td><td>Gaze-3</td><td>intercept</td><td>13.350</td><td>Marquardt2017GFP-right</td><td>-0.05065654</td></tr>\n",
       "\t<tr><td>sub-0000</td><td>ses-sep</td><td>go</td><td>Gaze-3</td><td>intercept</td><td>13.425</td><td>Marquardt2017GFP-right</td><td>-0.05151654</td></tr>\n",
       "</tbody>\n",
       "</table>\n"
      ],
      "text/latex": [
       "A data.frame: 44640 × 8\n",
       "\\begin{tabular}{llllllll}\n",
       " participant & session & task & event.type & covariate & time & variable & value\\\\\n",
       " <fct> & <fct> & <fct> & <fct> & <fct> & <dbl> & <fct> & <dbl>\\\\\n",
       "\\hline\n",
       "\t sub-00 & ses-gc & gc & Cubes-1 & intercept & 0.000 & GFP-left & 0.03132404\\\\\n",
       "\t sub-00 & ses-gc & gc & Cubes-1 & intercept & 0.075 & GFP-left & 0.02855353\\\\\n",
       "\t sub-00 & ses-gc & gc & Cubes-1 & intercept & 0.150 & GFP-left & 0.02542774\\\\\n",
       "\t sub-00 & ses-gc & gc & Cubes-1 & intercept & 0.225 & GFP-left & 0.02216856\\\\\n",
       "\t sub-00 & ses-gc & gc & Cubes-1 & intercept & 0.300 & GFP-left & 0.01901017\\\\\n",
       "\t sub-00 & ses-gc & gc & Cubes-1 & intercept & 0.375 & GFP-left & 0.01619492\\\\\n",
       "\t sub-00 & ses-gc & gc & Cubes-1 & intercept & 0.450 & GFP-left & 0.01396917\\\\\n",
       "\t sub-00 & ses-gc & gc & Cubes-1 & intercept & 0.525 & GFP-left & 0.01257882\\\\\n",
       "\t sub-00 & ses-gc & gc & Cubes-1 & intercept & 0.600 & GFP-left & 0.01226496\\\\\n",
       "\t sub-00 & ses-gc & gc & Cubes-1 & intercept & 0.675 & GFP-left & 0.01325939\\\\\n",
       "\t sub-00 & ses-gc & gc & Cubes-1 & intercept & 0.750 & GFP-left & 0.01578037\\\\\n",
       "\t sub-00 & ses-gc & gc & Cubes-1 & intercept & 0.825 & GFP-left & 0.02002846\\\\\n",
       "\t sub-00 & ses-gc & gc & Cubes-1 & intercept & 0.900 & GFP-left & 0.02618271\\\\\n",
       "\t sub-00 & ses-gc & gc & Cubes-1 & intercept & 0.975 & GFP-left & 0.03439705\\\\\n",
       "\t sub-00 & ses-gc & gc & Cubes-1 & intercept & 1.050 & GFP-left & 0.04479721\\\\\n",
       "\t sub-00 & ses-gc & gc & Cubes-1 & intercept & 1.125 & GFP-left & 0.05747798\\\\\n",
       "\t sub-00 & ses-gc & gc & Cubes-1 & intercept & 1.200 & GFP-left & 0.07250104\\\\\n",
       "\t sub-00 & ses-gc & gc & Cubes-1 & intercept & 1.275 & GFP-left & 0.08989328\\\\\n",
       "\t sub-00 & ses-gc & gc & Cubes-1 & intercept & 1.350 & GFP-left & 0.10964574\\\\\n",
       "\t sub-00 & ses-gc & gc & Cubes-1 & intercept & 1.425 & GFP-left & 0.13171310\\\\\n",
       "\t sub-00 & ses-gc & gc & Cubes-1 & intercept & 1.500 & GFP-left & 0.15601378\\\\\n",
       "\t sub-00 & ses-gc & gc & Cubes-1 & intercept & 1.575 & GFP-left & 0.18243067\\\\\n",
       "\t sub-00 & ses-gc & gc & Cubes-1 & intercept & 1.650 & GFP-left & 0.21081242\\\\\n",
       "\t sub-00 & ses-gc & gc & Cubes-1 & intercept & 1.725 & GFP-left & 0.24097534\\\\\n",
       "\t sub-00 & ses-gc & gc & Cubes-1 & intercept & 1.800 & GFP-left & 0.27270579\\\\\n",
       "\t sub-00 & ses-gc & gc & Cubes-1 & intercept & 1.875 & GFP-left & 0.30576309\\\\\n",
       "\t sub-00 & ses-gc & gc & Cubes-1 & intercept & 1.950 & GFP-left & 0.33988290\\\\\n",
       "\t sub-00 & ses-gc & gc & Cubes-1 & intercept & 2.025 & GFP-left & 0.37478098\\\\\n",
       "\t sub-00 & ses-gc & gc & Cubes-1 & intercept & 2.100 & GFP-left & 0.41015722\\\\\n",
       "\t sub-00 & ses-gc & gc & Cubes-1 & intercept & 2.175 & GFP-left & 0.44570003\\\\\n",
       "\t ⋮ & ⋮ & ⋮ & ⋮ & ⋮ & ⋮ & ⋮ & ⋮\\\\\n",
       "\t sub-0000 & ses-sep & go & Gaze-3 & intercept & 11.250 & Marquardt2017GFP-right & -0.17853716\\\\\n",
       "\t sub-0000 & ses-sep & go & Gaze-3 & intercept & 11.325 & Marquardt2017GFP-right & -0.17873941\\\\\n",
       "\t sub-0000 & ses-sep & go & Gaze-3 & intercept & 11.400 & Marquardt2017GFP-right & -0.17831907\\\\\n",
       "\t sub-0000 & ses-sep & go & Gaze-3 & intercept & 11.475 & Marquardt2017GFP-right & -0.17723886\\\\\n",
       "\t sub-0000 & ses-sep & go & Gaze-3 & intercept & 11.550 & Marquardt2017GFP-right & -0.17547221\\\\\n",
       "\t sub-0000 & ses-sep & go & Gaze-3 & intercept & 11.625 & Marquardt2017GFP-right & -0.17300414\\\\\n",
       "\t sub-0000 & ses-sep & go & Gaze-3 & intercept & 11.700 & Marquardt2017GFP-right & -0.16983194\\\\\n",
       "\t sub-0000 & ses-sep & go & Gaze-3 & intercept & 11.775 & Marquardt2017GFP-right & -0.16596565\\\\\n",
       "\t sub-0000 & ses-sep & go & Gaze-3 & intercept & 11.850 & Marquardt2017GFP-right & -0.16142830\\\\\n",
       "\t sub-0000 & ses-sep & go & Gaze-3 & intercept & 11.925 & Marquardt2017GFP-right & -0.15625587\\\\\n",
       "\t sub-0000 & ses-sep & go & Gaze-3 & intercept & 12.000 & Marquardt2017GFP-right & -0.15049710\\\\\n",
       "\t sub-0000 & ses-sep & go & Gaze-3 & intercept & 12.075 & Marquardt2017GFP-right & -0.14421292\\\\\n",
       "\t sub-0000 & ses-sep & go & Gaze-3 & intercept & 12.150 & Marquardt2017GFP-right & -0.13747579\\\\\n",
       "\t sub-0000 & ses-sep & go & Gaze-3 & intercept & 12.225 & Marquardt2017GFP-right & -0.13036871\\\\\n",
       "\t sub-0000 & ses-sep & go & Gaze-3 & intercept & 12.300 & Marquardt2017GFP-right & -0.12298405\\\\\n",
       "\t sub-0000 & ses-sep & go & Gaze-3 & intercept & 12.375 & Marquardt2017GFP-right & -0.11542220\\\\\n",
       "\t sub-0000 & ses-sep & go & Gaze-3 & intercept & 12.450 & Marquardt2017GFP-right & -0.10779006\\\\\n",
       "\t sub-0000 & ses-sep & go & Gaze-3 & intercept & 12.525 & Marquardt2017GFP-right & -0.10019933\\\\\n",
       "\t sub-0000 & ses-sep & go & Gaze-3 & intercept & 12.600 & Marquardt2017GFP-right & -0.09276477\\\\\n",
       "\t sub-0000 & ses-sep & go & Gaze-3 & intercept & 12.675 & Marquardt2017GFP-right & -0.08560229\\\\\n",
       "\t sub-0000 & ses-sep & go & Gaze-3 & intercept & 12.750 & Marquardt2017GFP-right & -0.07882707\\\\\n",
       "\t sub-0000 & ses-sep & go & Gaze-3 & intercept & 12.825 & Marquardt2017GFP-right & -0.07255161\\\\\n",
       "\t sub-0000 & ses-sep & go & Gaze-3 & intercept & 12.900 & Marquardt2017GFP-right & -0.06688382\\\\\n",
       "\t sub-0000 & ses-sep & go & Gaze-3 & intercept & 12.975 & Marquardt2017GFP-right & -0.06192517\\\\\n",
       "\t sub-0000 & ses-sep & go & Gaze-3 & intercept & 13.050 & Marquardt2017GFP-right & -0.05776889\\\\\n",
       "\t sub-0000 & ses-sep & go & Gaze-3 & intercept & 13.125 & Marquardt2017GFP-right & -0.05449835\\\\\n",
       "\t sub-0000 & ses-sep & go & Gaze-3 & intercept & 13.200 & Marquardt2017GFP-right & -0.05218556\\\\\n",
       "\t sub-0000 & ses-sep & go & Gaze-3 & intercept & 13.275 & Marquardt2017GFP-right & -0.05088979\\\\\n",
       "\t sub-0000 & ses-sep & go & Gaze-3 & intercept & 13.350 & Marquardt2017GFP-right & -0.05065654\\\\\n",
       "\t sub-0000 & ses-sep & go & Gaze-3 & intercept & 13.425 & Marquardt2017GFP-right & -0.05151654\\\\\n",
       "\\end{tabular}\n"
      ],
      "text/markdown": [
       "\n",
       "A data.frame: 44640 × 8\n",
       "\n",
       "| participant &lt;fct&gt; | session &lt;fct&gt; | task &lt;fct&gt; | event.type &lt;fct&gt; | covariate &lt;fct&gt; | time &lt;dbl&gt; | variable &lt;fct&gt; | value &lt;dbl&gt; |\n",
       "|---|---|---|---|---|---|---|---|\n",
       "| sub-00 | ses-gc | gc | Cubes-1 | intercept | 0.000 | GFP-left | 0.03132404 |\n",
       "| sub-00 | ses-gc | gc | Cubes-1 | intercept | 0.075 | GFP-left | 0.02855353 |\n",
       "| sub-00 | ses-gc | gc | Cubes-1 | intercept | 0.150 | GFP-left | 0.02542774 |\n",
       "| sub-00 | ses-gc | gc | Cubes-1 | intercept | 0.225 | GFP-left | 0.02216856 |\n",
       "| sub-00 | ses-gc | gc | Cubes-1 | intercept | 0.300 | GFP-left | 0.01901017 |\n",
       "| sub-00 | ses-gc | gc | Cubes-1 | intercept | 0.375 | GFP-left | 0.01619492 |\n",
       "| sub-00 | ses-gc | gc | Cubes-1 | intercept | 0.450 | GFP-left | 0.01396917 |\n",
       "| sub-00 | ses-gc | gc | Cubes-1 | intercept | 0.525 | GFP-left | 0.01257882 |\n",
       "| sub-00 | ses-gc | gc | Cubes-1 | intercept | 0.600 | GFP-left | 0.01226496 |\n",
       "| sub-00 | ses-gc | gc | Cubes-1 | intercept | 0.675 | GFP-left | 0.01325939 |\n",
       "| sub-00 | ses-gc | gc | Cubes-1 | intercept | 0.750 | GFP-left | 0.01578037 |\n",
       "| sub-00 | ses-gc | gc | Cubes-1 | intercept | 0.825 | GFP-left | 0.02002846 |\n",
       "| sub-00 | ses-gc | gc | Cubes-1 | intercept | 0.900 | GFP-left | 0.02618271 |\n",
       "| sub-00 | ses-gc | gc | Cubes-1 | intercept | 0.975 | GFP-left | 0.03439705 |\n",
       "| sub-00 | ses-gc | gc | Cubes-1 | intercept | 1.050 | GFP-left | 0.04479721 |\n",
       "| sub-00 | ses-gc | gc | Cubes-1 | intercept | 1.125 | GFP-left | 0.05747798 |\n",
       "| sub-00 | ses-gc | gc | Cubes-1 | intercept | 1.200 | GFP-left | 0.07250104 |\n",
       "| sub-00 | ses-gc | gc | Cubes-1 | intercept | 1.275 | GFP-left | 0.08989328 |\n",
       "| sub-00 | ses-gc | gc | Cubes-1 | intercept | 1.350 | GFP-left | 0.10964574 |\n",
       "| sub-00 | ses-gc | gc | Cubes-1 | intercept | 1.425 | GFP-left | 0.13171310 |\n",
       "| sub-00 | ses-gc | gc | Cubes-1 | intercept | 1.500 | GFP-left | 0.15601378 |\n",
       "| sub-00 | ses-gc | gc | Cubes-1 | intercept | 1.575 | GFP-left | 0.18243067 |\n",
       "| sub-00 | ses-gc | gc | Cubes-1 | intercept | 1.650 | GFP-left | 0.21081242 |\n",
       "| sub-00 | ses-gc | gc | Cubes-1 | intercept | 1.725 | GFP-left | 0.24097534 |\n",
       "| sub-00 | ses-gc | gc | Cubes-1 | intercept | 1.800 | GFP-left | 0.27270579 |\n",
       "| sub-00 | ses-gc | gc | Cubes-1 | intercept | 1.875 | GFP-left | 0.30576309 |\n",
       "| sub-00 | ses-gc | gc | Cubes-1 | intercept | 1.950 | GFP-left | 0.33988290 |\n",
       "| sub-00 | ses-gc | gc | Cubes-1 | intercept | 2.025 | GFP-left | 0.37478098 |\n",
       "| sub-00 | ses-gc | gc | Cubes-1 | intercept | 2.100 | GFP-left | 0.41015722 |\n",
       "| sub-00 | ses-gc | gc | Cubes-1 | intercept | 2.175 | GFP-left | 0.44570003 |\n",
       "| ⋮ | ⋮ | ⋮ | ⋮ | ⋮ | ⋮ | ⋮ | ⋮ |\n",
       "| sub-0000 | ses-sep | go | Gaze-3 | intercept | 11.250 | Marquardt2017GFP-right | -0.17853716 |\n",
       "| sub-0000 | ses-sep | go | Gaze-3 | intercept | 11.325 | Marquardt2017GFP-right | -0.17873941 |\n",
       "| sub-0000 | ses-sep | go | Gaze-3 | intercept | 11.400 | Marquardt2017GFP-right | -0.17831907 |\n",
       "| sub-0000 | ses-sep | go | Gaze-3 | intercept | 11.475 | Marquardt2017GFP-right | -0.17723886 |\n",
       "| sub-0000 | ses-sep | go | Gaze-3 | intercept | 11.550 | Marquardt2017GFP-right | -0.17547221 |\n",
       "| sub-0000 | ses-sep | go | Gaze-3 | intercept | 11.625 | Marquardt2017GFP-right | -0.17300414 |\n",
       "| sub-0000 | ses-sep | go | Gaze-3 | intercept | 11.700 | Marquardt2017GFP-right | -0.16983194 |\n",
       "| sub-0000 | ses-sep | go | Gaze-3 | intercept | 11.775 | Marquardt2017GFP-right | -0.16596565 |\n",
       "| sub-0000 | ses-sep | go | Gaze-3 | intercept | 11.850 | Marquardt2017GFP-right | -0.16142830 |\n",
       "| sub-0000 | ses-sep | go | Gaze-3 | intercept | 11.925 | Marquardt2017GFP-right | -0.15625587 |\n",
       "| sub-0000 | ses-sep | go | Gaze-3 | intercept | 12.000 | Marquardt2017GFP-right | -0.15049710 |\n",
       "| sub-0000 | ses-sep | go | Gaze-3 | intercept | 12.075 | Marquardt2017GFP-right | -0.14421292 |\n",
       "| sub-0000 | ses-sep | go | Gaze-3 | intercept | 12.150 | Marquardt2017GFP-right | -0.13747579 |\n",
       "| sub-0000 | ses-sep | go | Gaze-3 | intercept | 12.225 | Marquardt2017GFP-right | -0.13036871 |\n",
       "| sub-0000 | ses-sep | go | Gaze-3 | intercept | 12.300 | Marquardt2017GFP-right | -0.12298405 |\n",
       "| sub-0000 | ses-sep | go | Gaze-3 | intercept | 12.375 | Marquardt2017GFP-right | -0.11542220 |\n",
       "| sub-0000 | ses-sep | go | Gaze-3 | intercept | 12.450 | Marquardt2017GFP-right | -0.10779006 |\n",
       "| sub-0000 | ses-sep | go | Gaze-3 | intercept | 12.525 | Marquardt2017GFP-right | -0.10019933 |\n",
       "| sub-0000 | ses-sep | go | Gaze-3 | intercept | 12.600 | Marquardt2017GFP-right | -0.09276477 |\n",
       "| sub-0000 | ses-sep | go | Gaze-3 | intercept | 12.675 | Marquardt2017GFP-right | -0.08560229 |\n",
       "| sub-0000 | ses-sep | go | Gaze-3 | intercept | 12.750 | Marquardt2017GFP-right | -0.07882707 |\n",
       "| sub-0000 | ses-sep | go | Gaze-3 | intercept | 12.825 | Marquardt2017GFP-right | -0.07255161 |\n",
       "| sub-0000 | ses-sep | go | Gaze-3 | intercept | 12.900 | Marquardt2017GFP-right | -0.06688382 |\n",
       "| sub-0000 | ses-sep | go | Gaze-3 | intercept | 12.975 | Marquardt2017GFP-right | -0.06192517 |\n",
       "| sub-0000 | ses-sep | go | Gaze-3 | intercept | 13.050 | Marquardt2017GFP-right | -0.05776889 |\n",
       "| sub-0000 | ses-sep | go | Gaze-3 | intercept | 13.125 | Marquardt2017GFP-right | -0.05449835 |\n",
       "| sub-0000 | ses-sep | go | Gaze-3 | intercept | 13.200 | Marquardt2017GFP-right | -0.05218556 |\n",
       "| sub-0000 | ses-sep | go | Gaze-3 | intercept | 13.275 | Marquardt2017GFP-right | -0.05088979 |\n",
       "| sub-0000 | ses-sep | go | Gaze-3 | intercept | 13.350 | Marquardt2017GFP-right | -0.05065654 |\n",
       "| sub-0000 | ses-sep | go | Gaze-3 | intercept | 13.425 | Marquardt2017GFP-right | -0.05151654 |\n",
       "\n"
      ],
      "text/plain": [
       "      participant session task event.type covariate time  \n",
       "1     sub-00      ses-gc  gc   Cubes-1    intercept 0.000 \n",
       "2     sub-00      ses-gc  gc   Cubes-1    intercept 0.075 \n",
       "3     sub-00      ses-gc  gc   Cubes-1    intercept 0.150 \n",
       "4     sub-00      ses-gc  gc   Cubes-1    intercept 0.225 \n",
       "5     sub-00      ses-gc  gc   Cubes-1    intercept 0.300 \n",
       "6     sub-00      ses-gc  gc   Cubes-1    intercept 0.375 \n",
       "7     sub-00      ses-gc  gc   Cubes-1    intercept 0.450 \n",
       "8     sub-00      ses-gc  gc   Cubes-1    intercept 0.525 \n",
       "9     sub-00      ses-gc  gc   Cubes-1    intercept 0.600 \n",
       "10    sub-00      ses-gc  gc   Cubes-1    intercept 0.675 \n",
       "11    sub-00      ses-gc  gc   Cubes-1    intercept 0.750 \n",
       "12    sub-00      ses-gc  gc   Cubes-1    intercept 0.825 \n",
       "13    sub-00      ses-gc  gc   Cubes-1    intercept 0.900 \n",
       "14    sub-00      ses-gc  gc   Cubes-1    intercept 0.975 \n",
       "15    sub-00      ses-gc  gc   Cubes-1    intercept 1.050 \n",
       "16    sub-00      ses-gc  gc   Cubes-1    intercept 1.125 \n",
       "17    sub-00      ses-gc  gc   Cubes-1    intercept 1.200 \n",
       "18    sub-00      ses-gc  gc   Cubes-1    intercept 1.275 \n",
       "19    sub-00      ses-gc  gc   Cubes-1    intercept 1.350 \n",
       "20    sub-00      ses-gc  gc   Cubes-1    intercept 1.425 \n",
       "21    sub-00      ses-gc  gc   Cubes-1    intercept 1.500 \n",
       "22    sub-00      ses-gc  gc   Cubes-1    intercept 1.575 \n",
       "23    sub-00      ses-gc  gc   Cubes-1    intercept 1.650 \n",
       "24    sub-00      ses-gc  gc   Cubes-1    intercept 1.725 \n",
       "25    sub-00      ses-gc  gc   Cubes-1    intercept 1.800 \n",
       "26    sub-00      ses-gc  gc   Cubes-1    intercept 1.875 \n",
       "27    sub-00      ses-gc  gc   Cubes-1    intercept 1.950 \n",
       "28    sub-00      ses-gc  gc   Cubes-1    intercept 2.025 \n",
       "29    sub-00      ses-gc  gc   Cubes-1    intercept 2.100 \n",
       "30    sub-00      ses-gc  gc   Cubes-1    intercept 2.175 \n",
       "⋮     ⋮           ⋮       ⋮    ⋮          ⋮         ⋮     \n",
       "44611 sub-0000    ses-sep go   Gaze-3     intercept 11.250\n",
       "44612 sub-0000    ses-sep go   Gaze-3     intercept 11.325\n",
       "44613 sub-0000    ses-sep go   Gaze-3     intercept 11.400\n",
       "44614 sub-0000    ses-sep go   Gaze-3     intercept 11.475\n",
       "44615 sub-0000    ses-sep go   Gaze-3     intercept 11.550\n",
       "44616 sub-0000    ses-sep go   Gaze-3     intercept 11.625\n",
       "44617 sub-0000    ses-sep go   Gaze-3     intercept 11.700\n",
       "44618 sub-0000    ses-sep go   Gaze-3     intercept 11.775\n",
       "44619 sub-0000    ses-sep go   Gaze-3     intercept 11.850\n",
       "44620 sub-0000    ses-sep go   Gaze-3     intercept 11.925\n",
       "44621 sub-0000    ses-sep go   Gaze-3     intercept 12.000\n",
       "44622 sub-0000    ses-sep go   Gaze-3     intercept 12.075\n",
       "44623 sub-0000    ses-sep go   Gaze-3     intercept 12.150\n",
       "44624 sub-0000    ses-sep go   Gaze-3     intercept 12.225\n",
       "44625 sub-0000    ses-sep go   Gaze-3     intercept 12.300\n",
       "44626 sub-0000    ses-sep go   Gaze-3     intercept 12.375\n",
       "44627 sub-0000    ses-sep go   Gaze-3     intercept 12.450\n",
       "44628 sub-0000    ses-sep go   Gaze-3     intercept 12.525\n",
       "44629 sub-0000    ses-sep go   Gaze-3     intercept 12.600\n",
       "44630 sub-0000    ses-sep go   Gaze-3     intercept 12.675\n",
       "44631 sub-0000    ses-sep go   Gaze-3     intercept 12.750\n",
       "44632 sub-0000    ses-sep go   Gaze-3     intercept 12.825\n",
       "44633 sub-0000    ses-sep go   Gaze-3     intercept 12.900\n",
       "44634 sub-0000    ses-sep go   Gaze-3     intercept 12.975\n",
       "44635 sub-0000    ses-sep go   Gaze-3     intercept 13.050\n",
       "44636 sub-0000    ses-sep go   Gaze-3     intercept 13.125\n",
       "44637 sub-0000    ses-sep go   Gaze-3     intercept 13.200\n",
       "44638 sub-0000    ses-sep go   Gaze-3     intercept 13.275\n",
       "44639 sub-0000    ses-sep go   Gaze-3     intercept 13.350\n",
       "44640 sub-0000    ses-sep go   Gaze-3     intercept 13.425\n",
       "      variable               value      \n",
       "1     GFP-left               0.03132404 \n",
       "2     GFP-left               0.02855353 \n",
       "3     GFP-left               0.02542774 \n",
       "4     GFP-left               0.02216856 \n",
       "5     GFP-left               0.01901017 \n",
       "6     GFP-left               0.01619492 \n",
       "7     GFP-left               0.01396917 \n",
       "8     GFP-left               0.01257882 \n",
       "9     GFP-left               0.01226496 \n",
       "10    GFP-left               0.01325939 \n",
       "11    GFP-left               0.01578037 \n",
       "12    GFP-left               0.02002846 \n",
       "13    GFP-left               0.02618271 \n",
       "14    GFP-left               0.03439705 \n",
       "15    GFP-left               0.04479721 \n",
       "16    GFP-left               0.05747798 \n",
       "17    GFP-left               0.07250104 \n",
       "18    GFP-left               0.08989328 \n",
       "19    GFP-left               0.10964574 \n",
       "20    GFP-left               0.13171310 \n",
       "21    GFP-left               0.15601378 \n",
       "22    GFP-left               0.18243067 \n",
       "23    GFP-left               0.21081242 \n",
       "24    GFP-left               0.24097534 \n",
       "25    GFP-left               0.27270579 \n",
       "26    GFP-left               0.30576309 \n",
       "27    GFP-left               0.33988290 \n",
       "28    GFP-left               0.37478098 \n",
       "29    GFP-left               0.41015722 \n",
       "30    GFP-left               0.44570003 \n",
       "⋮     ⋮                      ⋮          \n",
       "44611 Marquardt2017GFP-right -0.17853716\n",
       "44612 Marquardt2017GFP-right -0.17873941\n",
       "44613 Marquardt2017GFP-right -0.17831907\n",
       "44614 Marquardt2017GFP-right -0.17723886\n",
       "44615 Marquardt2017GFP-right -0.17547221\n",
       "44616 Marquardt2017GFP-right -0.17300414\n",
       "44617 Marquardt2017GFP-right -0.16983194\n",
       "44618 Marquardt2017GFP-right -0.16596565\n",
       "44619 Marquardt2017GFP-right -0.16142830\n",
       "44620 Marquardt2017GFP-right -0.15625587\n",
       "44621 Marquardt2017GFP-right -0.15049710\n",
       "44622 Marquardt2017GFP-right -0.14421292\n",
       "44623 Marquardt2017GFP-right -0.13747579\n",
       "44624 Marquardt2017GFP-right -0.13036871\n",
       "44625 Marquardt2017GFP-right -0.12298405\n",
       "44626 Marquardt2017GFP-right -0.11542220\n",
       "44627 Marquardt2017GFP-right -0.10779006\n",
       "44628 Marquardt2017GFP-right -0.10019933\n",
       "44629 Marquardt2017GFP-right -0.09276477\n",
       "44630 Marquardt2017GFP-right -0.08560229\n",
       "44631 Marquardt2017GFP-right -0.07882707\n",
       "44632 Marquardt2017GFP-right -0.07255161\n",
       "44633 Marquardt2017GFP-right -0.06688382\n",
       "44634 Marquardt2017GFP-right -0.06192517\n",
       "44635 Marquardt2017GFP-right -0.05776889\n",
       "44636 Marquardt2017GFP-right -0.05449835\n",
       "44637 Marquardt2017GFP-right -0.05218556\n",
       "44638 Marquardt2017GFP-right -0.05088979\n",
       "44639 Marquardt2017GFP-right -0.05065654\n",
       "44640 Marquardt2017GFP-right -0.05151654"
      ]
     },
     "metadata": {},
     "output_type": "display_data"
    }
   ],
   "source": [
    "tc_df"
   ]
  },
  {
   "cell_type": "code",
   "execution_count": 322,
   "id": "e6427175-758d-4aa7-9288-d9c9c1b1c1db",
   "metadata": {
    "collapsed": true,
    "jupyter": {
     "outputs_hidden": true
    },
    "tags": []
   },
   "outputs": [
    {
     "data": {
      "text/html": [
       "<table class=\"dataframe\">\n",
       "<caption>A data.frame: 116 × 10</caption>\n",
       "<thead>\n",
       "\t<tr><th></th><th scope=col>participant</th><th scope=col>roi_1</th><th scope=col>roi_2</th><th scope=col>session_1</th><th scope=col>session_2</th><th scope=col>task_1</th><th scope=col>task_2</th><th scope=col>c_1</th><th scope=col>c_2</th><th scope=col>type</th></tr>\n",
       "\t<tr><th></th><th scope=col>&lt;chr&gt;</th><th scope=col>&lt;chr&gt;</th><th scope=col>&lt;chr&gt;</th><th scope=col>&lt;chr&gt;</th><th scope=col>&lt;chr&gt;</th><th scope=col>&lt;chr&gt;</th><th scope=col>&lt;chr&gt;</th><th scope=col>&lt;chr&gt;</th><th scope=col>&lt;chr&gt;</th><th scope=col>&lt;chr&gt;</th></tr>\n",
       "</thead>\n",
       "<tbody>\n",
       "\t<tr><th scope=row>1</th><td>sub-00  </td><td>fMotionArea-left </td><td>fMotionArea-right</td><td>ses-com</td><td>ses-com</td><td>co</td><td>co</td><td>Cubes-1</td><td>Cubes-1</td><td>same-ROI_different-hemisphere</td></tr>\n",
       "\t<tr><th scope=row>2</th><td>sub-00  </td><td>fMotionArea-left </td><td>fMotionArea-right</td><td>ses-com</td><td>ses-com</td><td>co</td><td>co</td><td>Cubes-2</td><td>Cubes-2</td><td>same-ROI_different-hemisphere</td></tr>\n",
       "\t<tr><th scope=row>3</th><td>sub-00  </td><td>fMotionArea-left </td><td>fMotionArea-right</td><td>ses-com</td><td>ses-com</td><td>co</td><td>co</td><td>Cubes-3</td><td>Cubes-3</td><td>same-ROI_different-hemisphere</td></tr>\n",
       "\t<tr><th scope=row>4</th><td>sub-00  </td><td>fMotionArea-left </td><td>fMotionArea-right</td><td>ses-com</td><td>ses-com</td><td>co</td><td>co</td><td>Cubes-1</td><td>Cubes-3</td><td>same-ROI_different-hemisphere</td></tr>\n",
       "\t<tr><th scope=row>5</th><td>sub-00  </td><td>fMotionArea-left </td><td>fMotionArea-right</td><td>ses-com</td><td>ses-com</td><td>co</td><td>co</td><td>Cubes-3</td><td>Cubes-1</td><td>same-ROI_different-hemisphere</td></tr>\n",
       "\t<tr><th scope=row>6</th><td>sub-00  </td><td>fMotionArea-left </td><td>fMotionArea-left </td><td>ses-com</td><td>ses-com</td><td>co</td><td>co</td><td>Cubes-1</td><td>Cubes-3</td><td>same-ROI_same-hemisphere     </td></tr>\n",
       "\t<tr><th scope=row>7</th><td>sub-00  </td><td>fMotionArea-right</td><td>fMotionArea-right</td><td>ses-com</td><td>ses-com</td><td>co</td><td>co</td><td>Cubes-1</td><td>Cubes-3</td><td>same-ROI_same-hemisphere     </td></tr>\n",
       "\t<tr><th scope=row>8</th><td>sub-00  </td><td>GFP-left         </td><td>GFP-right        </td><td>ses-com</td><td>ses-com</td><td>co</td><td>co</td><td>Cubes-1</td><td>Cubes-1</td><td>same-ROI_different-hemisphere</td></tr>\n",
       "\t<tr><th scope=row>9</th><td>sub-00  </td><td>GFP-left         </td><td>GFP-right        </td><td>ses-com</td><td>ses-com</td><td>co</td><td>co</td><td>Cubes-2</td><td>Cubes-2</td><td>same-ROI_different-hemisphere</td></tr>\n",
       "\t<tr><th scope=row>10</th><td>sub-00  </td><td>GFP-left         </td><td>GFP-right        </td><td>ses-com</td><td>ses-com</td><td>co</td><td>co</td><td>Cubes-3</td><td>Cubes-3</td><td>same-ROI_different-hemisphere</td></tr>\n",
       "\t<tr><th scope=row>11</th><td>sub-00  </td><td>GFP-left         </td><td>GFP-right        </td><td>ses-com</td><td>ses-com</td><td>co</td><td>co</td><td>Cubes-1</td><td>Cubes-3</td><td>same-ROI_different-hemisphere</td></tr>\n",
       "\t<tr><th scope=row>12</th><td>sub-00  </td><td>GFP-left         </td><td>GFP-right        </td><td>ses-com</td><td>ses-com</td><td>co</td><td>co</td><td>Cubes-3</td><td>Cubes-1</td><td>same-ROI_different-hemisphere</td></tr>\n",
       "\t<tr><th scope=row>13</th><td>sub-00  </td><td>GFP-left         </td><td>GFP-left         </td><td>ses-com</td><td>ses-com</td><td>co</td><td>co</td><td>Cubes-1</td><td>Cubes-3</td><td>same-ROI_same-hemisphere     </td></tr>\n",
       "\t<tr><th scope=row>14</th><td>sub-00  </td><td>GFP-right        </td><td>GFP-right        </td><td>ses-com</td><td>ses-com</td><td>co</td><td>co</td><td>Cubes-1</td><td>Cubes-3</td><td>same-ROI_same-hemisphere     </td></tr>\n",
       "\t<tr><th scope=row>15</th><td>sub-0000</td><td>fMotionArea-left </td><td>fMotionArea-right</td><td>ses-sep</td><td>ses-sep</td><td>co</td><td>co</td><td>Cubes-1</td><td>Cubes-1</td><td>same-ROI_different-hemisphere</td></tr>\n",
       "\t<tr><th scope=row>16</th><td>sub-0000</td><td>fMotionArea-left </td><td>fMotionArea-right</td><td>ses-sep</td><td>ses-sep</td><td>co</td><td>co</td><td>Cubes-2</td><td>Cubes-2</td><td>same-ROI_different-hemisphere</td></tr>\n",
       "\t<tr><th scope=row>17</th><td>sub-0000</td><td>fMotionArea-left </td><td>fMotionArea-right</td><td>ses-sep</td><td>ses-sep</td><td>co</td><td>co</td><td>Cubes-3</td><td>Cubes-3</td><td>same-ROI_different-hemisphere</td></tr>\n",
       "\t<tr><th scope=row>18</th><td>sub-0000</td><td>fMotionArea-left </td><td>fMotionArea-right</td><td>ses-sep</td><td>ses-sep</td><td>co</td><td>co</td><td>Cubes-1</td><td>Cubes-3</td><td>same-ROI_different-hemisphere</td></tr>\n",
       "\t<tr><th scope=row>19</th><td>sub-0000</td><td>fMotionArea-left </td><td>fMotionArea-right</td><td>ses-sep</td><td>ses-sep</td><td>co</td><td>co</td><td>Cubes-3</td><td>Cubes-1</td><td>same-ROI_different-hemisphere</td></tr>\n",
       "\t<tr><th scope=row>20</th><td>sub-0000</td><td>fMotionArea-left </td><td>fMotionArea-right</td><td>ses-sep</td><td>ses-sep</td><td>go</td><td>go</td><td>Gaze-1 </td><td>Gaze-1 </td><td>same-ROI_different-hemisphere</td></tr>\n",
       "\t<tr><th scope=row>21</th><td>sub-0000</td><td>fMotionArea-left </td><td>fMotionArea-right</td><td>ses-sep</td><td>ses-sep</td><td>go</td><td>go</td><td>Gaze-2 </td><td>Gaze-2 </td><td>same-ROI_different-hemisphere</td></tr>\n",
       "\t<tr><th scope=row>22</th><td>sub-0000</td><td>fMotionArea-left </td><td>fMotionArea-right</td><td>ses-sep</td><td>ses-sep</td><td>go</td><td>go</td><td>Gaze-3 </td><td>Gaze-3 </td><td>same-ROI_different-hemisphere</td></tr>\n",
       "\t<tr><th scope=row>23</th><td>sub-0000</td><td>fMotionArea-left </td><td>fMotionArea-right</td><td>ses-sep</td><td>ses-sep</td><td>go</td><td>go</td><td>Gaze-1 </td><td>Gaze-3 </td><td>same-ROI_different-hemisphere</td></tr>\n",
       "\t<tr><th scope=row>24</th><td>sub-0000</td><td>fMotionArea-left </td><td>fMotionArea-right</td><td>ses-sep</td><td>ses-sep</td><td>go</td><td>go</td><td>Gaze-3 </td><td>Gaze-1 </td><td>same-ROI_different-hemisphere</td></tr>\n",
       "\t<tr><th scope=row>25</th><td>sub-0000</td><td>fMotionArea-left </td><td>fMotionArea-left </td><td>ses-sep</td><td>ses-sep</td><td>co</td><td>co</td><td>Cubes-1</td><td>Cubes-3</td><td>same-ROI_same-hemisphere     </td></tr>\n",
       "\t<tr><th scope=row>26</th><td>sub-0000</td><td>fMotionArea-right</td><td>fMotionArea-right</td><td>ses-sep</td><td>ses-sep</td><td>co</td><td>co</td><td>Cubes-1</td><td>Cubes-3</td><td>same-ROI_same-hemisphere     </td></tr>\n",
       "\t<tr><th scope=row>27</th><td>sub-0000</td><td>fMotionArea-left </td><td>fMotionArea-left </td><td>ses-sep</td><td>ses-sep</td><td>go</td><td>go</td><td>Gaze-1 </td><td>Gaze-3 </td><td>same-ROI_same-hemisphere     </td></tr>\n",
       "\t<tr><th scope=row>28</th><td>sub-0000</td><td>fMotionArea-right</td><td>fMotionArea-right</td><td>ses-sep</td><td>ses-sep</td><td>go</td><td>go</td><td>Gaze-1 </td><td>Gaze-3 </td><td>same-ROI_same-hemisphere     </td></tr>\n",
       "\t<tr><th scope=row>29</th><td>sub-0000</td><td>fMotionArea-left </td><td>fMotionArea-right</td><td>ses-sep</td><td>ses-sep</td><td>co</td><td>go</td><td>Cubes-1</td><td>Gaze-1 </td><td>same-ROI_different-hemisphere</td></tr>\n",
       "\t<tr><th scope=row>30</th><td>sub-0000</td><td>fMotionArea-left </td><td>fMotionArea-right</td><td>ses-sep</td><td>ses-sep</td><td>co</td><td>go</td><td>Cubes-2</td><td>Gaze-2 </td><td>same-ROI_different-hemisphere</td></tr>\n",
       "\t<tr><th scope=row>⋮</th><td>⋮</td><td>⋮</td><td>⋮</td><td>⋮</td><td>⋮</td><td>⋮</td><td>⋮</td><td>⋮</td><td>⋮</td><td>⋮</td></tr>\n",
       "\t<tr><th scope=row>87</th><td>sub-0000</td><td>GFP-left </td><td>GFP-right</td><td>ses-sep</td><td>ses-sep</td><td>co</td><td>co</td><td>Cubes-3</td><td>Cubes-1</td><td>same-ROI_different-hemisphere</td></tr>\n",
       "\t<tr><th scope=row>88</th><td>sub-0000</td><td>GFP-left </td><td>GFP-right</td><td>ses-sep</td><td>ses-sep</td><td>go</td><td>go</td><td>Gaze-1 </td><td>Gaze-1 </td><td>same-ROI_different-hemisphere</td></tr>\n",
       "\t<tr><th scope=row>89</th><td>sub-0000</td><td>GFP-left </td><td>GFP-right</td><td>ses-sep</td><td>ses-sep</td><td>go</td><td>go</td><td>Gaze-2 </td><td>Gaze-2 </td><td>same-ROI_different-hemisphere</td></tr>\n",
       "\t<tr><th scope=row>90</th><td>sub-0000</td><td>GFP-left </td><td>GFP-right</td><td>ses-sep</td><td>ses-sep</td><td>go</td><td>go</td><td>Gaze-3 </td><td>Gaze-3 </td><td>same-ROI_different-hemisphere</td></tr>\n",
       "\t<tr><th scope=row>91</th><td>sub-0000</td><td>GFP-left </td><td>GFP-right</td><td>ses-sep</td><td>ses-sep</td><td>go</td><td>go</td><td>Gaze-1 </td><td>Gaze-3 </td><td>same-ROI_different-hemisphere</td></tr>\n",
       "\t<tr><th scope=row>92</th><td>sub-0000</td><td>GFP-left </td><td>GFP-right</td><td>ses-sep</td><td>ses-sep</td><td>go</td><td>go</td><td>Gaze-3 </td><td>Gaze-1 </td><td>same-ROI_different-hemisphere</td></tr>\n",
       "\t<tr><th scope=row>93</th><td>sub-0000</td><td>GFP-left </td><td>GFP-left </td><td>ses-sep</td><td>ses-sep</td><td>co</td><td>co</td><td>Cubes-1</td><td>Cubes-3</td><td>same-ROI_same-hemisphere     </td></tr>\n",
       "\t<tr><th scope=row>94</th><td>sub-0000</td><td>GFP-right</td><td>GFP-right</td><td>ses-sep</td><td>ses-sep</td><td>co</td><td>co</td><td>Cubes-1</td><td>Cubes-3</td><td>same-ROI_same-hemisphere     </td></tr>\n",
       "\t<tr><th scope=row>95</th><td>sub-0000</td><td>GFP-left </td><td>GFP-left </td><td>ses-sep</td><td>ses-sep</td><td>go</td><td>go</td><td>Gaze-1 </td><td>Gaze-3 </td><td>same-ROI_same-hemisphere     </td></tr>\n",
       "\t<tr><th scope=row>96</th><td>sub-0000</td><td>GFP-right</td><td>GFP-right</td><td>ses-sep</td><td>ses-sep</td><td>go</td><td>go</td><td>Gaze-1 </td><td>Gaze-3 </td><td>same-ROI_same-hemisphere     </td></tr>\n",
       "\t<tr><th scope=row>97</th><td>sub-0000</td><td>GFP-left </td><td>GFP-right</td><td>ses-sep</td><td>ses-sep</td><td>co</td><td>go</td><td>Cubes-1</td><td>Gaze-1 </td><td>same-ROI_different-hemisphere</td></tr>\n",
       "\t<tr><th scope=row>98</th><td>sub-0000</td><td>GFP-left </td><td>GFP-right</td><td>ses-sep</td><td>ses-sep</td><td>co</td><td>go</td><td>Cubes-2</td><td>Gaze-2 </td><td>same-ROI_different-hemisphere</td></tr>\n",
       "\t<tr><th scope=row>99</th><td>sub-0000</td><td>GFP-left </td><td>GFP-right</td><td>ses-sep</td><td>ses-sep</td><td>co</td><td>go</td><td>Cubes-3</td><td>Gaze-3 </td><td>same-ROI_different-hemisphere</td></tr>\n",
       "\t<tr><th scope=row>100</th><td>sub-0000</td><td>GFP-left </td><td>GFP-right</td><td>ses-sep</td><td>ses-sep</td><td>co</td><td>go</td><td>Cubes-1</td><td>Gaze-3 </td><td>same-ROI_different-hemisphere</td></tr>\n",
       "\t<tr><th scope=row>101</th><td>sub-0000</td><td>GFP-left </td><td>GFP-right</td><td>ses-sep</td><td>ses-sep</td><td>co</td><td>go</td><td>Cubes-3</td><td>Gaze-1 </td><td>same-ROI_different-hemisphere</td></tr>\n",
       "\t<tr><th scope=row>102</th><td>sub-0000</td><td>GFP-left </td><td>GFP-right</td><td>ses-sep</td><td>ses-sep</td><td>go</td><td>co</td><td>Gaze-1 </td><td>Cubes-1</td><td>same-ROI_different-hemisphere</td></tr>\n",
       "\t<tr><th scope=row>103</th><td>sub-0000</td><td>GFP-left </td><td>GFP-right</td><td>ses-sep</td><td>ses-sep</td><td>go</td><td>co</td><td>Gaze-2 </td><td>Cubes-2</td><td>same-ROI_different-hemisphere</td></tr>\n",
       "\t<tr><th scope=row>104</th><td>sub-0000</td><td>GFP-left </td><td>GFP-right</td><td>ses-sep</td><td>ses-sep</td><td>go</td><td>co</td><td>Gaze-3 </td><td>Cubes-3</td><td>same-ROI_different-hemisphere</td></tr>\n",
       "\t<tr><th scope=row>105</th><td>sub-0000</td><td>GFP-left </td><td>GFP-right</td><td>ses-sep</td><td>ses-sep</td><td>go</td><td>co</td><td>Gaze-3 </td><td>Cubes-1</td><td>same-ROI_different-hemisphere</td></tr>\n",
       "\t<tr><th scope=row>106</th><td>sub-0000</td><td>GFP-left </td><td>GFP-right</td><td>ses-sep</td><td>ses-sep</td><td>go</td><td>co</td><td>Gaze-1 </td><td>Cubes-3</td><td>same-ROI_different-hemisphere</td></tr>\n",
       "\t<tr><th scope=row>107</th><td>sub-0000</td><td>GFP-left </td><td>GFP-left </td><td>ses-sep</td><td>ses-sep</td><td>co</td><td>go</td><td>Cubes-1</td><td>Gaze-1 </td><td>same-ROI_same-hemisphere     </td></tr>\n",
       "\t<tr><th scope=row>108</th><td>sub-0000</td><td>GFP-left </td><td>GFP-left </td><td>ses-sep</td><td>ses-sep</td><td>co</td><td>go</td><td>Cubes-2</td><td>Gaze-2 </td><td>same-ROI_same-hemisphere     </td></tr>\n",
       "\t<tr><th scope=row>109</th><td>sub-0000</td><td>GFP-left </td><td>GFP-left </td><td>ses-sep</td><td>ses-sep</td><td>co</td><td>go</td><td>Cubes-3</td><td>Gaze-3 </td><td>same-ROI_same-hemisphere     </td></tr>\n",
       "\t<tr><th scope=row>110</th><td>sub-0000</td><td>GFP-left </td><td>GFP-left </td><td>ses-sep</td><td>ses-sep</td><td>co</td><td>go</td><td>Cubes-1</td><td>Gaze-3 </td><td>same-ROI_same-hemisphere     </td></tr>\n",
       "\t<tr><th scope=row>111</th><td>sub-0000</td><td>GFP-left </td><td>GFP-left </td><td>ses-sep</td><td>ses-sep</td><td>co</td><td>go</td><td>Cubes-3</td><td>Gaze-1 </td><td>same-ROI_same-hemisphere     </td></tr>\n",
       "\t<tr><th scope=row>112</th><td>sub-0000</td><td>GFP-right</td><td>GFP-right</td><td>ses-sep</td><td>ses-sep</td><td>co</td><td>go</td><td>Cubes-1</td><td>Gaze-1 </td><td>same-ROI_same-hemisphere     </td></tr>\n",
       "\t<tr><th scope=row>113</th><td>sub-0000</td><td>GFP-right</td><td>GFP-right</td><td>ses-sep</td><td>ses-sep</td><td>co</td><td>go</td><td>Cubes-2</td><td>Gaze-2 </td><td>same-ROI_same-hemisphere     </td></tr>\n",
       "\t<tr><th scope=row>114</th><td>sub-0000</td><td>GFP-right</td><td>GFP-right</td><td>ses-sep</td><td>ses-sep</td><td>co</td><td>go</td><td>Cubes-3</td><td>Gaze-3 </td><td>same-ROI_same-hemisphere     </td></tr>\n",
       "\t<tr><th scope=row>115</th><td>sub-0000</td><td>GFP-right</td><td>GFP-right</td><td>ses-sep</td><td>ses-sep</td><td>co</td><td>go</td><td>Cubes-1</td><td>Gaze-3 </td><td>same-ROI_same-hemisphere     </td></tr>\n",
       "\t<tr><th scope=row>116</th><td>sub-0000</td><td>GFP-right</td><td>GFP-right</td><td>ses-sep</td><td>ses-sep</td><td>co</td><td>go</td><td>Cubes-3</td><td>Gaze-1 </td><td>same-ROI_same-hemisphere     </td></tr>\n",
       "</tbody>\n",
       "</table>\n"
      ],
      "text/latex": [
       "A data.frame: 116 × 10\n",
       "\\begin{tabular}{r|llllllllll}\n",
       "  & participant & roi\\_1 & roi\\_2 & session\\_1 & session\\_2 & task\\_1 & task\\_2 & c\\_1 & c\\_2 & type\\\\\n",
       "  & <chr> & <chr> & <chr> & <chr> & <chr> & <chr> & <chr> & <chr> & <chr> & <chr>\\\\\n",
       "\\hline\n",
       "\t1 & sub-00   & fMotionArea-left  & fMotionArea-right & ses-com & ses-com & co & co & Cubes-1 & Cubes-1 & same-ROI\\_different-hemisphere\\\\\n",
       "\t2 & sub-00   & fMotionArea-left  & fMotionArea-right & ses-com & ses-com & co & co & Cubes-2 & Cubes-2 & same-ROI\\_different-hemisphere\\\\\n",
       "\t3 & sub-00   & fMotionArea-left  & fMotionArea-right & ses-com & ses-com & co & co & Cubes-3 & Cubes-3 & same-ROI\\_different-hemisphere\\\\\n",
       "\t4 & sub-00   & fMotionArea-left  & fMotionArea-right & ses-com & ses-com & co & co & Cubes-1 & Cubes-3 & same-ROI\\_different-hemisphere\\\\\n",
       "\t5 & sub-00   & fMotionArea-left  & fMotionArea-right & ses-com & ses-com & co & co & Cubes-3 & Cubes-1 & same-ROI\\_different-hemisphere\\\\\n",
       "\t6 & sub-00   & fMotionArea-left  & fMotionArea-left  & ses-com & ses-com & co & co & Cubes-1 & Cubes-3 & same-ROI\\_same-hemisphere     \\\\\n",
       "\t7 & sub-00   & fMotionArea-right & fMotionArea-right & ses-com & ses-com & co & co & Cubes-1 & Cubes-3 & same-ROI\\_same-hemisphere     \\\\\n",
       "\t8 & sub-00   & GFP-left          & GFP-right         & ses-com & ses-com & co & co & Cubes-1 & Cubes-1 & same-ROI\\_different-hemisphere\\\\\n",
       "\t9 & sub-00   & GFP-left          & GFP-right         & ses-com & ses-com & co & co & Cubes-2 & Cubes-2 & same-ROI\\_different-hemisphere\\\\\n",
       "\t10 & sub-00   & GFP-left          & GFP-right         & ses-com & ses-com & co & co & Cubes-3 & Cubes-3 & same-ROI\\_different-hemisphere\\\\\n",
       "\t11 & sub-00   & GFP-left          & GFP-right         & ses-com & ses-com & co & co & Cubes-1 & Cubes-3 & same-ROI\\_different-hemisphere\\\\\n",
       "\t12 & sub-00   & GFP-left          & GFP-right         & ses-com & ses-com & co & co & Cubes-3 & Cubes-1 & same-ROI\\_different-hemisphere\\\\\n",
       "\t13 & sub-00   & GFP-left          & GFP-left          & ses-com & ses-com & co & co & Cubes-1 & Cubes-3 & same-ROI\\_same-hemisphere     \\\\\n",
       "\t14 & sub-00   & GFP-right         & GFP-right         & ses-com & ses-com & co & co & Cubes-1 & Cubes-3 & same-ROI\\_same-hemisphere     \\\\\n",
       "\t15 & sub-0000 & fMotionArea-left  & fMotionArea-right & ses-sep & ses-sep & co & co & Cubes-1 & Cubes-1 & same-ROI\\_different-hemisphere\\\\\n",
       "\t16 & sub-0000 & fMotionArea-left  & fMotionArea-right & ses-sep & ses-sep & co & co & Cubes-2 & Cubes-2 & same-ROI\\_different-hemisphere\\\\\n",
       "\t17 & sub-0000 & fMotionArea-left  & fMotionArea-right & ses-sep & ses-sep & co & co & Cubes-3 & Cubes-3 & same-ROI\\_different-hemisphere\\\\\n",
       "\t18 & sub-0000 & fMotionArea-left  & fMotionArea-right & ses-sep & ses-sep & co & co & Cubes-1 & Cubes-3 & same-ROI\\_different-hemisphere\\\\\n",
       "\t19 & sub-0000 & fMotionArea-left  & fMotionArea-right & ses-sep & ses-sep & co & co & Cubes-3 & Cubes-1 & same-ROI\\_different-hemisphere\\\\\n",
       "\t20 & sub-0000 & fMotionArea-left  & fMotionArea-right & ses-sep & ses-sep & go & go & Gaze-1  & Gaze-1  & same-ROI\\_different-hemisphere\\\\\n",
       "\t21 & sub-0000 & fMotionArea-left  & fMotionArea-right & ses-sep & ses-sep & go & go & Gaze-2  & Gaze-2  & same-ROI\\_different-hemisphere\\\\\n",
       "\t22 & sub-0000 & fMotionArea-left  & fMotionArea-right & ses-sep & ses-sep & go & go & Gaze-3  & Gaze-3  & same-ROI\\_different-hemisphere\\\\\n",
       "\t23 & sub-0000 & fMotionArea-left  & fMotionArea-right & ses-sep & ses-sep & go & go & Gaze-1  & Gaze-3  & same-ROI\\_different-hemisphere\\\\\n",
       "\t24 & sub-0000 & fMotionArea-left  & fMotionArea-right & ses-sep & ses-sep & go & go & Gaze-3  & Gaze-1  & same-ROI\\_different-hemisphere\\\\\n",
       "\t25 & sub-0000 & fMotionArea-left  & fMotionArea-left  & ses-sep & ses-sep & co & co & Cubes-1 & Cubes-3 & same-ROI\\_same-hemisphere     \\\\\n",
       "\t26 & sub-0000 & fMotionArea-right & fMotionArea-right & ses-sep & ses-sep & co & co & Cubes-1 & Cubes-3 & same-ROI\\_same-hemisphere     \\\\\n",
       "\t27 & sub-0000 & fMotionArea-left  & fMotionArea-left  & ses-sep & ses-sep & go & go & Gaze-1  & Gaze-3  & same-ROI\\_same-hemisphere     \\\\\n",
       "\t28 & sub-0000 & fMotionArea-right & fMotionArea-right & ses-sep & ses-sep & go & go & Gaze-1  & Gaze-3  & same-ROI\\_same-hemisphere     \\\\\n",
       "\t29 & sub-0000 & fMotionArea-left  & fMotionArea-right & ses-sep & ses-sep & co & go & Cubes-1 & Gaze-1  & same-ROI\\_different-hemisphere\\\\\n",
       "\t30 & sub-0000 & fMotionArea-left  & fMotionArea-right & ses-sep & ses-sep & co & go & Cubes-2 & Gaze-2  & same-ROI\\_different-hemisphere\\\\\n",
       "\t⋮ & ⋮ & ⋮ & ⋮ & ⋮ & ⋮ & ⋮ & ⋮ & ⋮ & ⋮ & ⋮\\\\\n",
       "\t87 & sub-0000 & GFP-left  & GFP-right & ses-sep & ses-sep & co & co & Cubes-3 & Cubes-1 & same-ROI\\_different-hemisphere\\\\\n",
       "\t88 & sub-0000 & GFP-left  & GFP-right & ses-sep & ses-sep & go & go & Gaze-1  & Gaze-1  & same-ROI\\_different-hemisphere\\\\\n",
       "\t89 & sub-0000 & GFP-left  & GFP-right & ses-sep & ses-sep & go & go & Gaze-2  & Gaze-2  & same-ROI\\_different-hemisphere\\\\\n",
       "\t90 & sub-0000 & GFP-left  & GFP-right & ses-sep & ses-sep & go & go & Gaze-3  & Gaze-3  & same-ROI\\_different-hemisphere\\\\\n",
       "\t91 & sub-0000 & GFP-left  & GFP-right & ses-sep & ses-sep & go & go & Gaze-1  & Gaze-3  & same-ROI\\_different-hemisphere\\\\\n",
       "\t92 & sub-0000 & GFP-left  & GFP-right & ses-sep & ses-sep & go & go & Gaze-3  & Gaze-1  & same-ROI\\_different-hemisphere\\\\\n",
       "\t93 & sub-0000 & GFP-left  & GFP-left  & ses-sep & ses-sep & co & co & Cubes-1 & Cubes-3 & same-ROI\\_same-hemisphere     \\\\\n",
       "\t94 & sub-0000 & GFP-right & GFP-right & ses-sep & ses-sep & co & co & Cubes-1 & Cubes-3 & same-ROI\\_same-hemisphere     \\\\\n",
       "\t95 & sub-0000 & GFP-left  & GFP-left  & ses-sep & ses-sep & go & go & Gaze-1  & Gaze-3  & same-ROI\\_same-hemisphere     \\\\\n",
       "\t96 & sub-0000 & GFP-right & GFP-right & ses-sep & ses-sep & go & go & Gaze-1  & Gaze-3  & same-ROI\\_same-hemisphere     \\\\\n",
       "\t97 & sub-0000 & GFP-left  & GFP-right & ses-sep & ses-sep & co & go & Cubes-1 & Gaze-1  & same-ROI\\_different-hemisphere\\\\\n",
       "\t98 & sub-0000 & GFP-left  & GFP-right & ses-sep & ses-sep & co & go & Cubes-2 & Gaze-2  & same-ROI\\_different-hemisphere\\\\\n",
       "\t99 & sub-0000 & GFP-left  & GFP-right & ses-sep & ses-sep & co & go & Cubes-3 & Gaze-3  & same-ROI\\_different-hemisphere\\\\\n",
       "\t100 & sub-0000 & GFP-left  & GFP-right & ses-sep & ses-sep & co & go & Cubes-1 & Gaze-3  & same-ROI\\_different-hemisphere\\\\\n",
       "\t101 & sub-0000 & GFP-left  & GFP-right & ses-sep & ses-sep & co & go & Cubes-3 & Gaze-1  & same-ROI\\_different-hemisphere\\\\\n",
       "\t102 & sub-0000 & GFP-left  & GFP-right & ses-sep & ses-sep & go & co & Gaze-1  & Cubes-1 & same-ROI\\_different-hemisphere\\\\\n",
       "\t103 & sub-0000 & GFP-left  & GFP-right & ses-sep & ses-sep & go & co & Gaze-2  & Cubes-2 & same-ROI\\_different-hemisphere\\\\\n",
       "\t104 & sub-0000 & GFP-left  & GFP-right & ses-sep & ses-sep & go & co & Gaze-3  & Cubes-3 & same-ROI\\_different-hemisphere\\\\\n",
       "\t105 & sub-0000 & GFP-left  & GFP-right & ses-sep & ses-sep & go & co & Gaze-3  & Cubes-1 & same-ROI\\_different-hemisphere\\\\\n",
       "\t106 & sub-0000 & GFP-left  & GFP-right & ses-sep & ses-sep & go & co & Gaze-1  & Cubes-3 & same-ROI\\_different-hemisphere\\\\\n",
       "\t107 & sub-0000 & GFP-left  & GFP-left  & ses-sep & ses-sep & co & go & Cubes-1 & Gaze-1  & same-ROI\\_same-hemisphere     \\\\\n",
       "\t108 & sub-0000 & GFP-left  & GFP-left  & ses-sep & ses-sep & co & go & Cubes-2 & Gaze-2  & same-ROI\\_same-hemisphere     \\\\\n",
       "\t109 & sub-0000 & GFP-left  & GFP-left  & ses-sep & ses-sep & co & go & Cubes-3 & Gaze-3  & same-ROI\\_same-hemisphere     \\\\\n",
       "\t110 & sub-0000 & GFP-left  & GFP-left  & ses-sep & ses-sep & co & go & Cubes-1 & Gaze-3  & same-ROI\\_same-hemisphere     \\\\\n",
       "\t111 & sub-0000 & GFP-left  & GFP-left  & ses-sep & ses-sep & co & go & Cubes-3 & Gaze-1  & same-ROI\\_same-hemisphere     \\\\\n",
       "\t112 & sub-0000 & GFP-right & GFP-right & ses-sep & ses-sep & co & go & Cubes-1 & Gaze-1  & same-ROI\\_same-hemisphere     \\\\\n",
       "\t113 & sub-0000 & GFP-right & GFP-right & ses-sep & ses-sep & co & go & Cubes-2 & Gaze-2  & same-ROI\\_same-hemisphere     \\\\\n",
       "\t114 & sub-0000 & GFP-right & GFP-right & ses-sep & ses-sep & co & go & Cubes-3 & Gaze-3  & same-ROI\\_same-hemisphere     \\\\\n",
       "\t115 & sub-0000 & GFP-right & GFP-right & ses-sep & ses-sep & co & go & Cubes-1 & Gaze-3  & same-ROI\\_same-hemisphere     \\\\\n",
       "\t116 & sub-0000 & GFP-right & GFP-right & ses-sep & ses-sep & co & go & Cubes-3 & Gaze-1  & same-ROI\\_same-hemisphere     \\\\\n",
       "\\end{tabular}\n"
      ],
      "text/markdown": [
       "\n",
       "A data.frame: 116 × 10\n",
       "\n",
       "| <!--/--> | participant &lt;chr&gt; | roi_1 &lt;chr&gt; | roi_2 &lt;chr&gt; | session_1 &lt;chr&gt; | session_2 &lt;chr&gt; | task_1 &lt;chr&gt; | task_2 &lt;chr&gt; | c_1 &lt;chr&gt; | c_2 &lt;chr&gt; | type &lt;chr&gt; |\n",
       "|---|---|---|---|---|---|---|---|---|---|---|\n",
       "| 1 | sub-00   | fMotionArea-left  | fMotionArea-right | ses-com | ses-com | co | co | Cubes-1 | Cubes-1 | same-ROI_different-hemisphere |\n",
       "| 2 | sub-00   | fMotionArea-left  | fMotionArea-right | ses-com | ses-com | co | co | Cubes-2 | Cubes-2 | same-ROI_different-hemisphere |\n",
       "| 3 | sub-00   | fMotionArea-left  | fMotionArea-right | ses-com | ses-com | co | co | Cubes-3 | Cubes-3 | same-ROI_different-hemisphere |\n",
       "| 4 | sub-00   | fMotionArea-left  | fMotionArea-right | ses-com | ses-com | co | co | Cubes-1 | Cubes-3 | same-ROI_different-hemisphere |\n",
       "| 5 | sub-00   | fMotionArea-left  | fMotionArea-right | ses-com | ses-com | co | co | Cubes-3 | Cubes-1 | same-ROI_different-hemisphere |\n",
       "| 6 | sub-00   | fMotionArea-left  | fMotionArea-left  | ses-com | ses-com | co | co | Cubes-1 | Cubes-3 | same-ROI_same-hemisphere      |\n",
       "| 7 | sub-00   | fMotionArea-right | fMotionArea-right | ses-com | ses-com | co | co | Cubes-1 | Cubes-3 | same-ROI_same-hemisphere      |\n",
       "| 8 | sub-00   | GFP-left          | GFP-right         | ses-com | ses-com | co | co | Cubes-1 | Cubes-1 | same-ROI_different-hemisphere |\n",
       "| 9 | sub-00   | GFP-left          | GFP-right         | ses-com | ses-com | co | co | Cubes-2 | Cubes-2 | same-ROI_different-hemisphere |\n",
       "| 10 | sub-00   | GFP-left          | GFP-right         | ses-com | ses-com | co | co | Cubes-3 | Cubes-3 | same-ROI_different-hemisphere |\n",
       "| 11 | sub-00   | GFP-left          | GFP-right         | ses-com | ses-com | co | co | Cubes-1 | Cubes-3 | same-ROI_different-hemisphere |\n",
       "| 12 | sub-00   | GFP-left          | GFP-right         | ses-com | ses-com | co | co | Cubes-3 | Cubes-1 | same-ROI_different-hemisphere |\n",
       "| 13 | sub-00   | GFP-left          | GFP-left          | ses-com | ses-com | co | co | Cubes-1 | Cubes-3 | same-ROI_same-hemisphere      |\n",
       "| 14 | sub-00   | GFP-right         | GFP-right         | ses-com | ses-com | co | co | Cubes-1 | Cubes-3 | same-ROI_same-hemisphere      |\n",
       "| 15 | sub-0000 | fMotionArea-left  | fMotionArea-right | ses-sep | ses-sep | co | co | Cubes-1 | Cubes-1 | same-ROI_different-hemisphere |\n",
       "| 16 | sub-0000 | fMotionArea-left  | fMotionArea-right | ses-sep | ses-sep | co | co | Cubes-2 | Cubes-2 | same-ROI_different-hemisphere |\n",
       "| 17 | sub-0000 | fMotionArea-left  | fMotionArea-right | ses-sep | ses-sep | co | co | Cubes-3 | Cubes-3 | same-ROI_different-hemisphere |\n",
       "| 18 | sub-0000 | fMotionArea-left  | fMotionArea-right | ses-sep | ses-sep | co | co | Cubes-1 | Cubes-3 | same-ROI_different-hemisphere |\n",
       "| 19 | sub-0000 | fMotionArea-left  | fMotionArea-right | ses-sep | ses-sep | co | co | Cubes-3 | Cubes-1 | same-ROI_different-hemisphere |\n",
       "| 20 | sub-0000 | fMotionArea-left  | fMotionArea-right | ses-sep | ses-sep | go | go | Gaze-1  | Gaze-1  | same-ROI_different-hemisphere |\n",
       "| 21 | sub-0000 | fMotionArea-left  | fMotionArea-right | ses-sep | ses-sep | go | go | Gaze-2  | Gaze-2  | same-ROI_different-hemisphere |\n",
       "| 22 | sub-0000 | fMotionArea-left  | fMotionArea-right | ses-sep | ses-sep | go | go | Gaze-3  | Gaze-3  | same-ROI_different-hemisphere |\n",
       "| 23 | sub-0000 | fMotionArea-left  | fMotionArea-right | ses-sep | ses-sep | go | go | Gaze-1  | Gaze-3  | same-ROI_different-hemisphere |\n",
       "| 24 | sub-0000 | fMotionArea-left  | fMotionArea-right | ses-sep | ses-sep | go | go | Gaze-3  | Gaze-1  | same-ROI_different-hemisphere |\n",
       "| 25 | sub-0000 | fMotionArea-left  | fMotionArea-left  | ses-sep | ses-sep | co | co | Cubes-1 | Cubes-3 | same-ROI_same-hemisphere      |\n",
       "| 26 | sub-0000 | fMotionArea-right | fMotionArea-right | ses-sep | ses-sep | co | co | Cubes-1 | Cubes-3 | same-ROI_same-hemisphere      |\n",
       "| 27 | sub-0000 | fMotionArea-left  | fMotionArea-left  | ses-sep | ses-sep | go | go | Gaze-1  | Gaze-3  | same-ROI_same-hemisphere      |\n",
       "| 28 | sub-0000 | fMotionArea-right | fMotionArea-right | ses-sep | ses-sep | go | go | Gaze-1  | Gaze-3  | same-ROI_same-hemisphere      |\n",
       "| 29 | sub-0000 | fMotionArea-left  | fMotionArea-right | ses-sep | ses-sep | co | go | Cubes-1 | Gaze-1  | same-ROI_different-hemisphere |\n",
       "| 30 | sub-0000 | fMotionArea-left  | fMotionArea-right | ses-sep | ses-sep | co | go | Cubes-2 | Gaze-2  | same-ROI_different-hemisphere |\n",
       "| ⋮ | ⋮ | ⋮ | ⋮ | ⋮ | ⋮ | ⋮ | ⋮ | ⋮ | ⋮ | ⋮ |\n",
       "| 87 | sub-0000 | GFP-left  | GFP-right | ses-sep | ses-sep | co | co | Cubes-3 | Cubes-1 | same-ROI_different-hemisphere |\n",
       "| 88 | sub-0000 | GFP-left  | GFP-right | ses-sep | ses-sep | go | go | Gaze-1  | Gaze-1  | same-ROI_different-hemisphere |\n",
       "| 89 | sub-0000 | GFP-left  | GFP-right | ses-sep | ses-sep | go | go | Gaze-2  | Gaze-2  | same-ROI_different-hemisphere |\n",
       "| 90 | sub-0000 | GFP-left  | GFP-right | ses-sep | ses-sep | go | go | Gaze-3  | Gaze-3  | same-ROI_different-hemisphere |\n",
       "| 91 | sub-0000 | GFP-left  | GFP-right | ses-sep | ses-sep | go | go | Gaze-1  | Gaze-3  | same-ROI_different-hemisphere |\n",
       "| 92 | sub-0000 | GFP-left  | GFP-right | ses-sep | ses-sep | go | go | Gaze-3  | Gaze-1  | same-ROI_different-hemisphere |\n",
       "| 93 | sub-0000 | GFP-left  | GFP-left  | ses-sep | ses-sep | co | co | Cubes-1 | Cubes-3 | same-ROI_same-hemisphere      |\n",
       "| 94 | sub-0000 | GFP-right | GFP-right | ses-sep | ses-sep | co | co | Cubes-1 | Cubes-3 | same-ROI_same-hemisphere      |\n",
       "| 95 | sub-0000 | GFP-left  | GFP-left  | ses-sep | ses-sep | go | go | Gaze-1  | Gaze-3  | same-ROI_same-hemisphere      |\n",
       "| 96 | sub-0000 | GFP-right | GFP-right | ses-sep | ses-sep | go | go | Gaze-1  | Gaze-3  | same-ROI_same-hemisphere      |\n",
       "| 97 | sub-0000 | GFP-left  | GFP-right | ses-sep | ses-sep | co | go | Cubes-1 | Gaze-1  | same-ROI_different-hemisphere |\n",
       "| 98 | sub-0000 | GFP-left  | GFP-right | ses-sep | ses-sep | co | go | Cubes-2 | Gaze-2  | same-ROI_different-hemisphere |\n",
       "| 99 | sub-0000 | GFP-left  | GFP-right | ses-sep | ses-sep | co | go | Cubes-3 | Gaze-3  | same-ROI_different-hemisphere |\n",
       "| 100 | sub-0000 | GFP-left  | GFP-right | ses-sep | ses-sep | co | go | Cubes-1 | Gaze-3  | same-ROI_different-hemisphere |\n",
       "| 101 | sub-0000 | GFP-left  | GFP-right | ses-sep | ses-sep | co | go | Cubes-3 | Gaze-1  | same-ROI_different-hemisphere |\n",
       "| 102 | sub-0000 | GFP-left  | GFP-right | ses-sep | ses-sep | go | co | Gaze-1  | Cubes-1 | same-ROI_different-hemisphere |\n",
       "| 103 | sub-0000 | GFP-left  | GFP-right | ses-sep | ses-sep | go | co | Gaze-2  | Cubes-2 | same-ROI_different-hemisphere |\n",
       "| 104 | sub-0000 | GFP-left  | GFP-right | ses-sep | ses-sep | go | co | Gaze-3  | Cubes-3 | same-ROI_different-hemisphere |\n",
       "| 105 | sub-0000 | GFP-left  | GFP-right | ses-sep | ses-sep | go | co | Gaze-3  | Cubes-1 | same-ROI_different-hemisphere |\n",
       "| 106 | sub-0000 | GFP-left  | GFP-right | ses-sep | ses-sep | go | co | Gaze-1  | Cubes-3 | same-ROI_different-hemisphere |\n",
       "| 107 | sub-0000 | GFP-left  | GFP-left  | ses-sep | ses-sep | co | go | Cubes-1 | Gaze-1  | same-ROI_same-hemisphere      |\n",
       "| 108 | sub-0000 | GFP-left  | GFP-left  | ses-sep | ses-sep | co | go | Cubes-2 | Gaze-2  | same-ROI_same-hemisphere      |\n",
       "| 109 | sub-0000 | GFP-left  | GFP-left  | ses-sep | ses-sep | co | go | Cubes-3 | Gaze-3  | same-ROI_same-hemisphere      |\n",
       "| 110 | sub-0000 | GFP-left  | GFP-left  | ses-sep | ses-sep | co | go | Cubes-1 | Gaze-3  | same-ROI_same-hemisphere      |\n",
       "| 111 | sub-0000 | GFP-left  | GFP-left  | ses-sep | ses-sep | co | go | Cubes-3 | Gaze-1  | same-ROI_same-hemisphere      |\n",
       "| 112 | sub-0000 | GFP-right | GFP-right | ses-sep | ses-sep | co | go | Cubes-1 | Gaze-1  | same-ROI_same-hemisphere      |\n",
       "| 113 | sub-0000 | GFP-right | GFP-right | ses-sep | ses-sep | co | go | Cubes-2 | Gaze-2  | same-ROI_same-hemisphere      |\n",
       "| 114 | sub-0000 | GFP-right | GFP-right | ses-sep | ses-sep | co | go | Cubes-3 | Gaze-3  | same-ROI_same-hemisphere      |\n",
       "| 115 | sub-0000 | GFP-right | GFP-right | ses-sep | ses-sep | co | go | Cubes-1 | Gaze-3  | same-ROI_same-hemisphere      |\n",
       "| 116 | sub-0000 | GFP-right | GFP-right | ses-sep | ses-sep | co | go | Cubes-3 | Gaze-1  | same-ROI_same-hemisphere      |\n",
       "\n"
      ],
      "text/plain": [
       "    participant roi_1             roi_2             session_1 session_2 task_1\n",
       "1   sub-00      fMotionArea-left  fMotionArea-right ses-com   ses-com   co    \n",
       "2   sub-00      fMotionArea-left  fMotionArea-right ses-com   ses-com   co    \n",
       "3   sub-00      fMotionArea-left  fMotionArea-right ses-com   ses-com   co    \n",
       "4   sub-00      fMotionArea-left  fMotionArea-right ses-com   ses-com   co    \n",
       "5   sub-00      fMotionArea-left  fMotionArea-right ses-com   ses-com   co    \n",
       "6   sub-00      fMotionArea-left  fMotionArea-left  ses-com   ses-com   co    \n",
       "7   sub-00      fMotionArea-right fMotionArea-right ses-com   ses-com   co    \n",
       "8   sub-00      GFP-left          GFP-right         ses-com   ses-com   co    \n",
       "9   sub-00      GFP-left          GFP-right         ses-com   ses-com   co    \n",
       "10  sub-00      GFP-left          GFP-right         ses-com   ses-com   co    \n",
       "11  sub-00      GFP-left          GFP-right         ses-com   ses-com   co    \n",
       "12  sub-00      GFP-left          GFP-right         ses-com   ses-com   co    \n",
       "13  sub-00      GFP-left          GFP-left          ses-com   ses-com   co    \n",
       "14  sub-00      GFP-right         GFP-right         ses-com   ses-com   co    \n",
       "15  sub-0000    fMotionArea-left  fMotionArea-right ses-sep   ses-sep   co    \n",
       "16  sub-0000    fMotionArea-left  fMotionArea-right ses-sep   ses-sep   co    \n",
       "17  sub-0000    fMotionArea-left  fMotionArea-right ses-sep   ses-sep   co    \n",
       "18  sub-0000    fMotionArea-left  fMotionArea-right ses-sep   ses-sep   co    \n",
       "19  sub-0000    fMotionArea-left  fMotionArea-right ses-sep   ses-sep   co    \n",
       "20  sub-0000    fMotionArea-left  fMotionArea-right ses-sep   ses-sep   go    \n",
       "21  sub-0000    fMotionArea-left  fMotionArea-right ses-sep   ses-sep   go    \n",
       "22  sub-0000    fMotionArea-left  fMotionArea-right ses-sep   ses-sep   go    \n",
       "23  sub-0000    fMotionArea-left  fMotionArea-right ses-sep   ses-sep   go    \n",
       "24  sub-0000    fMotionArea-left  fMotionArea-right ses-sep   ses-sep   go    \n",
       "25  sub-0000    fMotionArea-left  fMotionArea-left  ses-sep   ses-sep   co    \n",
       "26  sub-0000    fMotionArea-right fMotionArea-right ses-sep   ses-sep   co    \n",
       "27  sub-0000    fMotionArea-left  fMotionArea-left  ses-sep   ses-sep   go    \n",
       "28  sub-0000    fMotionArea-right fMotionArea-right ses-sep   ses-sep   go    \n",
       "29  sub-0000    fMotionArea-left  fMotionArea-right ses-sep   ses-sep   co    \n",
       "30  sub-0000    fMotionArea-left  fMotionArea-right ses-sep   ses-sep   co    \n",
       "⋮   ⋮           ⋮                 ⋮                 ⋮         ⋮         ⋮     \n",
       "87  sub-0000    GFP-left          GFP-right         ses-sep   ses-sep   co    \n",
       "88  sub-0000    GFP-left          GFP-right         ses-sep   ses-sep   go    \n",
       "89  sub-0000    GFP-left          GFP-right         ses-sep   ses-sep   go    \n",
       "90  sub-0000    GFP-left          GFP-right         ses-sep   ses-sep   go    \n",
       "91  sub-0000    GFP-left          GFP-right         ses-sep   ses-sep   go    \n",
       "92  sub-0000    GFP-left          GFP-right         ses-sep   ses-sep   go    \n",
       "93  sub-0000    GFP-left          GFP-left          ses-sep   ses-sep   co    \n",
       "94  sub-0000    GFP-right         GFP-right         ses-sep   ses-sep   co    \n",
       "95  sub-0000    GFP-left          GFP-left          ses-sep   ses-sep   go    \n",
       "96  sub-0000    GFP-right         GFP-right         ses-sep   ses-sep   go    \n",
       "97  sub-0000    GFP-left          GFP-right         ses-sep   ses-sep   co    \n",
       "98  sub-0000    GFP-left          GFP-right         ses-sep   ses-sep   co    \n",
       "99  sub-0000    GFP-left          GFP-right         ses-sep   ses-sep   co    \n",
       "100 sub-0000    GFP-left          GFP-right         ses-sep   ses-sep   co    \n",
       "101 sub-0000    GFP-left          GFP-right         ses-sep   ses-sep   co    \n",
       "102 sub-0000    GFP-left          GFP-right         ses-sep   ses-sep   go    \n",
       "103 sub-0000    GFP-left          GFP-right         ses-sep   ses-sep   go    \n",
       "104 sub-0000    GFP-left          GFP-right         ses-sep   ses-sep   go    \n",
       "105 sub-0000    GFP-left          GFP-right         ses-sep   ses-sep   go    \n",
       "106 sub-0000    GFP-left          GFP-right         ses-sep   ses-sep   go    \n",
       "107 sub-0000    GFP-left          GFP-left          ses-sep   ses-sep   co    \n",
       "108 sub-0000    GFP-left          GFP-left          ses-sep   ses-sep   co    \n",
       "109 sub-0000    GFP-left          GFP-left          ses-sep   ses-sep   co    \n",
       "110 sub-0000    GFP-left          GFP-left          ses-sep   ses-sep   co    \n",
       "111 sub-0000    GFP-left          GFP-left          ses-sep   ses-sep   co    \n",
       "112 sub-0000    GFP-right         GFP-right         ses-sep   ses-sep   co    \n",
       "113 sub-0000    GFP-right         GFP-right         ses-sep   ses-sep   co    \n",
       "114 sub-0000    GFP-right         GFP-right         ses-sep   ses-sep   co    \n",
       "115 sub-0000    GFP-right         GFP-right         ses-sep   ses-sep   co    \n",
       "116 sub-0000    GFP-right         GFP-right         ses-sep   ses-sep   co    \n",
       "    task_2 c_1     c_2     type                         \n",
       "1   co     Cubes-1 Cubes-1 same-ROI_different-hemisphere\n",
       "2   co     Cubes-2 Cubes-2 same-ROI_different-hemisphere\n",
       "3   co     Cubes-3 Cubes-3 same-ROI_different-hemisphere\n",
       "4   co     Cubes-1 Cubes-3 same-ROI_different-hemisphere\n",
       "5   co     Cubes-3 Cubes-1 same-ROI_different-hemisphere\n",
       "6   co     Cubes-1 Cubes-3 same-ROI_same-hemisphere     \n",
       "7   co     Cubes-1 Cubes-3 same-ROI_same-hemisphere     \n",
       "8   co     Cubes-1 Cubes-1 same-ROI_different-hemisphere\n",
       "9   co     Cubes-2 Cubes-2 same-ROI_different-hemisphere\n",
       "10  co     Cubes-3 Cubes-3 same-ROI_different-hemisphere\n",
       "11  co     Cubes-1 Cubes-3 same-ROI_different-hemisphere\n",
       "12  co     Cubes-3 Cubes-1 same-ROI_different-hemisphere\n",
       "13  co     Cubes-1 Cubes-3 same-ROI_same-hemisphere     \n",
       "14  co     Cubes-1 Cubes-3 same-ROI_same-hemisphere     \n",
       "15  co     Cubes-1 Cubes-1 same-ROI_different-hemisphere\n",
       "16  co     Cubes-2 Cubes-2 same-ROI_different-hemisphere\n",
       "17  co     Cubes-3 Cubes-3 same-ROI_different-hemisphere\n",
       "18  co     Cubes-1 Cubes-3 same-ROI_different-hemisphere\n",
       "19  co     Cubes-3 Cubes-1 same-ROI_different-hemisphere\n",
       "20  go     Gaze-1  Gaze-1  same-ROI_different-hemisphere\n",
       "21  go     Gaze-2  Gaze-2  same-ROI_different-hemisphere\n",
       "22  go     Gaze-3  Gaze-3  same-ROI_different-hemisphere\n",
       "23  go     Gaze-1  Gaze-3  same-ROI_different-hemisphere\n",
       "24  go     Gaze-3  Gaze-1  same-ROI_different-hemisphere\n",
       "25  co     Cubes-1 Cubes-3 same-ROI_same-hemisphere     \n",
       "26  co     Cubes-1 Cubes-3 same-ROI_same-hemisphere     \n",
       "27  go     Gaze-1  Gaze-3  same-ROI_same-hemisphere     \n",
       "28  go     Gaze-1  Gaze-3  same-ROI_same-hemisphere     \n",
       "29  go     Cubes-1 Gaze-1  same-ROI_different-hemisphere\n",
       "30  go     Cubes-2 Gaze-2  same-ROI_different-hemisphere\n",
       "⋮   ⋮      ⋮       ⋮       ⋮                            \n",
       "87  co     Cubes-3 Cubes-1 same-ROI_different-hemisphere\n",
       "88  go     Gaze-1  Gaze-1  same-ROI_different-hemisphere\n",
       "89  go     Gaze-2  Gaze-2  same-ROI_different-hemisphere\n",
       "90  go     Gaze-3  Gaze-3  same-ROI_different-hemisphere\n",
       "91  go     Gaze-1  Gaze-3  same-ROI_different-hemisphere\n",
       "92  go     Gaze-3  Gaze-1  same-ROI_different-hemisphere\n",
       "93  co     Cubes-1 Cubes-3 same-ROI_same-hemisphere     \n",
       "94  co     Cubes-1 Cubes-3 same-ROI_same-hemisphere     \n",
       "95  go     Gaze-1  Gaze-3  same-ROI_same-hemisphere     \n",
       "96  go     Gaze-1  Gaze-3  same-ROI_same-hemisphere     \n",
       "97  go     Cubes-1 Gaze-1  same-ROI_different-hemisphere\n",
       "98  go     Cubes-2 Gaze-2  same-ROI_different-hemisphere\n",
       "99  go     Cubes-3 Gaze-3  same-ROI_different-hemisphere\n",
       "100 go     Cubes-1 Gaze-3  same-ROI_different-hemisphere\n",
       "101 go     Cubes-3 Gaze-1  same-ROI_different-hemisphere\n",
       "102 co     Gaze-1  Cubes-1 same-ROI_different-hemisphere\n",
       "103 co     Gaze-2  Cubes-2 same-ROI_different-hemisphere\n",
       "104 co     Gaze-3  Cubes-3 same-ROI_different-hemisphere\n",
       "105 co     Gaze-3  Cubes-1 same-ROI_different-hemisphere\n",
       "106 co     Gaze-1  Cubes-3 same-ROI_different-hemisphere\n",
       "107 go     Cubes-1 Gaze-1  same-ROI_same-hemisphere     \n",
       "108 go     Cubes-2 Gaze-2  same-ROI_same-hemisphere     \n",
       "109 go     Cubes-3 Gaze-3  same-ROI_same-hemisphere     \n",
       "110 go     Cubes-1 Gaze-3  same-ROI_same-hemisphere     \n",
       "111 go     Cubes-3 Gaze-1  same-ROI_same-hemisphere     \n",
       "112 go     Cubes-1 Gaze-1  same-ROI_same-hemisphere     \n",
       "113 go     Cubes-2 Gaze-2  same-ROI_same-hemisphere     \n",
       "114 go     Cubes-3 Gaze-3  same-ROI_same-hemisphere     \n",
       "115 go     Cubes-1 Gaze-3  same-ROI_same-hemisphere     \n",
       "116 go     Cubes-3 Gaze-1  same-ROI_same-hemisphere     "
      ]
     },
     "metadata": {},
     "output_type": "display_data"
    }
   ],
   "source": [
    "comparison_df"
   ]
  },
  {
   "cell_type": "markdown",
   "id": "d7a6fe13-4dbb-4c09-b8a1-8df5e985336f",
   "metadata": {},
   "source": [
    "## Compute the correlations for pairs spcified in .csv"
   ]
  },
  {
   "cell_type": "code",
   "execution_count": 364,
   "id": "f87121cb-6581-42f5-8020-d0ebf909918c",
   "metadata": {},
   "outputs": [
    {
     "name": "stdout",
     "output_type": "stream",
     "text": [
      "[1] \"sub-00_ses-com_ses-com_co_co_fMotionArea-left_fMotionArea-right_Cubes-1_Cubes-1\"\n"
     ]
    },
    {
     "name": "stderr",
     "output_type": "stream",
     "text": [
      "Independent-candidate M-H acceptance rate: 93%\n",
      "\n"
     ]
    },
    {
     "name": "stdout",
     "output_type": "stream",
     "text": [
      "[1] \"sub-00_ses-com_ses-com_co_co_fMotionArea-left_fMotionArea-right_Cubes-2_Cubes-2\"\n"
     ]
    },
    {
     "name": "stderr",
     "output_type": "stream",
     "text": [
      "Independent-candidate M-H acceptance rate: 77%\n",
      "\n"
     ]
    },
    {
     "name": "stdout",
     "output_type": "stream",
     "text": [
      "[1] \"sub-00_ses-com_ses-com_co_co_fMotionArea-left_fMotionArea-right_Cubes-3_Cubes-3\"\n"
     ]
    },
    {
     "name": "stderr",
     "output_type": "stream",
     "text": [
      "Independent-candidate M-H acceptance rate: 85%\n",
      "\n"
     ]
    },
    {
     "name": "stdout",
     "output_type": "stream",
     "text": [
      "[1] \"sub-00_ses-com_ses-com_co_co_fMotionArea-left_fMotionArea-right_Cubes-1_Cubes-3\"\n"
     ]
    },
    {
     "name": "stderr",
     "output_type": "stream",
     "text": [
      "Independent-candidate M-H acceptance rate: 79%\n",
      "\n"
     ]
    },
    {
     "name": "stdout",
     "output_type": "stream",
     "text": [
      "[1] \"sub-00_ses-com_ses-com_co_co_fMotionArea-left_fMotionArea-right_Cubes-3_Cubes-1\"\n"
     ]
    },
    {
     "name": "stderr",
     "output_type": "stream",
     "text": [
      "Independent-candidate M-H acceptance rate: 75%\n",
      "\n"
     ]
    },
    {
     "name": "stdout",
     "output_type": "stream",
     "text": [
      "[1] \"sub-00_ses-com_ses-com_co_co_fMotionArea-left_fMotionArea-left_Cubes-1_Cubes-3\"\n"
     ]
    },
    {
     "name": "stderr",
     "output_type": "stream",
     "text": [
      "Independent-candidate M-H acceptance rate: 89%\n",
      "\n"
     ]
    },
    {
     "name": "stdout",
     "output_type": "stream",
     "text": [
      "[1] \"sub-00_ses-com_ses-com_co_co_fMotionArea-right_fMotionArea-right_Cubes-1_Cubes-3\"\n"
     ]
    },
    {
     "name": "stderr",
     "output_type": "stream",
     "text": [
      "Independent-candidate M-H acceptance rate: 85%\n",
      "\n"
     ]
    },
    {
     "name": "stdout",
     "output_type": "stream",
     "text": [
      "[1] \"sub-00_ses-com_ses-com_co_co_Marquardt2017GFP-left_Marquardt2017GFP-right_Cubes-1_Cubes-1\"\n"
     ]
    },
    {
     "name": "stderr",
     "output_type": "stream",
     "text": [
      "Independent-candidate M-H acceptance rate: 83%\n",
      "\n"
     ]
    },
    {
     "name": "stdout",
     "output_type": "stream",
     "text": [
      "[1] \"sub-00_ses-com_ses-com_co_co_Marquardt2017GFP-left_Marquardt2017GFP-right_Cubes-2_Cubes-2\"\n"
     ]
    },
    {
     "name": "stderr",
     "output_type": "stream",
     "text": [
      "Independent-candidate M-H acceptance rate: 79%\n",
      "\n"
     ]
    },
    {
     "name": "stdout",
     "output_type": "stream",
     "text": [
      "[1] \"sub-00_ses-com_ses-com_co_co_Marquardt2017GFP-left_Marquardt2017GFP-right_Cubes-3_Cubes-3\"\n"
     ]
    },
    {
     "name": "stderr",
     "output_type": "stream",
     "text": [
      "Independent-candidate M-H acceptance rate: 81%\n",
      "\n"
     ]
    },
    {
     "name": "stdout",
     "output_type": "stream",
     "text": [
      "[1] \"sub-00_ses-com_ses-com_co_co_Marquardt2017GFP-left_Marquardt2017GFP-right_Cubes-1_Cubes-3\"\n"
     ]
    },
    {
     "name": "stderr",
     "output_type": "stream",
     "text": [
      "Independent-candidate M-H acceptance rate: 81%\n",
      "\n"
     ]
    },
    {
     "name": "stdout",
     "output_type": "stream",
     "text": [
      "[1] \"sub-00_ses-com_ses-com_co_co_Marquardt2017GFP-left_Marquardt2017GFP-right_Cubes-3_Cubes-1\"\n"
     ]
    },
    {
     "name": "stderr",
     "output_type": "stream",
     "text": [
      "Independent-candidate M-H acceptance rate: 80%\n",
      "\n"
     ]
    },
    {
     "name": "stdout",
     "output_type": "stream",
     "text": [
      "[1] \"sub-00_ses-com_ses-com_co_co_Marquardt2017GFP-left_Marquardt2017GFP-left_Cubes-1_Cubes-3\"\n"
     ]
    },
    {
     "name": "stderr",
     "output_type": "stream",
     "text": [
      "Independent-candidate M-H acceptance rate: 79%\n",
      "\n"
     ]
    },
    {
     "name": "stdout",
     "output_type": "stream",
     "text": [
      "[1] \"sub-00_ses-com_ses-com_co_co_Marquardt2017GFP-right_Marquardt2017GFP-right_Cubes-1_Cubes-3\"\n"
     ]
    },
    {
     "name": "stderr",
     "output_type": "stream",
     "text": [
      "Independent-candidate M-H acceptance rate: 79%\n",
      "\n"
     ]
    },
    {
     "name": "stdout",
     "output_type": "stream",
     "text": [
      "[1] \"sub-0000_ses-sep_ses-sep_co_co_fMotionArea-left_fMotionArea-right_Cubes-1_Cubes-1\"\n"
     ]
    },
    {
     "name": "stderr",
     "output_type": "stream",
     "text": [
      "Independent-candidate M-H acceptance rate: 82%\n",
      "\n"
     ]
    },
    {
     "name": "stdout",
     "output_type": "stream",
     "text": [
      "[1] \"sub-0000_ses-sep_ses-sep_co_co_fMotionArea-left_fMotionArea-right_Cubes-2_Cubes-2\"\n"
     ]
    },
    {
     "name": "stderr",
     "output_type": "stream",
     "text": [
      "Independent-candidate M-H acceptance rate: 75%\n",
      "\n"
     ]
    },
    {
     "name": "stdout",
     "output_type": "stream",
     "text": [
      "[1] \"sub-0000_ses-sep_ses-sep_co_co_fMotionArea-left_fMotionArea-right_Cubes-3_Cubes-3\"\n"
     ]
    },
    {
     "name": "stderr",
     "output_type": "stream",
     "text": [
      "Independent-candidate M-H acceptance rate: 92%\n",
      "\n"
     ]
    },
    {
     "name": "stdout",
     "output_type": "stream",
     "text": [
      "[1] \"sub-0000_ses-sep_ses-sep_co_co_fMotionArea-left_fMotionArea-right_Cubes-1_Cubes-3\"\n"
     ]
    },
    {
     "name": "stderr",
     "output_type": "stream",
     "text": [
      "Independent-candidate M-H acceptance rate: 76%\n",
      "\n"
     ]
    },
    {
     "name": "stdout",
     "output_type": "stream",
     "text": [
      "[1] \"sub-0000_ses-sep_ses-sep_co_co_fMotionArea-left_fMotionArea-right_Cubes-3_Cubes-1\"\n"
     ]
    },
    {
     "name": "stderr",
     "output_type": "stream",
     "text": [
      "Independent-candidate M-H acceptance rate: 84%\n",
      "\n"
     ]
    },
    {
     "name": "stdout",
     "output_type": "stream",
     "text": [
      "[1] \"sub-0000_ses-sep_ses-sep_go_go_fMotionArea-left_fMotionArea-right_Gaze-1_Gaze-1\"\n"
     ]
    },
    {
     "name": "stderr",
     "output_type": "stream",
     "text": [
      "Independent-candidate M-H acceptance rate: 78%\n",
      "\n"
     ]
    },
    {
     "name": "stdout",
     "output_type": "stream",
     "text": [
      "[1] \"sub-0000_ses-sep_ses-sep_go_go_fMotionArea-left_fMotionArea-right_Gaze-2_Gaze-2\"\n"
     ]
    },
    {
     "name": "stderr",
     "output_type": "stream",
     "text": [
      "Independent-candidate M-H acceptance rate: 75%\n",
      "\n"
     ]
    },
    {
     "name": "stdout",
     "output_type": "stream",
     "text": [
      "[1] \"sub-0000_ses-sep_ses-sep_go_go_fMotionArea-left_fMotionArea-right_Gaze-3_Gaze-3\"\n"
     ]
    },
    {
     "name": "stderr",
     "output_type": "stream",
     "text": [
      "Independent-candidate M-H acceptance rate: 88%\n",
      "\n"
     ]
    },
    {
     "name": "stdout",
     "output_type": "stream",
     "text": [
      "[1] \"sub-0000_ses-sep_ses-sep_go_go_fMotionArea-left_fMotionArea-right_Gaze-1_Gaze-3\"\n"
     ]
    },
    {
     "name": "stderr",
     "output_type": "stream",
     "text": [
      "Independent-candidate M-H acceptance rate: 75%\n",
      "\n"
     ]
    },
    {
     "name": "stdout",
     "output_type": "stream",
     "text": [
      "[1] \"sub-0000_ses-sep_ses-sep_go_go_fMotionArea-left_fMotionArea-right_Gaze-3_Gaze-1\"\n"
     ]
    },
    {
     "name": "stderr",
     "output_type": "stream",
     "text": [
      "Independent-candidate M-H acceptance rate: 73%\n",
      "\n"
     ]
    },
    {
     "name": "stdout",
     "output_type": "stream",
     "text": [
      "[1] \"sub-0000_ses-sep_ses-sep_co_co_fMotionArea-left_fMotionArea-left_Cubes-1_Cubes-3\"\n"
     ]
    },
    {
     "name": "stderr",
     "output_type": "stream",
     "text": [
      "Independent-candidate M-H acceptance rate: 99%\n",
      "\n"
     ]
    },
    {
     "name": "stdout",
     "output_type": "stream",
     "text": [
      "[1] \"sub-0000_ses-sep_ses-sep_co_co_fMotionArea-right_fMotionArea-right_Cubes-1_Cubes-3\"\n"
     ]
    },
    {
     "name": "stderr",
     "output_type": "stream",
     "text": [
      "Independent-candidate M-H acceptance rate: 77%\n",
      "\n"
     ]
    },
    {
     "name": "stdout",
     "output_type": "stream",
     "text": [
      "[1] \"sub-0000_ses-sep_ses-sep_go_go_fMotionArea-left_fMotionArea-left_Gaze-1_Gaze-3\"\n"
     ]
    },
    {
     "name": "stderr",
     "output_type": "stream",
     "text": [
      "Independent-candidate M-H acceptance rate: 80%\n",
      "\n"
     ]
    },
    {
     "name": "stdout",
     "output_type": "stream",
     "text": [
      "[1] \"sub-0000_ses-sep_ses-sep_go_go_fMotionArea-right_fMotionArea-right_Gaze-1_Gaze-3\"\n"
     ]
    },
    {
     "name": "stderr",
     "output_type": "stream",
     "text": [
      "Independent-candidate M-H acceptance rate: 82%\n",
      "\n"
     ]
    },
    {
     "name": "stdout",
     "output_type": "stream",
     "text": [
      "[1] \"sub-0000_ses-sep_ses-sep_co_go_fMotionArea-left_fMotionArea-right_Cubes-1_Gaze-1\"\n"
     ]
    },
    {
     "name": "stderr",
     "output_type": "stream",
     "text": [
      "Independent-candidate M-H acceptance rate: 96%\n",
      "\n"
     ]
    },
    {
     "name": "stdout",
     "output_type": "stream",
     "text": [
      "[1] \"sub-0000_ses-sep_ses-sep_co_go_fMotionArea-left_fMotionArea-right_Cubes-2_Gaze-2\"\n"
     ]
    },
    {
     "name": "stderr",
     "output_type": "stream",
     "text": [
      "Independent-candidate M-H acceptance rate: 75%\n",
      "\n"
     ]
    },
    {
     "name": "stdout",
     "output_type": "stream",
     "text": [
      "[1] \"sub-0000_ses-sep_ses-sep_co_go_fMotionArea-left_fMotionArea-right_Cubes-3_Gaze-3\"\n"
     ]
    },
    {
     "name": "stderr",
     "output_type": "stream",
     "text": [
      "Independent-candidate M-H acceptance rate: 88%\n",
      "\n"
     ]
    },
    {
     "name": "stdout",
     "output_type": "stream",
     "text": [
      "[1] \"sub-0000_ses-sep_ses-sep_co_go_fMotionArea-left_fMotionArea-right_Cubes-1_Gaze-3\"\n"
     ]
    },
    {
     "name": "stderr",
     "output_type": "stream",
     "text": [
      "Independent-candidate M-H acceptance rate: 79%\n",
      "\n"
     ]
    },
    {
     "name": "stdout",
     "output_type": "stream",
     "text": [
      "[1] \"sub-0000_ses-sep_ses-sep_co_go_fMotionArea-left_fMotionArea-right_Cubes-3_Gaze-1\"\n"
     ]
    },
    {
     "name": "stderr",
     "output_type": "stream",
     "text": [
      "Independent-candidate M-H acceptance rate: 74%\n",
      "\n"
     ]
    },
    {
     "name": "stdout",
     "output_type": "stream",
     "text": [
      "[1] \"sub-0000_ses-sep_ses-sep_go_co_fMotionArea-left_fMotionArea-right_Gaze-1_Cubes-1\"\n"
     ]
    },
    {
     "name": "stderr",
     "output_type": "stream",
     "text": [
      "Independent-candidate M-H acceptance rate: 78%\n",
      "\n"
     ]
    },
    {
     "name": "stdout",
     "output_type": "stream",
     "text": [
      "[1] \"sub-0000_ses-sep_ses-sep_go_co_fMotionArea-left_fMotionArea-right_Gaze-2_Cubes-2\"\n"
     ]
    },
    {
     "name": "stderr",
     "output_type": "stream",
     "text": [
      "Independent-candidate M-H acceptance rate: 74%\n",
      "\n"
     ]
    },
    {
     "name": "stdout",
     "output_type": "stream",
     "text": [
      "[1] \"sub-0000_ses-sep_ses-sep_go_co_fMotionArea-left_fMotionArea-right_Gaze-3_Cubes-3\"\n"
     ]
    },
    {
     "name": "stderr",
     "output_type": "stream",
     "text": [
      "Independent-candidate M-H acceptance rate: 93%\n",
      "\n"
     ]
    },
    {
     "name": "stdout",
     "output_type": "stream",
     "text": [
      "[1] \"sub-0000_ses-sep_ses-sep_go_co_fMotionArea-left_fMotionArea-right_Gaze-3_Cubes-1\"\n"
     ]
    },
    {
     "name": "stderr",
     "output_type": "stream",
     "text": [
      "Independent-candidate M-H acceptance rate: 84%\n",
      "\n"
     ]
    },
    {
     "name": "stdout",
     "output_type": "stream",
     "text": [
      "[1] \"sub-0000_ses-sep_ses-sep_go_co_fMotionArea-left_fMotionArea-right_Gaze-1_Cubes-3\"\n"
     ]
    },
    {
     "name": "stderr",
     "output_type": "stream",
     "text": [
      "Independent-candidate M-H acceptance rate: 77%\n",
      "\n"
     ]
    },
    {
     "name": "stdout",
     "output_type": "stream",
     "text": [
      "[1] \"sub-0000_ses-sep_ses-sep_co_go_fMotionArea-left_fMotionArea-left_Cubes-1_Gaze-1\"\n"
     ]
    },
    {
     "name": "stderr",
     "output_type": "stream",
     "text": [
      "Independent-candidate M-H acceptance rate: 82%\n",
      "\n"
     ]
    },
    {
     "name": "stdout",
     "output_type": "stream",
     "text": [
      "[1] \"sub-0000_ses-sep_ses-sep_co_go_fMotionArea-left_fMotionArea-left_Cubes-2_Gaze-2\"\n"
     ]
    },
    {
     "name": "stderr",
     "output_type": "stream",
     "text": [
      "Independent-candidate M-H acceptance rate: 73%\n",
      "\n"
     ]
    },
    {
     "name": "stdout",
     "output_type": "stream",
     "text": [
      "[1] \"sub-0000_ses-sep_ses-sep_co_go_fMotionArea-left_fMotionArea-left_Cubes-3_Gaze-3\"\n"
     ]
    },
    {
     "name": "stderr",
     "output_type": "stream",
     "text": [
      "Independent-candidate M-H acceptance rate: 73%\n",
      "\n"
     ]
    },
    {
     "name": "stdout",
     "output_type": "stream",
     "text": [
      "[1] \"sub-0000_ses-sep_ses-sep_co_go_fMotionArea-left_fMotionArea-left_Cubes-1_Gaze-3\"\n"
     ]
    },
    {
     "name": "stderr",
     "output_type": "stream",
     "text": [
      "Independent-candidate M-H acceptance rate: 99%\n",
      "\n"
     ]
    },
    {
     "name": "stdout",
     "output_type": "stream",
     "text": [
      "[1] \"sub-0000_ses-sep_ses-sep_co_go_fMotionArea-left_fMotionArea-left_Cubes-3_Gaze-1\"\n"
     ]
    },
    {
     "name": "stderr",
     "output_type": "stream",
     "text": [
      "Independent-candidate M-H acceptance rate: 82%\n",
      "\n"
     ]
    },
    {
     "name": "stdout",
     "output_type": "stream",
     "text": [
      "[1] \"sub-0000_ses-sep_ses-sep_co_go_fMotionArea-right_fMotionArea-right_Cubes-1_Gaze-1\"\n"
     ]
    },
    {
     "name": "stderr",
     "output_type": "stream",
     "text": [
      "Independent-candidate M-H acceptance rate: 81%\n",
      "\n"
     ]
    },
    {
     "name": "stdout",
     "output_type": "stream",
     "text": [
      "[1] \"sub-0000_ses-sep_ses-sep_co_go_fMotionArea-right_fMotionArea-right_Cubes-2_Gaze-2\"\n"
     ]
    },
    {
     "name": "stderr",
     "output_type": "stream",
     "text": [
      "Independent-candidate M-H acceptance rate: 74%\n",
      "\n"
     ]
    },
    {
     "name": "stdout",
     "output_type": "stream",
     "text": [
      "[1] \"sub-0000_ses-sep_ses-sep_co_go_fMotionArea-right_fMotionArea-right_Cubes-3_Gaze-3\"\n"
     ]
    },
    {
     "name": "stderr",
     "output_type": "stream",
     "text": [
      "Independent-candidate M-H acceptance rate: 76%\n",
      "\n"
     ]
    },
    {
     "name": "stdout",
     "output_type": "stream",
     "text": [
      "[1] \"sub-0000_ses-sep_ses-sep_co_go_fMotionArea-right_fMotionArea-right_Cubes-1_Gaze-3\"\n"
     ]
    },
    {
     "name": "stderr",
     "output_type": "stream",
     "text": [
      "Independent-candidate M-H acceptance rate: 76%\n",
      "\n"
     ]
    },
    {
     "name": "stdout",
     "output_type": "stream",
     "text": [
      "[1] \"sub-0000_ses-sep_ses-sep_co_go_fMotionArea-right_fMotionArea-right_Cubes-3_Gaze-1\"\n"
     ]
    },
    {
     "name": "stderr",
     "output_type": "stream",
     "text": [
      "Independent-candidate M-H acceptance rate: 87%\n",
      "\n"
     ]
    },
    {
     "name": "stdout",
     "output_type": "stream",
     "text": [
      "[1] \"sub-0000_ses-sep_ses-sep_co_co_GazeCubes-left_GazeCubes-right_Cubes-1_Cubes-1\"\n"
     ]
    },
    {
     "name": "stderr",
     "output_type": "stream",
     "text": [
      "Independent-candidate M-H acceptance rate: 98%\n",
      "\n"
     ]
    },
    {
     "name": "stdout",
     "output_type": "stream",
     "text": [
      "[1] \"sub-0000_ses-sep_ses-sep_co_co_GazeCubes-left_GazeCubes-right_Cubes-2_Cubes-2\"\n"
     ]
    },
    {
     "name": "stderr",
     "output_type": "stream",
     "text": [
      "Independent-candidate M-H acceptance rate: 79%\n",
      "\n"
     ]
    },
    {
     "name": "stdout",
     "output_type": "stream",
     "text": [
      "[1] \"sub-0000_ses-sep_ses-sep_co_co_GazeCubes-left_GazeCubes-right_Cubes-3_Cubes-3\"\n"
     ]
    },
    {
     "name": "stderr",
     "output_type": "stream",
     "text": [
      "Independent-candidate M-H acceptance rate: 77%\n",
      "\n"
     ]
    },
    {
     "name": "stdout",
     "output_type": "stream",
     "text": [
      "[1] \"sub-0000_ses-sep_ses-sep_co_co_GazeCubes-left_GazeCubes-right_Cubes-1_Cubes-3\"\n"
     ]
    },
    {
     "name": "stderr",
     "output_type": "stream",
     "text": [
      "Independent-candidate M-H acceptance rate: 82%\n",
      "\n"
     ]
    },
    {
     "name": "stdout",
     "output_type": "stream",
     "text": [
      "[1] \"sub-0000_ses-sep_ses-sep_co_co_GazeCubes-left_GazeCubes-right_Cubes-3_Cubes-1\"\n"
     ]
    },
    {
     "name": "stderr",
     "output_type": "stream",
     "text": [
      "Independent-candidate M-H acceptance rate: 85%\n",
      "\n"
     ]
    },
    {
     "name": "stdout",
     "output_type": "stream",
     "text": [
      "[1] \"sub-0000_ses-sep_ses-sep_go_go_GazeCubes-left_GazeCubes-right_Gaze-1_Gaze-1\"\n"
     ]
    },
    {
     "name": "stderr",
     "output_type": "stream",
     "text": [
      "Independent-candidate M-H acceptance rate: 94%\n",
      "\n"
     ]
    },
    {
     "name": "stdout",
     "output_type": "stream",
     "text": [
      "[1] \"sub-0000_ses-sep_ses-sep_go_go_GazeCubes-left_GazeCubes-right_Gaze-2_Gaze-2\"\n"
     ]
    },
    {
     "name": "stderr",
     "output_type": "stream",
     "text": [
      "Independent-candidate M-H acceptance rate: 78%\n",
      "\n"
     ]
    },
    {
     "name": "stdout",
     "output_type": "stream",
     "text": [
      "[1] \"sub-0000_ses-sep_ses-sep_go_go_GazeCubes-left_GazeCubes-right_Gaze-3_Gaze-3\"\n"
     ]
    },
    {
     "name": "stderr",
     "output_type": "stream",
     "text": [
      "Independent-candidate M-H acceptance rate: 95%\n",
      "\n"
     ]
    },
    {
     "name": "stdout",
     "output_type": "stream",
     "text": [
      "[1] \"sub-0000_ses-sep_ses-sep_go_go_GazeCubes-left_GazeCubes-right_Gaze-1_Gaze-3\"\n"
     ]
    },
    {
     "name": "stderr",
     "output_type": "stream",
     "text": [
      "Independent-candidate M-H acceptance rate: 91%\n",
      "\n"
     ]
    },
    {
     "name": "stdout",
     "output_type": "stream",
     "text": [
      "[1] \"sub-0000_ses-sep_ses-sep_go_go_GazeCubes-left_GazeCubes-right_Gaze-3_Gaze-1\"\n"
     ]
    },
    {
     "name": "stderr",
     "output_type": "stream",
     "text": [
      "Independent-candidate M-H acceptance rate: 80%\n",
      "\n"
     ]
    },
    {
     "name": "stdout",
     "output_type": "stream",
     "text": [
      "[1] \"sub-0000_ses-sep_ses-sep_co_co_GazeCubes-left_GazeCubes-left_Cubes-1_Cubes-3\"\n"
     ]
    },
    {
     "name": "stderr",
     "output_type": "stream",
     "text": [
      "Independent-candidate M-H acceptance rate: 80%\n",
      "\n"
     ]
    },
    {
     "name": "stdout",
     "output_type": "stream",
     "text": [
      "[1] \"sub-0000_ses-sep_ses-sep_co_co_GazeCubes-right_GazeCubes-right_Cubes-1_Cubes-3\"\n"
     ]
    },
    {
     "name": "stderr",
     "output_type": "stream",
     "text": [
      "Independent-candidate M-H acceptance rate: 83%\n",
      "\n"
     ]
    },
    {
     "name": "stdout",
     "output_type": "stream",
     "text": [
      "[1] \"sub-0000_ses-sep_ses-sep_go_go_GazeCubes-left_GazeCubes-left_Gaze-1_Gaze-3\"\n"
     ]
    },
    {
     "name": "stderr",
     "output_type": "stream",
     "text": [
      "Independent-candidate M-H acceptance rate: 94%\n",
      "\n"
     ]
    },
    {
     "name": "stdout",
     "output_type": "stream",
     "text": [
      "[1] \"sub-0000_ses-sep_ses-sep_go_go_GazeCubes-right_GazeCubes-right_Gaze-1_Gaze-3\"\n"
     ]
    },
    {
     "name": "stderr",
     "output_type": "stream",
     "text": [
      "Independent-candidate M-H acceptance rate: 87%\n",
      "\n"
     ]
    },
    {
     "name": "stdout",
     "output_type": "stream",
     "text": [
      "[1] \"sub-0000_ses-sep_ses-sep_co_go_GazeCubes-left_GazeCubes-right_Cubes-1_Gaze-1\"\n"
     ]
    },
    {
     "name": "stderr",
     "output_type": "stream",
     "text": [
      "Independent-candidate M-H acceptance rate: 91%\n",
      "\n"
     ]
    },
    {
     "name": "stdout",
     "output_type": "stream",
     "text": [
      "[1] \"sub-0000_ses-sep_ses-sep_co_go_GazeCubes-left_GazeCubes-right_Cubes-2_Gaze-2\"\n"
     ]
    },
    {
     "name": "stderr",
     "output_type": "stream",
     "text": [
      "Independent-candidate M-H acceptance rate: 76%\n",
      "\n"
     ]
    },
    {
     "name": "stdout",
     "output_type": "stream",
     "text": [
      "[1] \"sub-0000_ses-sep_ses-sep_co_go_GazeCubes-left_GazeCubes-right_Cubes-3_Gaze-3\"\n"
     ]
    },
    {
     "name": "stderr",
     "output_type": "stream",
     "text": [
      "Independent-candidate M-H acceptance rate: 86%\n",
      "\n"
     ]
    },
    {
     "name": "stdout",
     "output_type": "stream",
     "text": [
      "[1] \"sub-0000_ses-sep_ses-sep_co_go_GazeCubes-left_GazeCubes-right_Cubes-1_Gaze-3\"\n"
     ]
    },
    {
     "name": "stderr",
     "output_type": "stream",
     "text": [
      "Independent-candidate M-H acceptance rate: 86%\n",
      "\n"
     ]
    },
    {
     "name": "stdout",
     "output_type": "stream",
     "text": [
      "[1] \"sub-0000_ses-sep_ses-sep_co_go_GazeCubes-left_GazeCubes-right_Cubes-3_Gaze-1\"\n"
     ]
    },
    {
     "name": "stderr",
     "output_type": "stream",
     "text": [
      "Independent-candidate M-H acceptance rate: 76%\n",
      "\n"
     ]
    },
    {
     "name": "stdout",
     "output_type": "stream",
     "text": [
      "[1] \"sub-0000_ses-sep_ses-sep_go_co_GazeCubes-left_GazeCubes-right_Gaze-1_Cubes-1\"\n"
     ]
    },
    {
     "name": "stderr",
     "output_type": "stream",
     "text": [
      "Independent-candidate M-H acceptance rate: 87%\n",
      "\n"
     ]
    },
    {
     "name": "stdout",
     "output_type": "stream",
     "text": [
      "[1] \"sub-0000_ses-sep_ses-sep_go_co_GazeCubes-left_GazeCubes-right_Gaze-2_Cubes-2\"\n"
     ]
    },
    {
     "name": "stderr",
     "output_type": "stream",
     "text": [
      "Independent-candidate M-H acceptance rate: 83%\n",
      "\n"
     ]
    },
    {
     "name": "stdout",
     "output_type": "stream",
     "text": [
      "[1] \"sub-0000_ses-sep_ses-sep_go_co_GazeCubes-left_GazeCubes-right_Gaze-3_Cubes-3\"\n"
     ]
    },
    {
     "name": "stderr",
     "output_type": "stream",
     "text": [
      "Independent-candidate M-H acceptance rate: 94%\n",
      "\n"
     ]
    },
    {
     "name": "stdout",
     "output_type": "stream",
     "text": [
      "[1] \"sub-0000_ses-sep_ses-sep_go_co_GazeCubes-left_GazeCubes-right_Gaze-3_Cubes-1\"\n"
     ]
    },
    {
     "name": "stderr",
     "output_type": "stream",
     "text": [
      "Independent-candidate M-H acceptance rate: 87%\n",
      "\n"
     ]
    },
    {
     "name": "stdout",
     "output_type": "stream",
     "text": [
      "[1] \"sub-0000_ses-sep_ses-sep_go_co_GazeCubes-left_GazeCubes-right_Gaze-1_Cubes-3\"\n"
     ]
    },
    {
     "name": "stderr",
     "output_type": "stream",
     "text": [
      "Independent-candidate M-H acceptance rate: 98%\n",
      "\n"
     ]
    },
    {
     "name": "stdout",
     "output_type": "stream",
     "text": [
      "[1] \"sub-0000_ses-sep_ses-sep_co_go_GazeCubes-left_GazeCubes-left_Cubes-1_Gaze-1\"\n"
     ]
    },
    {
     "name": "stderr",
     "output_type": "stream",
     "text": [
      "Independent-candidate M-H acceptance rate: 82%\n",
      "\n"
     ]
    },
    {
     "name": "stdout",
     "output_type": "stream",
     "text": [
      "[1] \"sub-0000_ses-sep_ses-sep_co_go_GazeCubes-left_GazeCubes-left_Cubes-2_Gaze-2\"\n"
     ]
    },
    {
     "name": "stderr",
     "output_type": "stream",
     "text": [
      "Independent-candidate M-H acceptance rate: 79%\n",
      "\n"
     ]
    },
    {
     "name": "stdout",
     "output_type": "stream",
     "text": [
      "[1] \"sub-0000_ses-sep_ses-sep_co_go_GazeCubes-left_GazeCubes-left_Cubes-3_Gaze-3\"\n"
     ]
    },
    {
     "name": "stderr",
     "output_type": "stream",
     "text": [
      "Independent-candidate M-H acceptance rate: 87%\n",
      "\n"
     ]
    },
    {
     "name": "stdout",
     "output_type": "stream",
     "text": [
      "[1] \"sub-0000_ses-sep_ses-sep_co_go_GazeCubes-left_GazeCubes-left_Cubes-1_Gaze-3\"\n"
     ]
    },
    {
     "name": "stderr",
     "output_type": "stream",
     "text": [
      "Independent-candidate M-H acceptance rate: 99%\n",
      "\n"
     ]
    },
    {
     "name": "stdout",
     "output_type": "stream",
     "text": [
      "[1] \"sub-0000_ses-sep_ses-sep_co_go_GazeCubes-left_GazeCubes-left_Cubes-3_Gaze-1\"\n"
     ]
    },
    {
     "name": "stderr",
     "output_type": "stream",
     "text": [
      "Independent-candidate M-H acceptance rate: 93%\n",
      "\n"
     ]
    },
    {
     "name": "stdout",
     "output_type": "stream",
     "text": [
      "[1] \"sub-0000_ses-sep_ses-sep_co_go_GazeCubes-right_GazeCubes-right_Cubes-1_Gaze-1\"\n"
     ]
    },
    {
     "name": "stderr",
     "output_type": "stream",
     "text": [
      "Independent-candidate M-H acceptance rate: 79%\n",
      "\n"
     ]
    },
    {
     "name": "stdout",
     "output_type": "stream",
     "text": [
      "[1] \"sub-0000_ses-sep_ses-sep_co_go_GazeCubes-right_GazeCubes-right_Cubes-2_Gaze-2\"\n"
     ]
    },
    {
     "name": "stderr",
     "output_type": "stream",
     "text": [
      "Independent-candidate M-H acceptance rate: 77%\n",
      "\n"
     ]
    },
    {
     "name": "stdout",
     "output_type": "stream",
     "text": [
      "[1] \"sub-0000_ses-sep_ses-sep_co_go_GazeCubes-right_GazeCubes-right_Cubes-3_Gaze-3\"\n"
     ]
    },
    {
     "name": "stderr",
     "output_type": "stream",
     "text": [
      "Independent-candidate M-H acceptance rate: 84%\n",
      "\n"
     ]
    },
    {
     "name": "stdout",
     "output_type": "stream",
     "text": [
      "[1] \"sub-0000_ses-sep_ses-sep_co_go_GazeCubes-right_GazeCubes-right_Cubes-1_Gaze-3\"\n"
     ]
    },
    {
     "name": "stderr",
     "output_type": "stream",
     "text": [
      "Independent-candidate M-H acceptance rate: 89%\n",
      "\n"
     ]
    },
    {
     "name": "stdout",
     "output_type": "stream",
     "text": [
      "[1] \"sub-0000_ses-sep_ses-sep_co_go_GazeCubes-right_GazeCubes-right_Cubes-3_Gaze-1\"\n"
     ]
    },
    {
     "name": "stderr",
     "output_type": "stream",
     "text": [
      "Independent-candidate M-H acceptance rate: 78%\n",
      "\n"
     ]
    },
    {
     "name": "stdout",
     "output_type": "stream",
     "text": [
      "[1] \"sub-0000_ses-sep_ses-sep_co_co_Marquardt2017GFP-left_Marquardt2017GFP-right_Cubes-1_Cubes-1\"\n"
     ]
    },
    {
     "name": "stderr",
     "output_type": "stream",
     "text": [
      "Independent-candidate M-H acceptance rate: 78%\n",
      "\n"
     ]
    },
    {
     "name": "stdout",
     "output_type": "stream",
     "text": [
      "[1] \"sub-0000_ses-sep_ses-sep_co_co_Marquardt2017GFP-left_Marquardt2017GFP-right_Cubes-2_Cubes-2\"\n"
     ]
    },
    {
     "name": "stderr",
     "output_type": "stream",
     "text": [
      "Independent-candidate M-H acceptance rate: 82%\n",
      "\n"
     ]
    },
    {
     "name": "stdout",
     "output_type": "stream",
     "text": [
      "[1] \"sub-0000_ses-sep_ses-sep_co_co_Marquardt2017GFP-left_Marquardt2017GFP-right_Cubes-3_Cubes-3\"\n"
     ]
    },
    {
     "name": "stderr",
     "output_type": "stream",
     "text": [
      "Independent-candidate M-H acceptance rate: 97%\n",
      "\n"
     ]
    },
    {
     "name": "stdout",
     "output_type": "stream",
     "text": [
      "[1] \"sub-0000_ses-sep_ses-sep_co_co_Marquardt2017GFP-left_Marquardt2017GFP-right_Cubes-1_Cubes-3\"\n"
     ]
    },
    {
     "name": "stderr",
     "output_type": "stream",
     "text": [
      "Independent-candidate M-H acceptance rate: 77%\n",
      "\n"
     ]
    },
    {
     "name": "stdout",
     "output_type": "stream",
     "text": [
      "[1] \"sub-0000_ses-sep_ses-sep_co_co_Marquardt2017GFP-left_Marquardt2017GFP-right_Cubes-3_Cubes-1\"\n"
     ]
    },
    {
     "name": "stderr",
     "output_type": "stream",
     "text": [
      "Independent-candidate M-H acceptance rate: 97%\n",
      "\n"
     ]
    },
    {
     "name": "stdout",
     "output_type": "stream",
     "text": [
      "[1] \"sub-0000_ses-sep_ses-sep_go_go_Marquardt2017GFP-left_Marquardt2017GFP-right_Gaze-1_Gaze-1\"\n"
     ]
    },
    {
     "name": "stderr",
     "output_type": "stream",
     "text": [
      "Independent-candidate M-H acceptance rate: 91%\n",
      "\n"
     ]
    },
    {
     "name": "stdout",
     "output_type": "stream",
     "text": [
      "[1] \"sub-0000_ses-sep_ses-sep_go_go_Marquardt2017GFP-left_Marquardt2017GFP-right_Gaze-2_Gaze-2\"\n"
     ]
    },
    {
     "name": "stderr",
     "output_type": "stream",
     "text": [
      "Independent-candidate M-H acceptance rate: 76%\n",
      "\n"
     ]
    },
    {
     "name": "stdout",
     "output_type": "stream",
     "text": [
      "[1] \"sub-0000_ses-sep_ses-sep_go_go_Marquardt2017GFP-left_Marquardt2017GFP-right_Gaze-3_Gaze-3\"\n"
     ]
    },
    {
     "name": "stderr",
     "output_type": "stream",
     "text": [
      "Independent-candidate M-H acceptance rate: 83%\n",
      "\n"
     ]
    },
    {
     "name": "stdout",
     "output_type": "stream",
     "text": [
      "[1] \"sub-0000_ses-sep_ses-sep_go_go_Marquardt2017GFP-left_Marquardt2017GFP-right_Gaze-1_Gaze-3\"\n"
     ]
    },
    {
     "name": "stderr",
     "output_type": "stream",
     "text": [
      "Independent-candidate M-H acceptance rate: 96%\n",
      "\n"
     ]
    },
    {
     "name": "stdout",
     "output_type": "stream",
     "text": [
      "[1] \"sub-0000_ses-sep_ses-sep_go_go_Marquardt2017GFP-left_Marquardt2017GFP-right_Gaze-3_Gaze-1\"\n"
     ]
    },
    {
     "name": "stderr",
     "output_type": "stream",
     "text": [
      "Independent-candidate M-H acceptance rate: 79%\n",
      "\n"
     ]
    },
    {
     "name": "stdout",
     "output_type": "stream",
     "text": [
      "[1] \"sub-0000_ses-sep_ses-sep_co_co_Marquardt2017GFP-left_Marquardt2017GFP-left_Cubes-1_Cubes-3\"\n"
     ]
    },
    {
     "name": "stderr",
     "output_type": "stream",
     "text": [
      "Independent-candidate M-H acceptance rate: 97%\n",
      "\n"
     ]
    },
    {
     "name": "stdout",
     "output_type": "stream",
     "text": [
      "[1] \"sub-0000_ses-sep_ses-sep_co_co_Marquardt2017GFP-right_Marquardt2017GFP-right_Cubes-1_Cubes-3\"\n"
     ]
    },
    {
     "name": "stderr",
     "output_type": "stream",
     "text": [
      "Independent-candidate M-H acceptance rate: 74%\n",
      "\n"
     ]
    },
    {
     "name": "stdout",
     "output_type": "stream",
     "text": [
      "[1] \"sub-0000_ses-sep_ses-sep_go_go_Marquardt2017GFP-left_Marquardt2017GFP-left_Gaze-1_Gaze-3\"\n"
     ]
    },
    {
     "name": "stderr",
     "output_type": "stream",
     "text": [
      "Independent-candidate M-H acceptance rate: 84%\n",
      "\n"
     ]
    },
    {
     "name": "stdout",
     "output_type": "stream",
     "text": [
      "[1] \"sub-0000_ses-sep_ses-sep_go_go_Marquardt2017GFP-right_Marquardt2017GFP-right_Gaze-1_Gaze-3\"\n"
     ]
    },
    {
     "name": "stderr",
     "output_type": "stream",
     "text": [
      "Independent-candidate M-H acceptance rate: 75%\n",
      "\n"
     ]
    },
    {
     "name": "stdout",
     "output_type": "stream",
     "text": [
      "[1] \"sub-0000_ses-sep_ses-sep_co_go_Marquardt2017GFP-left_Marquardt2017GFP-right_Cubes-1_Gaze-1\"\n"
     ]
    },
    {
     "name": "stderr",
     "output_type": "stream",
     "text": [
      "Independent-candidate M-H acceptance rate: 96%\n",
      "\n"
     ]
    },
    {
     "name": "stdout",
     "output_type": "stream",
     "text": [
      "[1] \"sub-0000_ses-sep_ses-sep_co_go_Marquardt2017GFP-left_Marquardt2017GFP-right_Cubes-2_Gaze-2\"\n"
     ]
    },
    {
     "name": "stderr",
     "output_type": "stream",
     "text": [
      "Independent-candidate M-H acceptance rate: 78%\n",
      "\n"
     ]
    },
    {
     "name": "stdout",
     "output_type": "stream",
     "text": [
      "[1] \"sub-0000_ses-sep_ses-sep_co_go_Marquardt2017GFP-left_Marquardt2017GFP-right_Cubes-3_Gaze-3\"\n"
     ]
    },
    {
     "name": "stderr",
     "output_type": "stream",
     "text": [
      "Independent-candidate M-H acceptance rate: 85%\n",
      "\n"
     ]
    },
    {
     "name": "stdout",
     "output_type": "stream",
     "text": [
      "[1] \"sub-0000_ses-sep_ses-sep_co_go_Marquardt2017GFP-left_Marquardt2017GFP-right_Cubes-1_Gaze-3\"\n"
     ]
    },
    {
     "name": "stderr",
     "output_type": "stream",
     "text": [
      "Independent-candidate M-H acceptance rate: 92%\n",
      "\n"
     ]
    },
    {
     "name": "stdout",
     "output_type": "stream",
     "text": [
      "[1] \"sub-0000_ses-sep_ses-sep_co_go_Marquardt2017GFP-left_Marquardt2017GFP-right_Cubes-3_Gaze-1\"\n"
     ]
    },
    {
     "name": "stderr",
     "output_type": "stream",
     "text": [
      "Independent-candidate M-H acceptance rate: 83%\n",
      "\n"
     ]
    },
    {
     "name": "stdout",
     "output_type": "stream",
     "text": [
      "[1] \"sub-0000_ses-sep_ses-sep_go_co_Marquardt2017GFP-left_Marquardt2017GFP-right_Gaze-1_Cubes-1\"\n"
     ]
    },
    {
     "name": "stderr",
     "output_type": "stream",
     "text": [
      "Independent-candidate M-H acceptance rate: 98%\n",
      "\n"
     ]
    },
    {
     "name": "stdout",
     "output_type": "stream",
     "text": [
      "[1] \"sub-0000_ses-sep_ses-sep_go_co_Marquardt2017GFP-left_Marquardt2017GFP-right_Gaze-2_Cubes-2\"\n"
     ]
    },
    {
     "name": "stderr",
     "output_type": "stream",
     "text": [
      "Independent-candidate M-H acceptance rate: 78%\n",
      "\n"
     ]
    },
    {
     "name": "stdout",
     "output_type": "stream",
     "text": [
      "[1] \"sub-0000_ses-sep_ses-sep_go_co_Marquardt2017GFP-left_Marquardt2017GFP-right_Gaze-3_Cubes-3\"\n"
     ]
    },
    {
     "name": "stderr",
     "output_type": "stream",
     "text": [
      "Independent-candidate M-H acceptance rate: 93%\n",
      "\n"
     ]
    },
    {
     "name": "stdout",
     "output_type": "stream",
     "text": [
      "[1] \"sub-0000_ses-sep_ses-sep_go_co_Marquardt2017GFP-left_Marquardt2017GFP-right_Gaze-3_Cubes-1\"\n"
     ]
    },
    {
     "name": "stderr",
     "output_type": "stream",
     "text": [
      "Independent-candidate M-H acceptance rate: 86%\n",
      "\n"
     ]
    },
    {
     "name": "stdout",
     "output_type": "stream",
     "text": [
      "[1] \"sub-0000_ses-sep_ses-sep_go_co_Marquardt2017GFP-left_Marquardt2017GFP-right_Gaze-1_Cubes-3\"\n"
     ]
    },
    {
     "name": "stderr",
     "output_type": "stream",
     "text": [
      "Independent-candidate M-H acceptance rate: 91%\n",
      "\n"
     ]
    },
    {
     "name": "stdout",
     "output_type": "stream",
     "text": [
      "[1] \"sub-0000_ses-sep_ses-sep_co_go_Marquardt2017GFP-left_Marquardt2017GFP-left_Cubes-1_Gaze-1\"\n"
     ]
    },
    {
     "name": "stderr",
     "output_type": "stream",
     "text": [
      "Independent-candidate M-H acceptance rate: 85%\n",
      "\n"
     ]
    },
    {
     "name": "stdout",
     "output_type": "stream",
     "text": [
      "[1] \"sub-0000_ses-sep_ses-sep_co_go_Marquardt2017GFP-left_Marquardt2017GFP-left_Cubes-2_Gaze-2\"\n"
     ]
    },
    {
     "name": "stderr",
     "output_type": "stream",
     "text": [
      "Independent-candidate M-H acceptance rate: 76%\n",
      "\n"
     ]
    },
    {
     "name": "stdout",
     "output_type": "stream",
     "text": [
      "[1] \"sub-0000_ses-sep_ses-sep_co_go_Marquardt2017GFP-left_Marquardt2017GFP-left_Cubes-3_Gaze-3\"\n"
     ]
    },
    {
     "name": "stderr",
     "output_type": "stream",
     "text": [
      "Independent-candidate M-H acceptance rate: 76%\n",
      "\n"
     ]
    },
    {
     "name": "stdout",
     "output_type": "stream",
     "text": [
      "[1] \"sub-0000_ses-sep_ses-sep_co_go_Marquardt2017GFP-left_Marquardt2017GFP-left_Cubes-1_Gaze-3\"\n"
     ]
    },
    {
     "name": "stderr",
     "output_type": "stream",
     "text": [
      "Independent-candidate M-H acceptance rate: 93%\n",
      "\n"
     ]
    },
    {
     "name": "stdout",
     "output_type": "stream",
     "text": [
      "[1] \"sub-0000_ses-sep_ses-sep_co_go_Marquardt2017GFP-left_Marquardt2017GFP-left_Cubes-3_Gaze-1\"\n"
     ]
    },
    {
     "name": "stderr",
     "output_type": "stream",
     "text": [
      "Independent-candidate M-H acceptance rate: 80%\n",
      "\n"
     ]
    },
    {
     "name": "stdout",
     "output_type": "stream",
     "text": [
      "[1] \"sub-0000_ses-sep_ses-sep_co_go_Marquardt2017GFP-right_Marquardt2017GFP-right_Cubes-1_Gaze-1\"\n"
     ]
    },
    {
     "name": "stderr",
     "output_type": "stream",
     "text": [
      "Independent-candidate M-H acceptance rate: 92%\n",
      "\n"
     ]
    },
    {
     "name": "stdout",
     "output_type": "stream",
     "text": [
      "[1] \"sub-0000_ses-sep_ses-sep_co_go_Marquardt2017GFP-right_Marquardt2017GFP-right_Cubes-2_Gaze-2\"\n"
     ]
    },
    {
     "name": "stderr",
     "output_type": "stream",
     "text": [
      "Independent-candidate M-H acceptance rate: 77%\n",
      "\n"
     ]
    },
    {
     "name": "stdout",
     "output_type": "stream",
     "text": [
      "[1] \"sub-0000_ses-sep_ses-sep_co_go_Marquardt2017GFP-right_Marquardt2017GFP-right_Cubes-3_Gaze-3\"\n"
     ]
    },
    {
     "name": "stderr",
     "output_type": "stream",
     "text": [
      "Independent-candidate M-H acceptance rate: 93%\n",
      "\n"
     ]
    },
    {
     "name": "stdout",
     "output_type": "stream",
     "text": [
      "[1] \"sub-0000_ses-sep_ses-sep_co_go_Marquardt2017GFP-right_Marquardt2017GFP-right_Cubes-1_Gaze-3\"\n"
     ]
    },
    {
     "name": "stderr",
     "output_type": "stream",
     "text": [
      "Independent-candidate M-H acceptance rate: 93%\n",
      "\n"
     ]
    },
    {
     "name": "stdout",
     "output_type": "stream",
     "text": [
      "[1] \"sub-0000_ses-sep_ses-sep_co_go_Marquardt2017GFP-right_Marquardt2017GFP-right_Cubes-3_Gaze-1\"\n"
     ]
    },
    {
     "name": "stderr",
     "output_type": "stream",
     "text": [
      "Independent-candidate M-H acceptance rate: 95%\n",
      "\n"
     ]
    }
   ],
   "source": [
    "\n",
    "options(warn=-1)\n",
    "\n",
    "\n",
    "\n",
    "store_plots = FALSE\n",
    "    \n",
    "for(i in 1:nrow(comparison_df)) { \n",
    "\n",
    "    sub_id <- comparison_df[i,]$participant\n",
    "    roi_1 <- comparison_df[i,]$roi_1\n",
    "    roi_2 <- comparison_df[i,]$roi_2\n",
    "    ses_1 <- comparison_df[i,]$session_1\n",
    "    ses_2 <- comparison_df[i,]$session_2\n",
    "    task_1 <- comparison_df[i,]$task_1\n",
    "    task_2 <- comparison_df[i,]$task_2\n",
    "    c_1 = comparison_df[i,]$c_1\n",
    "    c_2 = comparison_df[i,]$c_2\n",
    "    \n",
    "\n",
    "    if (store_plots) {\n",
    "        out_path <- paste(\"/home/marius/ownCloud/PhD/projects/scientific/gaze-motion/results/pilot/hrf_correlations\", sub_id, sep=\"/\")\n",
    "        dir.create(file.path(out_path), showWarnings = FALSE)\n",
    "        out_path <- paste(out_path, paste(task_1, task_2, roi_1, roi_2, sep=\"_\"), sep=\"/\")\n",
    "        dir.create(file.path(out_path), showWarnings = FALSE)\n",
    "    }\n",
    "    \n",
    "    filename <- paste(sub_id, ses_1, ses_2, task_1, task_2, roi_1, roi_2, c_1, c_2, sep=\"_\")\n",
    "    fp_ <- paste(out_path, filename, sep=\"/\")\n",
    "    print(filename)\n",
    "\n",
    "    if (!((sub_id == 'sub-00') & (c_1 %in% c('Gaze-2', 'Gaze-3') | c_2 %in% c('Gaze-2', 'Gaze-3')))) { ### Filter out missing trials for sub-00\n",
    "    \n",
    "        f_dat <- filter(\n",
    "            tc_df,\n",
    "            (participant == sub_id\n",
    "               & session == ses_1\n",
    "               & task == task_1\n",
    "               & variable == roi_1\n",
    "               & event.type == c_1) \n",
    "            | (participant == sub_id\n",
    "               & session == ses_2\n",
    "               & task == task_2\n",
    "               & variable == roi_2\n",
    "               & event.type == c_2) \n",
    "        )\n",
    "\n",
    "        # filter out missing values (if correlation-analysis_selection.csv contains pairs that do not exist)\n",
    "        f_dat <- f_dat[complete.cases(f_dat), ]\n",
    "\n",
    "        if (nrow(f_dat) > 0) {\n",
    "        \n",
    "            # print(head(f_dat))\n",
    "\n",
    "            options(repr.plot.width=13, repr.plot.height=7)\n",
    "\n",
    "            if (roi_1 == roi_2) {\n",
    "\n",
    "                p <- ggplot(f_dat, aes(x=time, y=value, colour=event.type, label=variable)) + \n",
    "                    geom_line(aes(x = time, y = value, colour=event.type)) \n",
    "\n",
    "                r_ = cor(filter(f_dat,\n",
    "                       event.type == c_1)$value,\n",
    "                    filter(f_dat,\n",
    "                       event.type == c_2)$value\n",
    "                )\n",
    "\n",
    "                bf_ <- correlationBF(\n",
    "                    filter(f_dat,\n",
    "                       event.type == c_1)$value,\n",
    "                    filter(f_dat,\n",
    "                       event.type == c_2)$value\n",
    "                )\n",
    "                invisible(bf_)\n",
    "\n",
    "                samples <- correlationBF(\n",
    "                    filter(f_dat,\n",
    "                       event.type == c_1)$value,\n",
    "                    filter(f_dat,\n",
    "                       event.type == c_2)$value,\n",
    "                    posterior = TRUE, iterations = 10000\n",
    "                )\n",
    "                invisible(samples)\n",
    "\n",
    "                if (store_plots) {\n",
    "\n",
    "                    f_dat_label <- f_dat %>% filter(time == 0.075*80)\n",
    "                    f_dat_label = f_dat_label %>% \n",
    "                        mutate(label = paste(variable, event.type, sep=\", \"))\n",
    "\n",
    "                    p <- ggplot(f_dat, aes(x=time, y=value, colour=event.type, label=variable)) + \n",
    "                        geom_line(aes(x = time, y = value, colour=event.type, size=3)) +\n",
    "                        geom_label_repel(aes(label=label), data = f_dat_label, size=7) + \n",
    "                        annotate(geom=\"text\", x=11, y=0.55, label=paste(\"r = \", round(r_, 2), sep=\"\"), color=\"black\", hjust = \"left\", size=7) + \n",
    "                        annotate(geom=\"text\", x=11, y=0.51, label=paste(\"rho = \", round(median(samples[,\"rho\"]), 2), sep=\"\"), color=\"black\", hjust = \"left\", size=7) +\n",
    "                        annotate(geom=\"text\", x=11, y=0.47, label=paste(\"BF = \", format(extractBF(bf_)$bf, scientific = TRUE, digits=3), sep=\"\"), color=\"black\", hjust = \"left\", size=7) + \n",
    "                        theme(legend.position = \"none\") + \n",
    "                        theme(axis.text.x= element_text(size=15), axis.title=element_text(size=20)) + \n",
    "                        theme(axis.text.y= element_text(size=15), axis.title=element_text(size=20))\n",
    "\n",
    "\n",
    "\n",
    "                    ggsave(\n",
    "                        paste(fp_, \"png\", sep=\".\"), \n",
    "                        width = 13,\n",
    "                        height = 7)\n",
    "                }\n",
    "\n",
    "            }else {\n",
    "\n",
    "\n",
    "                r_ = cor(filter(f_dat,\n",
    "                       variable == roi_1)$value,\n",
    "                    filter(f_dat,\n",
    "                       variable == roi_2)$value\n",
    "                )\n",
    "\n",
    "                bf_ <- correlationBF(\n",
    "                    filter(f_dat,\n",
    "                       variable == roi_1)$value,\n",
    "                    filter(f_dat,\n",
    "                       variable == roi_2)$value\n",
    "                )\n",
    "                invisible(bf_)\n",
    "\n",
    "                samples <- correlationBF(\n",
    "                    filter(f_dat,\n",
    "                       variable == roi_1)$value,\n",
    "                    filter(f_dat,\n",
    "                       variable == roi_2)$value,\n",
    "                    posterior = TRUE, iterations = 10000\n",
    "                )\n",
    "                invisible(samples)\n",
    "\n",
    "                if (store_plots) {\n",
    "\n",
    "                    f_dat_label <- f_dat %>% filter(time == 0.075*80)\n",
    "                    f_dat_label = f_dat_label %>% \n",
    "                        mutate(label = paste(variable, event.type, sep=\", \"))\n",
    "\n",
    "\n",
    "                    p <- ggplot(f_dat, aes(x=time, y=value, colour=variable, label=event.type)) + \n",
    "                        geom_line(aes(x = time, y = value, colour=variable, size=3)) +\n",
    "                        geom_label_repel(aes(label=label), data = f_dat_label, size=7) + \n",
    "                        annotate(geom=\"text\", x=11, y=0.55, label=paste(\"r = \", round(r_, 2), sep=\"\"), color=\"black\", hjust = \"left\", size=7) + \n",
    "                        annotate(geom=\"text\", x=11, y=0.51, label=paste(\"rho = \", round(median(samples[,\"rho\"]), 2), sep=\"\"), color=\"black\", hjust = \"left\", size=7) +\n",
    "                        annotate(geom=\"text\", x=11, y=0.47, label=paste(\"BF = \", format(extractBF(bf_)$bf, scientific = TRUE, digits=3), sep=\"\"), color=\"black\", hjust = \"left\", size=7) + \n",
    "                        theme(legend.position = \"none\") + \n",
    "                        theme(axis.text.x= element_text(size=15), axis.title=element_text(size=20)) + \n",
    "                        theme(axis.text.y= element_text(size=15), axis.title=element_text(size=20))\n",
    "\n",
    "\n",
    "\n",
    "                    ggsave(\n",
    "                        paste(fp_, \"png\", sep=\".\"), \n",
    "                        width = 13,\n",
    "                        height = 7)\n",
    "                }\n",
    "\n",
    "            }\n",
    "        }\n",
    "    }    \n",
    "\n",
    "    \n",
    "    comparison_df[i,'r'] = r_\n",
    "    comparison_df[i,'rho'] = round(median(samples[,\"rho\"]), 2)\n",
    "    if ((format(extractBF(bf_)$bf, scientific = TRUE, digits=3) == \"NA\") & (r_ > 0.9)) {\n",
    "        comparison_df[i,'bf'] = 1e100\n",
    "    }else{\n",
    "        comparison_df[i,'bf'] = as.double(format(extractBF(bf_)$bf, scientific = TRUE))\n",
    "    }\n",
    "}\n",
    "\n",
    "comparison_df[,'target_id_1'] = as.integer(str_split_fixed(comparison_df$c_1, '-', 2)[,2])\n",
    "comparison_df[,'target_id_2'] = as.integer(str_split_fixed(comparison_df$c_2, '-', 2)[,2])\n",
    "comparison_df[,'target_id_diff'] = as.character(abs(comparison_df[,'target_id_1'] - comparison_df[,'target_id_2']))\n",
    "comparison_df[,'ROI1'] = str_split_fixed(comparison_df$roi_1, '-', 2)[,1]\n",
    "comparison_df[,'ROI2'] = str_split_fixed(comparison_df$roi_2, '-', 2)[,1]\n",
    "comparison_df[,'hemisphere1'] = str_split_fixed(comparison_df$roi_1, '-', 2)[,2]\n",
    "comparison_df[,'hemisphere2'] = str_split_fixed(comparison_df$roi_2, '-', 2)[,2]\n",
    "ll_ <- paste(str_split_fixed(comparison_df$c_1, '-', 2)[,1], str_split_fixed(comparison_df$c_2, '-', 2)[,1], sep=\"-\")\n",
    "ll_ <- gsub(\"Gaze-Cubes\", \"Cubes-Gaze\", ll_)\n",
    "comparison_df[,'task_combination'] = ll_\n",
    "# comparison_df[,'tasks_identical'] = comparison_df$task_1 == comparison_df$task_2\n",
    "# comparison_df[\"tasks_identical\"][comparison_df[\"tasks_identical\"] == TRUE] <- comparison_df[\"task_1\"][comparison_df[\"tasks_identical\"] == TRUE]\n",
    "# comparison_df[\"tasks_identical\"][comparison_df[\"tasks_identical\"] == FALSE] <- \"go~co\"\n"
   ]
  },
  {
   "cell_type": "markdown",
   "id": "836e1990-c802-44f8-9ee0-28f23e9ab545",
   "metadata": {},
   "source": [
    "## Correlation of correlations"
   ]
  },
  {
   "cell_type": "markdown",
   "id": "97b99d77-abb5-4dd0-9577-efab7aade002",
   "metadata": {},
   "source": [
    "### make prediction dataframe"
   ]
  },
  {
   "cell_type": "code",
   "execution_count": 365,
   "id": "8b754353-a64a-4154-9af0-dd41181f0f41",
   "metadata": {},
   "outputs": [],
   "source": [
    "\n",
    "###########################\n",
    "####### SET PARING ########\n",
    "###########################\n",
    "\n",
    "r_1 <- c('fMotionArea')\n",
    "r_2 <- c('Marquardt2017GFP')\n",
    "\n",
    "###########################\n",
    "###########################\n",
    "###########################\n",
    "\n",
    "\n",
    "corr_df <- data.frame(matrix(ncol = 9, nrow = 0))\n",
    "x <- c(\"participant\", paste(r_1, collapse='_'), paste(r_2, collapse='_'), \"hemi\", \"con\", \"target\", \"predicted_corr\", \"ct_name\", \"hemi_name\")\n",
    "colnames(corr_df) <- x\n",
    "\n",
    "row_counter <- 0\n",
    "\n",
    "for (sub_ in unique(comparison_df[,\"participant\"])) {\n",
    "\n",
    "    for (con_1 in unique(comparison_df[,\"c_1\"])) {\n",
    "\n",
    "        for (con_2 in unique(comparison_df[,\"c_2\"])) {\n",
    "\n",
    "            for (hemi_1 in unique(comparison_df[,\"hemisphere1\"])) {\n",
    "\n",
    "                for (hemi_2 in unique(comparison_df[,\"hemisphere2\"])) {\n",
    "\n",
    "                    \n",
    "                    r_1_val = filter(\n",
    "                        comparison_df,\n",
    "                        participant == sub_\n",
    "                        & (roi_1 %in% c(paste(r_1, hemi_1, sep='-')) & roi_2 %in% c(paste(r_1, hemi_2, sep='-'))) \n",
    "                        & (c_1 %in% c(con_1) & c_2 %in% c(con_2)) \n",
    "                    )$rho\n",
    "                    \n",
    "                    r_2_val = filter(\n",
    "                        comparison_df,\n",
    "                        participant == sub_\n",
    "                        & (roi_1 %in% c(paste(r_2, hemi_1, sep='-')) & roi_2 %in% c(paste(r_2, hemi_2, sep='-'))) \n",
    "                        & (c_1 %in% c(con_1) & c_2 %in% c(con_2)) \n",
    "                    )$rho\n",
    "                    \n",
    "                    if (length(r_1_val) > 0) {\n",
    "                        \n",
    "                        c1 <- str_split(con_1, '-')[[1]][1]\n",
    "                        t1 <- str_split(con_1, '-')[[1]][2]\n",
    "\n",
    "                        c2 <- str_split(con_2, '-')[[1]][1]\n",
    "                        t2 <- str_split(con_2, '-')[[1]][2]\n",
    "\n",
    "                        # if (t1 != '2' | t2 != '2') {\n",
    "                        \n",
    "                            row_counter <- row_counter + 1\n",
    "                            \n",
    "                            corr_df[row_counter,]$participant <- sub_\n",
    "\n",
    "                            corr_df[row_counter,][paste(r_1, collapse='_')] <- r_1_val\n",
    "                            corr_df[row_counter,][paste(r_2, collapse='_')] <- r_2_val\n",
    "\n",
    "                            if (hemi_1 == hemi_2) {\n",
    "                                corr_df[row_counter,]$hemi <- \"same\"\n",
    "                            } else {\n",
    "                                corr_df[row_counter,]$hemi <- \"different\"\n",
    "                            }\n",
    "\n",
    "                            if (c1 == c2) {\n",
    "                                corr_df[row_counter,]$con <- \"same\"\n",
    "                            } else {\n",
    "                                corr_df[row_counter,]$con <- \"different\"\n",
    "                            }\n",
    "\n",
    "                            if (t1 == t2) {\n",
    "                                corr_df[row_counter,]$target <- \"same\"\n",
    "                            } else {\n",
    "                                corr_df[row_counter,]$target <- \"different\"\n",
    "                            }\n",
    "\n",
    "                            if (hemi_1 == hemi_2 & t1 == t2) {\n",
    "\n",
    "                                corr_df[row_counter,]$predicted_corr <- \"high\"\n",
    "\n",
    "                            }\n",
    "\n",
    "                            if (hemi_1 == hemi_2 & t1 != t2) {\n",
    "\n",
    "                                corr_df[row_counter,]$predicted_corr <- \"low\"\n",
    "\n",
    "                            }\n",
    "\n",
    "                            if (hemi_1 != hemi_2 & t1 == t2) {\n",
    "\n",
    "                                corr_df[row_counter,]$predicted_corr <- \"low\"\n",
    "\n",
    "                            }\n",
    "\n",
    "                            if (hemi_1 != hemi_2 & t1 != t2) {\n",
    "\n",
    "                                corr_df[row_counter,]$predicted_corr <- \"high\"\n",
    "\n",
    "                            }\n",
    "                        \n",
    "                            if (t1 == '2' & t2 == '2') {\n",
    "\n",
    "                                corr_df[row_counter,]$predicted_corr <- \"high\"\n",
    "\n",
    "                            }\n",
    "\n",
    "                            corr_df[row_counter,]$ct_name <- paste(con_1, con_2, sep='~')\n",
    "                            corr_df[row_counter,]$hemi_name <- paste(hemi_1, hemi_2, sep='~')\n",
    "                        \n",
    "                        # }\n",
    "\n",
    "                    }\n",
    "                }\n",
    "            }\n",
    "        }\n",
    "    }\n",
    "}"
   ]
  },
  {
   "cell_type": "markdown",
   "id": "92c5f1f0-dd3f-40cf-9294-90270d559037",
   "metadata": {},
   "source": [
    "### run "
   ]
  },
  {
   "cell_type": "code",
   "execution_count": 366,
   "id": "ca5bf94d-b0f4-407d-b532-a614dc3c2aab",
   "metadata": {},
   "outputs": [
    {
     "name": "stderr",
     "output_type": "stream",
     "text": [
      "Independent-candidate M-H acceptance rate: 79%\n",
      "\n",
      "Compiling Stan program...\n",
      "\n",
      "Start sampling\n",
      "\n"
     ]
    },
    {
     "name": "stdout",
     "output_type": "stream",
     "text": [
      "[1] 0\n"
     ]
    },
    {
     "name": "stderr",
     "output_type": "stream",
     "text": [
      "Compiling Stan program...\n",
      "\n",
      "Start sampling\n",
      "\n"
     ]
    },
    {
     "name": "stdout",
     "output_type": "stream",
     "text": [
      "[1] 9.3\n"
     ]
    },
    {
     "name": "stderr",
     "output_type": "stream",
     "text": [
      "Compiling Stan program...\n",
      "\n",
      "Start sampling\n",
      "\n"
     ]
    },
    {
     "name": "stdout",
     "output_type": "stream",
     "text": [
      "[1] 17.6\n"
     ]
    },
    {
     "name": "stderr",
     "output_type": "stream",
     "text": [
      "Compiling Stan program...\n",
      "\n",
      "Start sampling\n",
      "\n"
     ]
    },
    {
     "name": "stdout",
     "output_type": "stream",
     "text": [
      "[1] 0.3\n"
     ]
    }
   ],
   "source": [
    "out_path <- '/home/marius/ownCloud/PhD/projects/scientific/gaze-motion/results/pilot/hrf_correlations/group_level/MT-Marquardt2017GFP_fwhm8'\n",
    "# out_path <- '/Users/mariusgorner/ownCloud/PhD/projects/scientific/gaze-motion/results/from_nideconv/correlations_group_analysis/new_version'\n",
    "\n",
    "dir.create(file.path(out_path), showWarnings = FALSE)\n",
    "\n",
    "rho_thr = max(abs(filter(comparison_df, bf < 10)$rho))\n",
    "\n",
    "cor_bf <- correlationBF(corr_df[, paste(r_1, collapse='_')], corr_df[, paste(r_2, collapse='_')])\n",
    "samples <- correlationBF(corr_df[, paste(r_1, collapse='_')], corr_df[, paste(r_2, collapse='_')],\n",
    "          posterior = TRUE, iterations = 10000)\n",
    "cor_rho <- mean(samples[,\"rho\"])\n",
    "\n",
    "clab1_ <- \"rho = \"\n",
    "clab2_ <- \", BF[10] = \"\n",
    "cor_label <- bquote(atop(rho[.(paste(r_1, collapse='_'))-.(paste(r_2, collapse='_'))]==.(round(cor_rho, 2)), italic(BF)[10]==.(round(extractBF(cor_bf)$bf, 1))))#bquote(atop(rho[fMA-GFP]==.(round(cor_rho, 2))~\"a\"), col=\"red\", cex = 1.4)\n",
    "\n",
    "xmin_ = min(c(corr_df[, paste(r_1, collapse='_')], corr_df[, paste(r_2, collapse='_')]))-0.1\n",
    "ymin_ = min(c(corr_df[, paste(r_1, collapse='_')], corr_df[, paste(r_2, collapse='_')]))-0.1\n",
    "\n",
    "\n",
    "\n",
    "####################\n",
    "### SCATTER PLOT ###\n",
    "####################\n",
    "\n",
    "scatter_plot <- ggplot(NULL, aes_string(x=paste(r_1, collapse='_'), y=paste(r_2, collapse='_'))) + \n",
    "    geom_point(data = corr_df, aes(fill=con), colour=\"white\", shape=21, size=2, stroke=1) +\n",
    "    geom_point(data = corr_df, aes(colour=predicted_corr), shape=1, size=3, stroke=1, alpha=1) +\n",
    "    # geom_point(data = corr_df_high <- filter(corr_df, predicted_corr == 'low'), aes(fill=predicted_corr), colour=\"green\", shape=1, size=4, stroke=0.7) +\n",
    "    scale_fill_manual(\n",
    "        name = \"Correlation between\",\n",
    "        labels = c(\"different conditions\", \"same conditions\"),\n",
    "        values=c(\"orangered2\", \"gray20\")\n",
    "        ) +\n",
    "    scale_colour_manual(\n",
    "        name = bquote(rho~\"predicted by lateralization\"),\n",
    "        labels = c(bquote(\"high\"), bquote(\"low\")),\n",
    "        values=c(\"cornflowerblue\", \"darkgoldenrod2\")) +\n",
    "    # geom_point(data = corr_df, aes(colour=con), shape=19, size=2) +\n",
    "    # xlim(xmin_, 1) +\n",
    "    ylim(ymin_, 1) +\n",
    "\n",
    "    annotate(\"rect\", xmin=xmin_, xmax=-rho_thr, ymin=-rho_thr, ymax=rho_thr, alpha=0.5, fill='grey') +\n",
    "    annotate(\"rect\", xmin=rho_thr, xmax=1, ymin=-rho_thr, ymax=rho_thr, alpha=0.5, fill='grey') +\n",
    "    annotate(\"rect\", ymin=ymin_, ymax=-rho_thr, xmin=-rho_thr, xmax=rho_thr, alpha=0.5, fill='grey') +\n",
    "    annotate(\"rect\", ymin=rho_thr, ymax=1, xmin=-rho_thr, xmax=rho_thr, alpha=0.5, fill='grey') +\n",
    "    annotate(\"rect\", ymin=-rho_thr, ymax=rho_thr, xmin=-rho_thr, xmax=rho_thr, alpha=0.5, fill='grey') +\n",
    "\n",
    "    annotate(\"richtext\", x=-Inf, y=Inf, hjust=0, vjust=1, label = paste(\n",
    "        \"<p style='margin=5px'>\\u03c1<sub>MT+ - GFP</sub> = \", round(cor_rho, 2), \"</p>\", \n",
    "        \"<p><i>BF</i><sub>01</sub> = \", format(1/round(extractBF(cor_bf)$bf, 1), digits=2, nsmall=2, scientific = TRUE), \"</p>\", sep=\"\"), size=3) +\n",
    "\n",
    "    coord_cartesian(xlim = c(xmin_, 1), # This focuses the x-axis on the range of interest\n",
    "                      clip = 'off') +\n",
    "    theme(\n",
    "        # aspect.ratio = 1,\n",
    "        panel.background = element_rect(fill='white', colour='black'),\n",
    "        axis.text.x = element_text(color=\" black\", \n",
    "                           size=8, angle=0),\n",
    "        axis.text.y = element_text(color=\"black\", \n",
    "                           size=8, angle=0),\n",
    "        axis.title=element_text(size=8),\n",
    "        legend.title=element_text(size=8),\n",
    "        legend.text=element_text(size=8)\n",
    "        ) + \n",
    "    xlab(bquote(rho[MT*'+'])) +\n",
    "    ylab(bquote(rho[GFP])) \n",
    "\n",
    "ggsave(\n",
    "    paste(out_path, 'scatter_plot.pdf', sep='/'),\n",
    "    scatter_plot,\n",
    "    scale = 1,\n",
    "    width = 15,\n",
    "    height = 15,\n",
    "    units = \"cm\",\n",
    "    # dpi = 100,\n",
    "    device = cairo_pdf\n",
    ")\n",
    "\n",
    "\n",
    "\n",
    "\n",
    "\n",
    "\n",
    "\n",
    "##################################\n",
    "##################################\n",
    "##################################\n",
    "### lateralization\n",
    "\n",
    "\n",
    "corr_df.Lateralization <- melt(corr_df, id.vars=c('predicted_corr','participant'), measure.vars=c(paste(r_1, collapse='_'), paste(r_2, collapse='_')))\n",
    "\n",
    "box_lateralization <- ggplot(corr_df.Lateralization, aes(x=variable, y=value, fill=predicted_corr)) + \n",
    "    geom_boxplot(color='black', show.legend = FALSE) + \n",
    "    annotate(\"rect\", xmin=0.5, xmax=2.5, ymin=-rho_thr, ymax=rho_thr, alpha=0.5, fill='grey') +\n",
    "    theme(\n",
    "        panel.background = element_rect(fill='white', colour='black')) + \n",
    "    scale_fill_manual(labels = c(\"high\", \"low\"), values=c(\"cornflowerblue\", \"darkgoldenrod2\")) + \n",
    "    scale_x_discrete(labels= c('MT+', 'GFP')) +\n",
    "    xlab(\"ROI\") + \n",
    "    ylab(expression(rho)) + \n",
    "    xlab(\"\") +\n",
    "    # labs(\"\")+#fill = bquote(rho~\"predicted by lateralization\"), size=1)+\n",
    "    theme(\n",
    "        # aspect.ratio = 0.8,\n",
    "        panel.background = element_rect(fill='white', colour='black'),\n",
    "        axis.text.x = element_text(color=\" black\", \n",
    "                           size=8, angle=0),\n",
    "        axis.text.y = element_text(color=\"black\", \n",
    "                           size=8, angle=0),\n",
    "        axis.title=element_text(size=8)\n",
    "        )\n",
    "\n",
    "\n",
    "\n",
    "\n",
    "### modelling \n",
    "bfs_ <- c()\n",
    "for (roi_ in c(paste(r_1, collapse='_'), paste(r_2, collapse='_'))) {\n",
    "\n",
    "    \n",
    "    ### SPECIFICATION OF MODEL AND PRIOR\n",
    "    mf_ <- bf(\n",
    "        value ~ predicted_corr# + (predicted_corr | participant)\n",
    "    )\n",
    "    get_prior(mf_,  data = corr_df.Lateralization)\n",
    "\n",
    "    ## \n",
    "    priors_ = c(\n",
    "        set_prior('normal(0, 10)', class='b', lb=-2, ub=2)\n",
    "    )\n",
    "\n",
    "\n",
    "    \n",
    "    # FIT MODEL\n",
    "    capture.output({\n",
    "        m = brm(\n",
    "            mf_, \n",
    "            data = filter(corr_df.Lateralization, variable==roi_), \n",
    "            prior = priors_,\n",
    "            sample_prior = TRUE, \n",
    "            family = gaussian(link=\"identity\"),\n",
    "            chains = 4,\n",
    "            # iter = 1,\n",
    "            cores = 4,\n",
    "            save_pars = save_pars(all=TRUE),\n",
    "            control = list(adapt_delta = 0.9, max_treedepth = 20))\n",
    "        }, \n",
    "    file=\"rstan.modelfit.output\")\n",
    "\n",
    "    file_type = \"_summary.txt\"\n",
    "    s <- summary(m)\n",
    "    capture.output(s, file=file.path(out_path, \n",
    "                      paste(\n",
    "                        paste(paste('lateralization', roi_, sep='_'), \n",
    "                        file_type, sep = \"\")\n",
    "                      )\n",
    "                   )\n",
    "                )\n",
    "\n",
    "    file_type = \"_conditional-effects.pdf\"\n",
    "    pdf(file.path(out_path, \n",
    "                      paste(\n",
    "                        paste(paste('lateralization', roi_, sep='_'), \n",
    "                        file_type, sep = \"\")\n",
    "                      )\n",
    "                  ),\n",
    "        width = 3, # The width of the plot in inches\n",
    "        height = 3\n",
    "        )\n",
    "    \n",
    "    plot(conditional_effects(m, robust = TRUE), points = TRUE, point_args=c(size=0.5,width=0.1), ask = FALSE, ylim=c(3,-3))\n",
    "    dev.off()\n",
    "\n",
    "\n",
    "    file_type = \"_posterior_draws.pdf\"\n",
    "    pdf(file.path(out_path, \n",
    "                      paste(\n",
    "                        paste(paste('lateralization', roi_, sep='_'), \n",
    "                        file_type, sep = \"\")\n",
    "                      )\n",
    "                  ),\n",
    "        width = 4, # The width of the plot in inches\n",
    "        height = 3\n",
    "        )\n",
    "    print(m %>%\n",
    "        gather_draws(!!sym(paste0(get_variables(m)[1])), !!sym(paste0(get_variables(m)[2]))) %>%\n",
    "        mutate() %>%\n",
    "        ggplot(aes(x = .variable, y = .value)) +\n",
    "        stat_halfeye(size=0.01))\n",
    "    dev.off()\n",
    "\n",
    "\n",
    "    hyp <- 'predicted_corrlow = 0'\n",
    "    hyp <- hypothesis(m, hyp)\n",
    "    file_type = \"_hypothesis-test_BF.txt\"\n",
    "    capture.output(hyp[1], file=file.path(out_path, \n",
    "                      paste(\n",
    "                        paste(paste('lateralization', roi_, sep='_'), \n",
    "                        file_type, sep = \"\")\n",
    "                      )\n",
    "                   )\n",
    "                )\n",
    "\n",
    "    bfs_ <- append(bfs_, format(hyp[1]$hypothesis$Evid.Ratio, digits=2, nsmall=2))\n",
    "    print(round(hyp[1]$hypothesis$Evid.Ratio, 1))\n",
    "    \n",
    "    file_type = \"_posterior-probability.txt\"\n",
    "    pp_ = colMeans(hyp$samples > 0)\n",
    "    capture.output(pp_, file=file.path(out_path, \n",
    "                      paste(\n",
    "                        paste(paste('lateralization', roi_, sep='_'), \n",
    "                        file_type, sep = \"\")\n",
    "                      )\n",
    "                   )\n",
    "                )\n",
    "\n",
    "\n",
    "    file_type = \"_hypothesis-test_prior-posterior.pdf\"\n",
    "    pdf(file.path(out_path, \n",
    "                      paste(\n",
    "                        paste(paste('lateralization', roi_, sep='_'), \n",
    "                        file_type, sep = \"\")\n",
    "                      )\n",
    "                  ),\n",
    "        width = 4, # The width of the plot in inches\n",
    "        height = 3\n",
    "        )\n",
    "    plot(hyp, chars = NULL)\n",
    "    dev.off()\n",
    "\n",
    "    #\n",
    "    file_type = \"_pairs.pdf\"\n",
    "    pdf(file.path(out_path, \n",
    "                      paste(\n",
    "                        paste(paste('lateralization', roi_, sep='_'), \n",
    "                        file_type, sep = \"\")\n",
    "                      )\n",
    "                  ),\n",
    "        width = 15, # The width of the plot in inches\n",
    "        height = 10\n",
    "        )\n",
    "    plot(pairs(m))\n",
    "    dev.off()\n",
    "    \n",
    "}\n",
    "\n",
    "\n",
    "box_lateralization <- box_lateralization +\n",
    "    annotate(\"richtext\", x=-Inf, y=-Inf, hjust=0, vjust=0, label = paste(\"<p style='margin=5px'><i>BF</i><sub>01,MT+</sub> = \", bfs_[1], \"</p>\", \n",
    "                                                          \"<p><i>BF</i><sub>01,GFP</sub> = \", bfs_[2],\"</p>\", sep=\"\"), size=3) +\n",
    "    coord_cartesian(xlim = c(1, 2), clip = 'off')\n",
    "\n",
    "ggsave(\n",
    "    paste(out_path, 'lateralization_boxplot.pdf', sep='/'),\n",
    "    box_lateralization,\n",
    "    scale = 1,\n",
    "    width = 7.5,\n",
    "    height = 7.5,\n",
    "    units = \"cm\",\n",
    "    # dpi = 300\n",
    "    device=cairo_pdf\n",
    ")\n",
    "\n",
    "\n",
    "\n",
    "\n",
    "\n",
    "\n",
    "\n",
    "##################################\n",
    "##################################\n",
    "##################################\n",
    "### condition\n",
    "\n",
    "xmin_ = min(c(corr_df[, paste(r_1, collapse='_')], corr_df[, paste(r_2, collapse='_')]))-0.1\n",
    "ymin_ = min(c(corr_df[, paste(r_1, collapse='_')], corr_df[, paste(r_2, collapse='_')]))-0.1\n",
    "\n",
    "\n",
    "corr_df.Condition <- melt(corr_df, id.vars=c('con', 'participant'), measure.vars=c(paste(r_1, collapse='_'), paste(r_2, collapse='_')))\n",
    "\n",
    "box_condition <- ggplot(corr_df.Condition, aes(x=variable, y=value, fill=con)) + \n",
    "    geom_boxplot(color='black', show.legend=FALSE) + \n",
    "    annotate(\"rect\", xmin=0.5, xmax=2.5, ymin=-rho_thr, ymax=rho_thr, alpha=0.5, fill='grey') +\n",
    "    theme(\n",
    "        panel.background = element_rect(fill='white', colour='black')) + \n",
    "    scale_fill_manual(labels = c(\"different conditions\", \"same conditions\"), values=c(\"orangered2\", \"gray20\")) + \n",
    "    scale_x_discrete(labels= c('MT+', 'GFP')) +\n",
    "    xlab(\"ROI\") + \n",
    "    ylab(expression(rho)) + \n",
    "    labs(fill = \"Correlation between:\") +\n",
    "    xlab(\"\") +\n",
    "    theme(\n",
    "        # aspect.ratio = 0.8,\n",
    "        panel.background = element_rect(fill='white', colour='black'),\n",
    "        axis.text.x = element_text(color=\" black\", \n",
    "                           size=8, angle=0),\n",
    "        axis.text.y = element_text(color=\"black\", \n",
    "                           size=8, angle=0),\n",
    "        axis.title=element_text(size=8)\n",
    "        )\n",
    "\n",
    "\n",
    "\n",
    "### modelling \n",
    "bfs_ <- c()\n",
    "for (roi_ in c(paste(r_1, collapse='_'), paste(r_2, collapse='_'))) {\n",
    "\n",
    "    mf_ <- bf(\n",
    "        value ~ con# + (con | participant)\n",
    "    )\n",
    "    get_prior(mf_,  data = corr_df.Condition)\n",
    "\n",
    "    ## truncated priors:  effect only\n",
    "    priors_ = c(\n",
    "        set_prior('normal(0, 10)', class='b', lb=-2, ub=2)\n",
    "    )\n",
    "\n",
    "\n",
    "    #\n",
    "    capture.output({\n",
    "        m = brm(\n",
    "            mf_, \n",
    "            data = filter(corr_df.Condition, variable==roi_), \n",
    "            prior = priors_,\n",
    "            sample_prior = TRUE, \n",
    "            family = gaussian(link=\"identity\"),\n",
    "            chains = 4,\n",
    "            # iter = 1,\n",
    "            cores = 4,\n",
    "            save_pars = save_pars(all=TRUE),\n",
    "            control = list(adapt_delta = 0.9, max_treedepth = 20))\n",
    "        }, \n",
    "    file=\"rstan.modelfit.output\")\n",
    "\n",
    "    file_type = \"_summary.txt\"\n",
    "    s <- summary(m)\n",
    "    capture.output(s, file=file.path(out_path, \n",
    "                      paste(\n",
    "                        paste(paste('condition', roi_, sep='_'), \n",
    "                        file_type, sep = \"\")\n",
    "                      )\n",
    "                   )\n",
    "                )\n",
    "\n",
    "    file_type = \"_conditional-effects.pdf\"\n",
    "    pdf(file.path(out_path, \n",
    "                      paste(\n",
    "                        paste(paste('condition', roi_, sep='_'), \n",
    "                        file_type, sep = \"\")\n",
    "                      )\n",
    "                  ),\n",
    "        width = 3, # The width of the plot in inches\n",
    "        height = 3\n",
    "        )\n",
    "    \n",
    "    plot(conditional_effects(m, robust = TRUE), points = TRUE, point_args=c(size=0.5,width=0.1), ask = FALSE, ylim=c(3,-3))\n",
    "    dev.off()\n",
    "\n",
    "\n",
    "    file_type = \"_posterior_draws.pdf\"\n",
    "    pdf(file.path(out_path, \n",
    "                      paste(\n",
    "                        paste(paste('condition', roi_, sep='_'), \n",
    "                        file_type, sep = \"\")\n",
    "                      )\n",
    "                  ),\n",
    "        width = 4, # The width of the plot in inches\n",
    "        height = 3\n",
    "        )\n",
    "    print(m %>%\n",
    "        gather_draws(!!sym(paste0(get_variables(m)[1])), !!sym(paste0(get_variables(m)[2]))) %>%\n",
    "        mutate() %>%\n",
    "        ggplot(aes(x = .variable, y = .value)) +\n",
    "        stat_halfeye(size=0.01))\n",
    "    dev.off()\n",
    "\n",
    "\n",
    "    hyp <- 'consame = 0'\n",
    "    hyp <- hypothesis(m, hyp)\n",
    "    file_type = \"_hypothesis-test_BF.txt\"\n",
    "    capture.output(hyp[1], file=file.path(out_path, \n",
    "                      paste(\n",
    "                        paste(paste('condition', roi_, sep='_'), \n",
    "                        file_type, sep = \"\")\n",
    "                      )\n",
    "                   )\n",
    "                )\n",
    "    bfs_ <- append(bfs_, format(hyp[1]$hypothesis$Evid.Ratio, digits=2, nsmall=2))\n",
    "    print(round(hyp[1]$hypothesis$Evid.Ratio, 1))\n",
    "\n",
    "                   \n",
    "    file_type = \"_posterior-probability.txt\"\n",
    "    pp_ = colMeans(hyp$samples > 0)\n",
    "    capture.output(pp_, file=file.path(out_path, \n",
    "                      paste(\n",
    "                        paste(paste('condition', roi_, sep='_'), \n",
    "                        file_type, sep = \"\")\n",
    "                      )\n",
    "                   )\n",
    "                )\n",
    "\n",
    "\n",
    "    file_type = \"_hypothesis-test_prior-posterior.pdf\"\n",
    "    pdf(file.path(out_path, \n",
    "                      paste(\n",
    "                        paste(paste('condition', roi_, sep='_'), \n",
    "                        file_type, sep = \"\")\n",
    "                      )\n",
    "                  ),\n",
    "        width = 4, # The width of the plot in inches\n",
    "        height = 3\n",
    "        )\n",
    "    plot(hyp, chars = NULL)\n",
    "    dev.off()\n",
    "\n",
    "    #\n",
    "    file_type = \"_pairs.pdf\"\n",
    "    pdf(file.path(out_path, \n",
    "                      paste(\n",
    "                        paste(paste('condition', roi_, sep='_'), \n",
    "                        file_type, sep = \"\")\n",
    "                      )\n",
    "                  ),\n",
    "        width = 15, # The width of the plot in inches\n",
    "        height = 10\n",
    "        )\n",
    "    plot(pairs(m))\n",
    "    dev.off()\n",
    "}\n",
    "    \n",
    "\n",
    "box_condition <- box_condition +\n",
    "    annotate(\"richtext\", x=-Inf, y=-Inf, hjust=0, vjust=0, label = paste(\"<p style='margin=5px'><i>BF</i><sub>01,MT+</sub> = \", bfs_[1], \"</p>\", \n",
    "                                                          \"<p><i>BF</i><sub>01,GFP</sub> = \", bfs_[2],\"</p>\", sep=\"\"), size=3) +\n",
    "    coord_cartesian(xlim = c(1, 2), clip = 'off')\n",
    "\n",
    "ggsave(\n",
    "    paste(out_path, 'condition_boxplot.pdf', sep='/'),\n",
    "    box_condition,\n",
    "    scale = 1,\n",
    "    width = 7.5,\n",
    "    height = 7.5,\n",
    "    units = \"cm\",\n",
    "    # dpi = 300\n",
    "    device = cairo_pdf\n",
    ")\n",
    "\n",
    "p1 <- ggarrange(  \n",
    "    ggarrange(box_lateralization, box_condition, ncol = 2, labels = c(\"A\", \"B\")),\n",
    "    ggarrange(scatter_plot, ncol = 1, labels = c(\"C\")),\n",
    "    heights = c(1.2, 2),\n",
    "    nrow = 2                                       \n",
    ") \n",
    "\n",
    "ggsave(\n",
    "    paste(out_path, 'combined.pdf', sep='/'),\n",
    "    p1,\n",
    "    scale = 1,\n",
    "    width = 12,\n",
    "    height = 12,\n",
    "    units = \"cm\",\n",
    "    # dpi = 300\n",
    "    device = cairo_pdf\n",
    ")\n",
    "\n"
   ]
  },
  {
   "cell_type": "code",
   "execution_count": 218,
   "id": "68d1341c-34ab-4fec-bbcb-5921bd576dce",
   "metadata": {},
   "outputs": [
    {
     "data": {
      "text/plain": [
       "Bayes factor analysis\n",
       "--------------\n",
       "[1] Alt., r=0.333 : 595.2886 ±0%\n",
       "\n",
       "Against denominator:\n",
       "  Null, rho = 0 \n",
       "---\n",
       "Bayes factor type: BFcorrelation, Jeffreys-beta*\n"
      ]
     },
     "metadata": {},
     "output_type": "display_data"
    }
   ],
   "source": [
    "correlationBF(corr_df[, r_1], corr_df[, r_2])"
   ]
  },
  {
   "cell_type": "code",
   "execution_count": 200,
   "id": "8c11fd12-e777-49dd-ac71-ccb887e6b558",
   "metadata": {},
   "outputs": [
    {
     "data": {
      "text/html": [
       "<table class=\"dataframe\">\n",
       "<caption>A data.frame: 34 × 1</caption>\n",
       "<thead>\n",
       "\t<tr><th></th><th scope=col>GazeCubes</th></tr>\n",
       "\t<tr><th></th><th scope=col>&lt;dbl&gt;</th></tr>\n",
       "</thead>\n",
       "<tbody>\n",
       "\t<tr><th scope=row>8</th><td> 0.15</td></tr>\n",
       "\t<tr><th scope=row>9</th><td> 0.52</td></tr>\n",
       "\t<tr><th scope=row>10</th><td> 0.66</td></tr>\n",
       "\t<tr><th scope=row>11</th><td> 0.41</td></tr>\n",
       "\t<tr><th scope=row>12</th><td> 0.56</td></tr>\n",
       "\t<tr><th scope=row>13</th><td> 0.51</td></tr>\n",
       "\t<tr><th scope=row>14</th><td> 0.75</td></tr>\n",
       "\t<tr><th scope=row>15</th><td> 0.55</td></tr>\n",
       "\t<tr><th scope=row>16</th><td>-0.08</td></tr>\n",
       "\t<tr><th scope=row>17</th><td> 0.48</td></tr>\n",
       "\t<tr><th scope=row>18</th><td> 0.69</td></tr>\n",
       "\t<tr><th scope=row>19</th><td> 0.88</td></tr>\n",
       "\t<tr><th scope=row>20</th><td> 0.59</td></tr>\n",
       "\t<tr><th scope=row>21</th><td> 0.80</td></tr>\n",
       "\t<tr><th scope=row>22</th><td> 0.54</td></tr>\n",
       "\t<tr><th scope=row>23</th><td> 0.85</td></tr>\n",
       "\t<tr><th scope=row>24</th><td> 0.87</td></tr>\n",
       "\t<tr><th scope=row>25</th><td> 0.07</td></tr>\n",
       "\t<tr><th scope=row>26</th><td> 0.80</td></tr>\n",
       "\t<tr><th scope=row>27</th><td> 0.49</td></tr>\n",
       "\t<tr><th scope=row>28</th><td>-0.09</td></tr>\n",
       "\t<tr><th scope=row>29</th><td> 0.33</td></tr>\n",
       "\t<tr><th scope=row>30</th><td>-0.53</td></tr>\n",
       "\t<tr><th scope=row>31</th><td>-0.02</td></tr>\n",
       "\t<tr><th scope=row>32</th><td>-0.28</td></tr>\n",
       "\t<tr><th scope=row>33</th><td> 0.26</td></tr>\n",
       "\t<tr><th scope=row>34</th><td>-0.42</td></tr>\n",
       "\t<tr><th scope=row>35</th><td> 0.40</td></tr>\n",
       "\t<tr><th scope=row>36</th><td> 0.56</td></tr>\n",
       "\t<tr><th scope=row>37</th><td> 0.73</td></tr>\n",
       "\t<tr><th scope=row>38</th><td> 0.23</td></tr>\n",
       "\t<tr><th scope=row>39</th><td>-0.19</td></tr>\n",
       "\t<tr><th scope=row>40</th><td> 0.22</td></tr>\n",
       "\t<tr><th scope=row>41</th><td>-0.15</td></tr>\n",
       "</tbody>\n",
       "</table>\n"
      ],
      "text/latex": [
       "A data.frame: 34 × 1\n",
       "\\begin{tabular}{r|l}\n",
       "  & GazeCubes\\\\\n",
       "  & <dbl>\\\\\n",
       "\\hline\n",
       "\t8 &  0.15\\\\\n",
       "\t9 &  0.52\\\\\n",
       "\t10 &  0.66\\\\\n",
       "\t11 &  0.41\\\\\n",
       "\t12 &  0.56\\\\\n",
       "\t13 &  0.51\\\\\n",
       "\t14 &  0.75\\\\\n",
       "\t15 &  0.55\\\\\n",
       "\t16 & -0.08\\\\\n",
       "\t17 &  0.48\\\\\n",
       "\t18 &  0.69\\\\\n",
       "\t19 &  0.88\\\\\n",
       "\t20 &  0.59\\\\\n",
       "\t21 &  0.80\\\\\n",
       "\t22 &  0.54\\\\\n",
       "\t23 &  0.85\\\\\n",
       "\t24 &  0.87\\\\\n",
       "\t25 &  0.07\\\\\n",
       "\t26 &  0.80\\\\\n",
       "\t27 &  0.49\\\\\n",
       "\t28 & -0.09\\\\\n",
       "\t29 &  0.33\\\\\n",
       "\t30 & -0.53\\\\\n",
       "\t31 & -0.02\\\\\n",
       "\t32 & -0.28\\\\\n",
       "\t33 &  0.26\\\\\n",
       "\t34 & -0.42\\\\\n",
       "\t35 &  0.40\\\\\n",
       "\t36 &  0.56\\\\\n",
       "\t37 &  0.73\\\\\n",
       "\t38 &  0.23\\\\\n",
       "\t39 & -0.19\\\\\n",
       "\t40 &  0.22\\\\\n",
       "\t41 & -0.15\\\\\n",
       "\\end{tabular}\n"
      ],
      "text/markdown": [
       "\n",
       "A data.frame: 34 × 1\n",
       "\n",
       "| <!--/--> | GazeCubes &lt;dbl&gt; |\n",
       "|---|---|\n",
       "| 8 |  0.15 |\n",
       "| 9 |  0.52 |\n",
       "| 10 |  0.66 |\n",
       "| 11 |  0.41 |\n",
       "| 12 |  0.56 |\n",
       "| 13 |  0.51 |\n",
       "| 14 |  0.75 |\n",
       "| 15 |  0.55 |\n",
       "| 16 | -0.08 |\n",
       "| 17 |  0.48 |\n",
       "| 18 |  0.69 |\n",
       "| 19 |  0.88 |\n",
       "| 20 |  0.59 |\n",
       "| 21 |  0.80 |\n",
       "| 22 |  0.54 |\n",
       "| 23 |  0.85 |\n",
       "| 24 |  0.87 |\n",
       "| 25 |  0.07 |\n",
       "| 26 |  0.80 |\n",
       "| 27 |  0.49 |\n",
       "| 28 | -0.09 |\n",
       "| 29 |  0.33 |\n",
       "| 30 | -0.53 |\n",
       "| 31 | -0.02 |\n",
       "| 32 | -0.28 |\n",
       "| 33 |  0.26 |\n",
       "| 34 | -0.42 |\n",
       "| 35 |  0.40 |\n",
       "| 36 |  0.56 |\n",
       "| 37 |  0.73 |\n",
       "| 38 |  0.23 |\n",
       "| 39 | -0.19 |\n",
       "| 40 |  0.22 |\n",
       "| 41 | -0.15 |\n",
       "\n"
      ],
      "text/plain": [
       "   GazeCubes\n",
       "8   0.15    \n",
       "9   0.52    \n",
       "10  0.66    \n",
       "11  0.41    \n",
       "12  0.56    \n",
       "13  0.51    \n",
       "14  0.75    \n",
       "15  0.55    \n",
       "16 -0.08    \n",
       "17  0.48    \n",
       "18  0.69    \n",
       "19  0.88    \n",
       "20  0.59    \n",
       "21  0.80    \n",
       "22  0.54    \n",
       "23  0.85    \n",
       "24  0.87    \n",
       "25  0.07    \n",
       "26  0.80    \n",
       "27  0.49    \n",
       "28 -0.09    \n",
       "29  0.33    \n",
       "30 -0.53    \n",
       "31 -0.02    \n",
       "32 -0.28    \n",
       "33  0.26    \n",
       "34 -0.42    \n",
       "35  0.40    \n",
       "36  0.56    \n",
       "37  0.73    \n",
       "38  0.23    \n",
       "39 -0.19    \n",
       "40  0.22    \n",
       "41 -0.15    "
      ]
     },
     "metadata": {},
     "output_type": "display_data"
    }
   ],
   "source": [
    "corr_df[r_2]"
   ]
  },
  {
   "cell_type": "code",
   "execution_count": null,
   "id": "8fc06687-2783-450d-b9b9-a44616932e91",
   "metadata": {},
   "outputs": [],
   "source": []
  },
  {
   "cell_type": "code",
   "execution_count": null,
   "id": "003ea695-c7c6-42ef-b9aa-4d9f36613207",
   "metadata": {},
   "outputs": [],
   "source": [
    "# corr_df.hemisphere <- melt(corr_df, id.vars=c('con', 'participant'), measure.vars=c('fMA_val','GFP_val'))\n",
    "\n",
    "# box_condition <- ggplot(corr_df.Condition, aes(x=variable, y=value, fill=con)) + \n",
    "#     geom_boxplot(color='black', show.legend=FALSE) + \n",
    "#     annotate(\"rect\", xmin=0.5, xmax=2.5, ymin=-rho_thr, ymax=rho_thr, alpha=0.5, fill='grey') +\n",
    "#     theme(\n",
    "#         panel.background = element_rect(fill='white', colour='black')) + \n",
    "#     scale_fill_manual(labels = c(\"different conditions\", \"same conditions\"), values=c(\"orangered2\", \"gray20\")) + \n",
    "#     scale_x_discrete(labels= c('MT+', 'GFP')) +\n",
    "#     xlab(\"ROI\") + \n",
    "#     ylab(expression(rho)) + \n",
    "#     labs(fill = \"Correlation between:\") +\n",
    "#     xlab(\"\") +\n",
    "#     theme(\n",
    "#         # aspect.ratio = 0.8,\n",
    "#         panel.background = element_rect(fill='white', colour='black'),\n",
    "#         axis.text.x = element_text(color=\" black\", \n",
    "#                            size=8, angle=0),\n",
    "#         axis.text.y = element_text(color=\"black\", \n",
    "#                            size=8, angle=0),\n",
    "#         axis.title=element_text(size=8)\n",
    "#         )"
   ]
  },
  {
   "cell_type": "code",
   "execution_count": null,
   "id": "7afd26c8-9e7c-4f41-b543-797342fb2582",
   "metadata": {},
   "outputs": [],
   "source": []
  },
  {
   "cell_type": "code",
   "execution_count": null,
   "id": "c97e560b-6e05-44ad-90d5-b0c0bceae296",
   "metadata": {},
   "outputs": [],
   "source": []
  },
  {
   "cell_type": "code",
   "execution_count": null,
   "id": "7808e5a1-28af-47f4-85c3-f79cb5339e66",
   "metadata": {},
   "outputs": [],
   "source": []
  },
  {
   "cell_type": "code",
   "execution_count": null,
   "id": "db7b47a8-f3f1-4fc9-9f5d-75fda77b0ae6",
   "metadata": {},
   "outputs": [],
   "source": []
  }
 ],
 "metadata": {
  "kernelspec": {
   "display_name": "R",
   "language": "R",
   "name": "ir"
  },
  "language_info": {
   "codemirror_mode": "r",
   "file_extension": ".r",
   "mimetype": "text/x-r-source",
   "name": "R",
   "pygments_lexer": "r",
   "version": "4.1.2"
  },
  "scenes_data": {
   "active_scene": "Init",
   "init_scene": "",
   "scenes": [
    "Init"
   ]
  }
 },
 "nbformat": 4,
 "nbformat_minor": 5
}
