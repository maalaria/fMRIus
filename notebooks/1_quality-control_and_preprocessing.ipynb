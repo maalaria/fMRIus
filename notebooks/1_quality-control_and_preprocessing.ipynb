{
 "cells": [
  {
   "cell_type": "code",
   "execution_count": 4,
   "metadata": {},
   "outputs": [],
   "source": [
    "import gm_analysis as gm"
   ]
  },
  {
   "cell_type": "markdown",
   "metadata": {},
   "source": [
    "# Quality control"
   ]
  },
  {
   "cell_type": "code",
   "execution_count": 2,
   "metadata": {},
   "outputs": [
    {
     "name": "stdout",
     "output_type": "stream",
     "text": [
      "MRIQC v22.0.6\n"
     ]
    }
   ],
   "source": [
    "!docker run -it nipreps/mriqc:latest --version\n"
   ]
  },
  {
   "cell_type": "markdown",
   "metadata": {},
   "source": [
    "**Participant level**"
   ]
  },
  {
   "cell_type": "code",
   "execution_count": 9,
   "metadata": {
    "collapsed": true,
    "jupyter": {
     "outputs_hidden": true
    }
   },
   "outputs": [
    {
     "name": "stdout",
     "output_type": "stream",
     "text": [
      "221011-10:49:31,858 cli IMPORTANT:\n",
      "\t \n",
      "    Running MRIQC version 22.0.6:\n",
      "      * BIDS dataset path: /data.\n",
      "      * Output folder: /out.\n",
      "      * Analysis levels: ['participant'].\n",
      "\n",
      "221011-10:49:46,949 cli WARNING:\n",
      "\t IMPORTANT: Anonymized quality metrics (IQMs) will be submitted to MRIQC's metrics repository. Submission of IQMs can be disabled using the ``--no-sub`` argument. Please visit https://mriqc.readthedocs.io/en/latest/dsa.html to revise MRIQC's Data Sharing Agreement.\n",
      "221011-12:49:28,421 cli WARNING:\n",
      "\t Building bold report: no exclude index was found\n",
      "221011-12:49:29,885 cli WARNING:\n",
      "\t Building bold report: no exclude index was found\n",
      "221011-12:49:29,902 cli WARNING:\n",
      "\t Building bold report: no exclude index was found\n",
      "221011-12:49:29,902 cli WARNING:\n",
      "\t Building bold report: no exclude index was found\n",
      "221011-12:49:29,911 cli WARNING:\n",
      "\t Building bold report: no exclude index was found\n",
      "221011-12:49:31,887 cli WARNING:\n",
      "\t Building bold report: no exclude index was found\n",
      "221011-12:49:31,900 cli WARNING:\n",
      "\t Building bold report: no exclude index was found\n",
      "221011-12:49:31,921 cli WARNING:\n",
      "\t Building bold report: no exclude index was found\n",
      "221011-12:49:31,922 cli WARNING:\n",
      "\t Building bold report: no exclude index was found\n",
      "221011-12:49:33,901 cli WARNING:\n",
      "\t Building bold report: no exclude index was found\n",
      "221011-12:49:33,901 cli WARNING:\n",
      "\t Building bold report: no exclude index was found\n",
      "221011-12:49:33,902 cli WARNING:\n",
      "\t Building bold report: no exclude index was found\n",
      "221011-12:49:33,915 cli WARNING:\n",
      "\t Building bold report: no exclude index was found\n",
      "221011-12:49:35,890 cli WARNING:\n",
      "\t Building bold report: no exclude index was found\n",
      "221011-12:49:35,902 cli WARNING:\n",
      "\t Building bold report: no exclude index was found\n",
      "221011-12:49:35,915 cli WARNING:\n",
      "\t Building bold report: no exclude index was found\n",
      "221011-12:49:35,933 cli WARNING:\n",
      "\t Building bold report: no exclude index was found\n",
      "221011-12:49:37,877 cli WARNING:\n",
      "\t Building bold report: no exclude index was found\n",
      "221011-12:49:37,877 cli WARNING:\n",
      "\t Building bold report: no exclude index was found\n",
      "221011-12:49:37,877 cli WARNING:\n",
      "\t Building bold report: no exclude index was found\n",
      "221011-12:49:37,885 cli WARNING:\n",
      "\t Building bold report: no exclude index was found\n",
      "221011-12:49:39,886 cli WARNING:\n",
      "\t Building bold report: no exclude index was found\n",
      "221011-12:49:39,886 cli WARNING:\n",
      "\t Building bold report: no exclude index was found\n",
      "221011-12:49:39,886 cli WARNING:\n",
      "\t Building bold report: no exclude index was found\n",
      "221011-12:49:39,888 cli WARNING:\n",
      "\t Building bold report: no exclude index was found\n",
      "221011-12:49:41,886 cli WARNING:\n",
      "\t Building bold report: no exclude index was found\n",
      "221011-12:49:41,887 cli WARNING:\n",
      "\t Building bold report: no exclude index was found\n",
      "221011-12:49:41,888 cli WARNING:\n",
      "\t Building bold report: no exclude index was found\n",
      "221011-12:49:41,925 cli WARNING:\n",
      "\t Building bold report: no exclude index was found\n",
      "221011-12:49:43,874 cli WARNING:\n",
      "\t Building bold report: no exclude index was found\n",
      "221011-12:49:43,877 cli WARNING:\n",
      "\t Building bold report: no exclude index was found\n",
      "221011-12:49:43,882 cli WARNING:\n",
      "\t Building bold report: no exclude index was found\n",
      "221011-12:49:43,884 cli WARNING:\n",
      "\t Building bold report: no exclude index was found\n",
      "221011-12:49:45,898 cli WARNING:\n",
      "\t Building bold report: no exclude index was found\n",
      "221011-12:49:45,898 cli WARNING:\n",
      "\t Building bold report: no exclude index was found\n",
      "221011-12:49:45,899 cli WARNING:\n",
      "\t Building bold report: no exclude index was found\n",
      "221011-12:49:45,901 cli WARNING:\n",
      "\t Building bold report: no exclude index was found\n",
      "221011-12:49:47,892 cli WARNING:\n",
      "\t Building bold report: no exclude index was found\n",
      "221011-12:50:06,451 nipype.interface WARNING:\n",
      "\t Estimated signal variation in the background was too small (MAD=0.0, sigma=4.3647201310541)\n",
      "221011-12:50:06,452 nipype.interface WARNING:\n",
      "\t Estimated signal variation in the background was too small (MAD=0.0, sigma=4.3647201310541)\n",
      "221011-12:50:06,452 nipype.interface WARNING:\n",
      "\t Estimated signal variation in the background was too small (MAD=0.0, sigma=4.3647201310541)\n",
      "221011-12:50:08,417 nipype.interface WARNING:\n",
      "\t Estimated signal variation in the background was too small (MAD=0.0, sigma=4.449528668312237)\n",
      "221011-12:50:08,417 nipype.interface WARNING:\n",
      "\t Estimated signal variation in the background was too small (MAD=0.0, sigma=4.449528668312237)\n",
      "221011-12:50:08,417 nipype.interface WARNING:\n",
      "\t Estimated signal variation in the background was too small (MAD=0.0, sigma=4.449528668312237)\n",
      "221011-12:50:13,319 nipype.interface WARNING:\n",
      "\t Estimated signal variation in the background was too small (MAD=0.0, sigma=5.803564096371017)\n",
      "221011-12:50:13,320 nipype.interface WARNING:\n",
      "\t Estimated signal variation in the background was too small (MAD=0.0, sigma=5.803564096371017)\n",
      "221011-12:50:13,321 nipype.interface WARNING:\n",
      "\t Estimated signal variation in the background was too small (MAD=0.0, sigma=5.803564096371017)\n",
      "221011-12:50:27,821 cli WARNING:\n",
      "\t IMPORTANT: Anonymized quality metrics (IQMs) will be submitted to MRIQC's metrics repository. Submission of IQMs can be disabled using the ``--no-sub`` argument. Please visit https://mriqc.readthedocs.io/en/latest/dsa.html to revise MRIQC's Data Sharing Agreement.\n",
      "221011-12:50:27,821 cli IMPORTANT:\n",
      "\t Participant level finished successfully.\n"
     ]
    }
   ],
   "source": [
    "!docker run -it --rm -v {gm.info.data_paths.bids_dir}:/data:ro -v {gm.info.data_paths.qc_dir}:/out nipreps/mriqc:latest /data /out participant --participant_label sub-00 sub-0000\n"
   ]
  },
  {
   "cell_type": "markdown",
   "metadata": {},
   "source": [
    "**Group level**"
   ]
  },
  {
   "cell_type": "code",
   "execution_count": 5,
   "metadata": {},
   "outputs": [],
   "source": [
    "!docker run -it --rm -v {gm.info.data_paths.bids_dir}:/data:ro -v {gm.info.data_paths.qc_dir}:/out nipreps/mriqc:latest /data /out group\n"
   ]
  },
  {
   "cell_type": "markdown",
   "metadata": {
    "toc-hr-collapsed": false
   },
   "source": [
    "# fmriprep"
   ]
  },
  {
   "cell_type": "code",
   "execution_count": 2,
   "metadata": {},
   "outputs": [
    {
     "name": "stdout",
     "output_type": "stream",
     "text": [
      "/media/marius/data_ex/gaze-motion\n",
      "/media/marius/data_ex/gaze-motion/dsgm\n",
      "/media/marius/data_ex/gaze-motion/derivatives\n",
      "/media/marius/data_ex/gaze-motion/derivatives/scratch\n",
      "/media/marius/data_ex/gaze-motion/derivatives/fmriprep\n"
     ]
    }
   ],
   "source": [
    "print(gm.info.data_paths.root_dir)\n",
    "print(gm.info.data_paths.bids_dir)\n",
    "\n",
    "print(gm.info.data_paths.derivatives_dir)\n",
    "print(gm.info.data_paths.scratch_dir)\n",
    "print(gm.info.data_paths.fmriprep_dir)\n"
   ]
  },
  {
   "cell_type": "markdown",
   "metadata": {},
   "source": [
    "+ incorporate pre-run freesurfer: https://neurostars.org/t/fmriprep-how-to-incorporate-pre-run-freesurfer/1425"
   ]
  },
  {
   "cell_type": "code",
   "execution_count": 3,
   "metadata": {},
   "outputs": [
    {
     "name": "stdout",
     "output_type": "stream",
     "text": [
      "/opt/conda/lib/python3.8/site-packages/bids/config.py:39: FutureWarning: Setting 'extension_initial_dot' will be removed in pybids 0.16.\n",
      "  warnings.warn(\"Setting 'extension_initial_dot' will be removed in pybids 0.16.\",\n",
      "You are using fMRIPrep-21.0.0, and a newer version of fMRIPrep is available: 21.0.1.\n",
      "Please check out our documentation about how and when to upgrade:\n",
      "https://fmriprep.readthedocs.io/en/latest/faq.html#upgrading\n",
      "fMRIPrep v21.0.0\n"
     ]
    }
   ],
   "source": [
    "!fmriprep-docker --version"
   ]
  },
  {
   "cell_type": "code",
   "execution_count": null,
   "metadata": {},
   "outputs": [],
   "source": []
  },
  {
   "cell_type": "code",
   "execution_count": null,
   "metadata": {},
   "outputs": [],
   "source": [
    "!fmriprep-docker {gm.info.data_paths.bids_dir} {gm.info.data_paths.fmriprep_dir} participant --participant_label 0000 -w {gm.info.data_paths.scratch_dir}"
   ]
  },
  {
   "cell_type": "markdown",
   "metadata": {},
   "source": [
    "----"
   ]
  },
  {
   "cell_type": "code",
   "execution_count": null,
   "metadata": {},
   "outputs": [],
   "source": [
    "!nipypecli crash /out/fmriprep/sub-09/log/20191128-091018_1542d3ed-6675-4c4b-9236-6271b743dd40/crash-20191128-101315-root-autorecon2_vol-868eb950-4da0-4a67-bce7-603d93342d66.txt"
   ]
  },
  {
   "cell_type": "code",
   "execution_count": null,
   "metadata": {},
   "outputs": [],
   "source": []
  },
  {
   "cell_type": "code",
   "execution_count": null,
   "metadata": {},
   "outputs": [],
   "source": []
  },
  {
   "cell_type": "code",
   "execution_count": null,
   "metadata": {},
   "outputs": [],
   "source": []
  },
  {
   "cell_type": "code",
   "execution_count": null,
   "metadata": {},
   "outputs": [],
   "source": []
  },
  {
   "cell_type": "code",
   "execution_count": null,
   "metadata": {},
   "outputs": [],
   "source": []
  }
 ],
 "metadata": {
  "kernelspec": {
   "display_name": "Python 3 (ipykernel)",
   "language": "python",
   "name": "python3"
  },
  "language_info": {
   "codemirror_mode": {
    "name": "ipython",
    "version": 3
   },
   "file_extension": ".py",
   "mimetype": "text/x-python",
   "name": "python",
   "nbconvert_exporter": "python",
   "pygments_lexer": "ipython3",
   "version": "3.11.2"
  },
  "scenes_data": {
   "active_scene": "Default Scene",
   "init_scene": "",
   "scenes": [
    "Default Scene"
   ]
  }
 },
 "nbformat": 4,
 "nbformat_minor": 4
}
