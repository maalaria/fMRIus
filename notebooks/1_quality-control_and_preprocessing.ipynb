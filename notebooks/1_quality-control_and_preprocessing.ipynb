{
 "cells": [
  {
   "cell_type": "code",
   "execution_count": 4,
   "metadata": {},
   "outputs": [],
   "source": [
    "import gm_analysis as gm"
   ]
  },
  {
   "cell_type": "markdown",
   "metadata": {},
   "source": [
    "# Quality control"
   ]
  },
  {
   "cell_type": "code",
   "execution_count": 2,
   "metadata": {},
   "outputs": [
    {
     "name": "stdout",
     "output_type": "stream",
     "text": [
      "MRIQC v22.0.6\n"
     ]
    }
   ],
   "source": [
    "!docker run -it nipreps/mriqc:latest --version\n"
   ]
  },
  {
   "cell_type": "markdown",
   "metadata": {},
   "source": [
    "**Participant level**"
   ]
  },
  {
   "cell_type": "code",
   "execution_count": 9,
   "metadata": {
    "collapsed": true,
    "jupyter": {
     "outputs_hidden": true
    }
   },
   "outputs": [
    {
     "name": "stdout",
     "output_type": "stream",
     "text": [
      "221011-10:49:31,858 cli IMPORTANT:\n",
      "\t \n",
      "    Running MRIQC version 22.0.6:\n",
      "      * BIDS dataset path: /data.\n",
      "      * Output folder: /out.\n",
      "      * Analysis levels: ['participant'].\n",
      "\n",
      "221011-10:49:46,949 cli WARNING:\n",
      "\t IMPORTANT: Anonymized quality metrics (IQMs) will be submitted to MRIQC's metrics repository. Submission of IQMs can be disabled using the ``--no-sub`` argument. Please visit https://mriqc.readthedocs.io/en/latest/dsa.html to revise MRIQC's Data Sharing Agreement.\n",
      "221011-12:49:28,421 cli WARNING:\n",
      "\t Building bold report: no exclude index was found\n",
      "221011-12:49:29,885 cli WARNING:\n",
      "\t Building bold report: no exclude index was found\n",
      "221011-12:49:29,902 cli WARNING:\n",
      "\t Building bold report: no exclude index was found\n",
      "221011-12:49:29,902 cli WARNING:\n",
      "\t Building bold report: no exclude index was found\n",
      "221011-12:49:29,911 cli WARNING:\n",
      "\t Building bold report: no exclude index was found\n",
      "221011-12:49:31,887 cli WARNING:\n",
      "\t Building bold report: no exclude index was found\n",
      "221011-12:49:31,900 cli WARNING:\n",
      "\t Building bold report: no exclude index was found\n",
      "221011-12:49:31,921 cli WARNING:\n",
      "\t Building bold report: no exclude index was found\n",
      "221011-12:49:31,922 cli WARNING:\n",
      "\t Building bold report: no exclude index was found\n",
      "221011-12:49:33,901 cli WARNING:\n",
      "\t Building bold report: no exclude index was found\n",
      "221011-12:49:33,901 cli WARNING:\n",
      "\t Building bold report: no exclude index was found\n",
      "221011-12:49:33,902 cli WARNING:\n",
      "\t Building bold report: no exclude index was found\n",
      "221011-12:49:33,915 cli WARNING:\n",
      "\t Building bold report: no exclude index was found\n",
      "221011-12:49:35,890 cli WARNING:\n",
      "\t Building bold report: no exclude index was found\n",
      "221011-12:49:35,902 cli WARNING:\n",
      "\t Building bold report: no exclude index was found\n",
      "221011-12:49:35,915 cli WARNING:\n",
      "\t Building bold report: no exclude index was found\n",
      "221011-12:49:35,933 cli WARNING:\n",
      "\t Building bold report: no exclude index was found\n",
      "221011-12:49:37,877 cli WARNING:\n",
      "\t Building bold report: no exclude index was found\n",
      "221011-12:49:37,877 cli WARNING:\n",
      "\t Building bold report: no exclude index was found\n",
      "221011-12:49:37,877 cli WARNING:\n",
      "\t Building bold report: no exclude index was found\n",
      "221011-12:49:37,885 cli WARNING:\n",
      "\t Building bold report: no exclude index was found\n",
      "221011-12:49:39,886 cli WARNING:\n",
      "\t Building bold report: no exclude index was found\n",
      "221011-12:49:39,886 cli WARNING:\n",
      "\t Building bold report: no exclude index was found\n",
      "221011-12:49:39,886 cli WARNING:\n",
      "\t Building bold report: no exclude index was found\n",
      "221011-12:49:39,888 cli WARNING:\n",
      "\t Building bold report: no exclude index was found\n",
      "221011-12:49:41,886 cli WARNING:\n",
      "\t Building bold report: no exclude index was found\n",
      "221011-12:49:41,887 cli WARNING:\n",
      "\t Building bold report: no exclude index was found\n",
      "221011-12:49:41,888 cli WARNING:\n",
      "\t Building bold report: no exclude index was found\n",
      "221011-12:49:41,925 cli WARNING:\n",
      "\t Building bold report: no exclude index was found\n",
      "221011-12:49:43,874 cli WARNING:\n",
      "\t Building bold report: no exclude index was found\n",
      "221011-12:49:43,877 cli WARNING:\n",
      "\t Building bold report: no exclude index was found\n",
      "221011-12:49:43,882 cli WARNING:\n",
      "\t Building bold report: no exclude index was found\n",
      "221011-12:49:43,884 cli WARNING:\n",
      "\t Building bold report: no exclude index was found\n",
      "221011-12:49:45,898 cli WARNING:\n",
      "\t Building bold report: no exclude index was found\n",
      "221011-12:49:45,898 cli WARNING:\n",
      "\t Building bold report: no exclude index was found\n",
      "221011-12:49:45,899 cli WARNING:\n",
      "\t Building bold report: no exclude index was found\n",
      "221011-12:49:45,901 cli WARNING:\n",
      "\t Building bold report: no exclude index was found\n",
      "221011-12:49:47,892 cli WARNING:\n",
      "\t Building bold report: no exclude index was found\n",
      "221011-12:50:06,451 nipype.interface WARNING:\n",
      "\t Estimated signal variation in the background was too small (MAD=0.0, sigma=4.3647201310541)\n",
      "221011-12:50:06,452 nipype.interface WARNING:\n",
      "\t Estimated signal variation in the background was too small (MAD=0.0, sigma=4.3647201310541)\n",
      "221011-12:50:06,452 nipype.interface WARNING:\n",
      "\t Estimated signal variation in the background was too small (MAD=0.0, sigma=4.3647201310541)\n",
      "221011-12:50:08,417 nipype.interface WARNING:\n",
      "\t Estimated signal variation in the background was too small (MAD=0.0, sigma=4.449528668312237)\n",
      "221011-12:50:08,417 nipype.interface WARNING:\n",
      "\t Estimated signal variation in the background was too small (MAD=0.0, sigma=4.449528668312237)\n",
      "221011-12:50:08,417 nipype.interface WARNING:\n",
      "\t Estimated signal variation in the background was too small (MAD=0.0, sigma=4.449528668312237)\n",
      "221011-12:50:13,319 nipype.interface WARNING:\n",
      "\t Estimated signal variation in the background was too small (MAD=0.0, sigma=5.803564096371017)\n",
      "221011-12:50:13,320 nipype.interface WARNING:\n",
      "\t Estimated signal variation in the background was too small (MAD=0.0, sigma=5.803564096371017)\n",
      "221011-12:50:13,321 nipype.interface WARNING:\n",
      "\t Estimated signal variation in the background was too small (MAD=0.0, sigma=5.803564096371017)\n",
      "221011-12:50:27,821 cli WARNING:\n",
      "\t IMPORTANT: Anonymized quality metrics (IQMs) will be submitted to MRIQC's metrics repository. Submission of IQMs can be disabled using the ``--no-sub`` argument. Please visit https://mriqc.readthedocs.io/en/latest/dsa.html to revise MRIQC's Data Sharing Agreement.\n",
      "221011-12:50:27,821 cli IMPORTANT:\n",
      "\t Participant level finished successfully.\n"
     ]
    }
   ],
   "source": [
    "!docker run -it --rm -v {gm.info.data_paths.bids_dir}:/data:ro -v {gm.info.data_paths.qc_dir}:/out nipreps/mriqc:latest /data /out participant --participant_label sub-00 sub-0000\n"
   ]
  },
  {
   "cell_type": "markdown",
   "metadata": {},
   "source": [
    "**Group level**"
   ]
  },
  {
   "cell_type": "code",
   "execution_count": 5,
   "metadata": {},
   "outputs": [],
   "source": [
    "!docker run -it --rm -v {gm.info.data_paths.bids_dir}:/data:ro -v {gm.info.data_paths.qc_dir}:/out nipreps/mriqc:latest /data /out group\n"
   ]
  },
  {
   "cell_type": "markdown",
   "metadata": {
    "toc-hr-collapsed": false
   },
   "source": [
    "# fmriprep"
   ]
  },
  {
   "cell_type": "code",
   "execution_count": 2,
   "metadata": {},
   "outputs": [
    {
     "name": "stdout",
     "output_type": "stream",
     "text": [
      "/media/marius/data_ex/gaze-motion\n",
      "/media/marius/data_ex/gaze-motion/dsgm\n",
      "/media/marius/data_ex/gaze-motion/derivatives\n",
      "/media/marius/data_ex/gaze-motion/derivatives/scratch\n",
      "/media/marius/data_ex/gaze-motion/derivatives/fmriprep\n"
     ]
    }
   ],
   "source": [
    "print(gm.info.data_paths.root_dir)\n",
    "print(gm.info.data_paths.bids_dir)\n",
    "\n",
    "print(gm.info.data_paths.derivatives_dir)\n",
    "print(gm.info.data_paths.scratch_dir)\n",
    "print(gm.info.data_paths.fmriprep_dir)\n"
   ]
  },
  {
   "cell_type": "markdown",
   "metadata": {},
   "source": [
    "+ incorporate pre-run freesurfer: https://neurostars.org/t/fmriprep-how-to-incorporate-pre-run-freesurfer/1425"
   ]
  },
  {
   "cell_type": "code",
   "execution_count": 3,
   "metadata": {},
   "outputs": [
    {
     "name": "stdout",
     "output_type": "stream",
     "text": [
      "/opt/conda/lib/python3.8/site-packages/bids/config.py:39: FutureWarning: Setting 'extension_initial_dot' will be removed in pybids 0.16.\n",
      "  warnings.warn(\"Setting 'extension_initial_dot' will be removed in pybids 0.16.\",\n",
      "You are using fMRIPrep-21.0.0, and a newer version of fMRIPrep is available: 21.0.1.\n",
      "Please check out our documentation about how and when to upgrade:\n",
      "https://fmriprep.readthedocs.io/en/latest/faq.html#upgrading\n",
      "fMRIPrep v21.0.0\n"
     ]
    }
   ],
   "source": [
    "!fmriprep-docker --version"
   ]
  },
  {
   "cell_type": "code",
   "execution_count": null,
   "metadata": {},
   "outputs": [],
   "source": []
  },
  {
   "cell_type": "code",
   "execution_count": null,
   "metadata": {},
   "outputs": [],
   "source": [
    "!fmriprep-docker {gm.info.data_paths.bids_dir} {gm.info.data_paths.fmriprep_dir} participant --participant_label 0000 -w {gm.info.data_paths.scratch_dir}"
   ]
  },
  {
   "cell_type": "markdown",
   "metadata": {},
   "source": [
    "----"
   ]
  },
  {
   "cell_type": "code",
   "execution_count": null,
   "metadata": {},
   "outputs": [],
   "source": [
    "!nipypecli crash /out/fmriprep/sub-09/log/20191128-091018_1542d3ed-6675-4c4b-9236-6271b743dd40/crash-20191128-101315-root-autorecon2_vol-868eb950-4da0-4a67-bce7-603d93342d66.txt"
   ]
  },
  {
   "cell_type": "code",
   "execution_count": null,
   "metadata": {},
   "outputs": [],
   "source": []
  },
  {
   "cell_type": "code",
   "execution_count": null,
   "metadata": {},
   "outputs": [],
   "source": []
  },
  {
   "cell_type": "markdown",
   "metadata": {},
   "source": [
    "# Clean images"
   ]
  },
  {
   "cell_type": "code",
   "execution_count": 13,
   "metadata": {},
   "outputs": [],
   "source": [
    "import sys\n",
    "import importlib\n",
    "from os.path import join as opj\n",
    "from mpl_toolkits.axes_grid1 import make_axes_locatable\n",
    "\n",
    "import numpy as np\n",
    "import matplotlib.pyplot as plt\n",
    "import seaborn as sns\n",
    "import pandas as pd\n",
    "from nilearn import image\n",
    "from nilearn.masking import apply_mask\n",
    "from nilearn.input_data import NiftiMasker, NiftiSpheresMasker\n",
    "from nilearn.interfaces import fmriprep\n",
    "\n",
    "\n",
    "\n",
    "# import gm_analysis\n",
    "import gm_analysis as gma\n",
    "\n",
    "\n",
    "\n",
    "sns.set_style('white')\n",
    "sns.set_context('notebook')\n",
    "palette = sns.color_palette('Set1')\n",
    "\n",
    "%matplotlib inline"
   ]
  },
  {
   "cell_type": "code",
   "execution_count": 3,
   "metadata": {},
   "outputs": [],
   "source": [
    "# init new dict if not existing\n",
    "if 'subjects' not in locals():\n",
    "        subjects = {}\n",
    "\n",
    "        \n",
    "sub_ses_list = {\n",
    "    'sub-00': ['ses-gc', 'ses-com'], \n",
    "    'sub-0000':['ses-com', 'ses-sep']\n",
    "}\n",
    "\n",
    "for sub_id in sub_ses_list:\n",
    "    subjects[sub_id] = {}\n",
    "    if not sub_ses_list[sub_id] == '':\n",
    "        for ses_ in sub_ses_list[sub_id]:\n",
    "            subjects[sub_id][ses_] = gma.subject.Subject(sub_id, ses_, gma.info.data_paths)\n",
    "    else:\n",
    "        subjects[sub_id] = gma.subject.Subject(sub_id, sub_ses_list[sub_id], gma.info.data_paths)\n"
   ]
  },
  {
   "cell_type": "code",
   "execution_count": 10,
   "metadata": {},
   "outputs": [
    {
     "data": {
      "text/plain": [
       "'/media/marius/data_ex/gaze-motion/derivatives/fmriprep/sub-0000/ses-sep/func/sub-0000_ses-sep_task-go_run-1_space-MNI152NLin2009cAsym_desc-preproc_bold.nii.gz'"
      ]
     },
     "execution_count": 10,
     "metadata": {},
     "output_type": "execute_result"
    }
   ],
   "source": [
    "subjects[\"sub-0000\"]['ses-sep'].info.func.go['go_run-1'].img"
   ]
  },
  {
   "cell_type": "code",
   "execution_count": 11,
   "metadata": {},
   "outputs": [],
   "source": [
    "img_ = image.load_img(subjects[\"sub-0000\"]['ses-sep'].info.func.go['go_run-1'].img)"
   ]
  },
  {
   "cell_type": "code",
   "execution_count": 12,
   "metadata": {},
   "outputs": [
    {
     "data": {
      "text/plain": [
       "(65, 77, 65, 261)"
      ]
     },
     "execution_count": 12,
     "metadata": {},
     "output_type": "execute_result"
    }
   ],
   "source": [
    "np.shape(img_)"
   ]
  },
  {
   "cell_type": "code",
   "execution_count": 19,
   "metadata": {},
   "outputs": [],
   "source": [
    "confs, sample_mask = fmriprep.load_confounds(\n",
    "    subjects[\"sub-0000\"]['ses-sep'].info.func.go['go_run-1'].img,\n",
    "    strategy=['motion', 'high_pass', 'wm_csf', 'compcor', 'scrub'],\n",
    "    motion='full',\n",
    "    scrub=0,\n",
    "    fd_threshold=.5,\n",
    "    std_dvars_threshold=3,\n",
    "    wm_csf='basic',\n",
    "    global_signal='basic',\n",
    "    compcor='anat_combined',\n",
    "    n_compcor=2,\n",
    "    demean=True)"
   ]
  },
  {
   "cell_type": "code",
   "execution_count": 20,
   "metadata": {},
   "outputs": [
    {
     "data": {
      "text/plain": [
       "array([  0,   1,   2,   3,   4,   5,   6,   9,  16,  17,  18,  19,  20,\n",
       "        21,  22,  23,  24,  25,  26,  27,  28,  29,  30,  31,  32,  33,\n",
       "        34,  35,  36,  37,  38,  39,  40,  41,  42,  43,  44,  45,  46,\n",
       "        47,  48,  49,  50,  51,  52,  53,  54,  55,  56,  57,  58,  59,\n",
       "        60,  61,  62,  63,  64,  65,  66,  67,  68,  69,  70,  71,  72,\n",
       "        73,  74,  75,  76,  77,  78,  79,  80,  81,  82,  83,  84,  85,\n",
       "        86,  87,  88,  89,  90,  91,  92,  93,  94,  95,  96,  97,  98,\n",
       "        99, 100, 101, 102, 103, 104, 105, 106, 107, 108, 109, 110, 111,\n",
       "       112, 113, 114, 115, 116, 117, 118, 119, 120, 121, 122, 123, 124,\n",
       "       125, 126, 127, 128, 129, 130, 131, 132, 133, 134, 135, 136, 137,\n",
       "       138, 139, 140, 141, 142, 143, 144, 145, 146, 147, 148, 149, 150,\n",
       "       151, 152, 153, 154, 155, 156, 157, 158, 159, 160, 161, 162, 163,\n",
       "       164, 165, 166, 167, 168, 169, 170, 171, 172, 173, 174, 175, 176,\n",
       "       177, 178, 179, 180, 181, 182, 183, 184, 185, 186, 187, 188, 189,\n",
       "       190, 191, 192, 193, 194, 195, 196, 197, 198, 199, 200, 201, 202,\n",
       "       203, 204, 205, 206, 207, 208, 209, 210, 211, 212, 213, 214, 215,\n",
       "       216, 217, 218, 219, 220, 221, 222, 223, 224, 225, 226, 227, 228,\n",
       "       229, 230, 231, 232, 233, 234, 235, 236, 237, 238, 239, 240, 241,\n",
       "       242, 243, 244, 245, 246, 247, 248, 249, 252, 253, 254, 255, 258,\n",
       "       260])"
      ]
     },
     "execution_count": 20,
     "metadata": {},
     "output_type": "execute_result"
    }
   ],
   "source": [
    "sample_mask"
   ]
  },
  {
   "cell_type": "code",
   "execution_count": 21,
   "metadata": {},
   "outputs": [],
   "source": [
    "img_indexed = image.index_img(img_, sample_mask)"
   ]
  },
  {
   "cell_type": "code",
   "execution_count": 22,
   "metadata": {},
   "outputs": [
    {
     "data": {
      "text/plain": [
       "(65, 77, 65, 248)"
      ]
     },
     "execution_count": 22,
     "metadata": {},
     "output_type": "execute_result"
    }
   ],
   "source": [
    "np.shape(img_indexed)"
   ]
  },
  {
   "cell_type": "code",
   "execution_count": null,
   "metadata": {},
   "outputs": [],
   "source": []
  },
  {
   "cell_type": "code",
   "execution_count": null,
   "metadata": {},
   "outputs": [],
   "source": []
  },
  {
   "cell_type": "code",
   "execution_count": null,
   "metadata": {},
   "outputs": [],
   "source": []
  },
  {
   "cell_type": "code",
   "execution_count": 4,
   "metadata": {},
   "outputs": [
    {
     "name": "stdout",
     "output_type": "stream",
     "text": [
      "Image stored:  /media/marius/data_ex/gaze-motion/derivatives/fmriprep/sub-0000/ses-sep/func/sub-0000_ses-sep_task-faceLoc_run-1_space-MNI152NLin2009cAsym_desc-preprocCleaned_bold.nii.gz stored\n",
      "Image stored:  /media/marius/data_ex/gaze-motion/derivatives/fmriprep/sub-0000/ses-sep/func/sub-0000_ses-sep_task-faceLoc_run-2_space-MNI152NLin2009cAsym_desc-preprocCleaned_bold.nii.gz stored\n",
      "Image stored:  /media/marius/data_ex/gaze-motion/derivatives/fmriprep/sub-0000/ses-sep/func/sub-0000_ses-sep_task-faceLoc_run-3_space-MNI152NLin2009cAsym_desc-preprocCleaned_bold.nii.gz stored\n",
      "Image stored:  /media/marius/data_ex/gaze-motion/derivatives/fmriprep/sub-0000/ses-sep/func/sub-0000_ses-sep_task-faceLoc_run-4_space-MNI152NLin2009cAsym_desc-preprocCleaned_bold.nii.gz stored\n",
      "Image stored:  /media/marius/data_ex/gaze-motion/derivatives/fmriprep/sub-0000/ses-sep/func/sub-0000_ses-sep_task-faceLoc_run-5_space-MNI152NLin2009cAsym_desc-preprocCleaned_bold.nii.gz stored\n",
      "Image stored:  /media/marius/data_ex/gaze-motion/derivatives/fmriprep/sub-0000/ses-sep/func/sub-0000_ses-sep_task-go_run-1_space-MNI152NLin2009cAsym_desc-preprocCleaned_bold.nii.gz stored\n",
      "Image stored:  /media/marius/data_ex/gaze-motion/derivatives/fmriprep/sub-0000/ses-sep/func/sub-0000_ses-sep_task-go_run-2_space-MNI152NLin2009cAsym_desc-preprocCleaned_bold.nii.gz stored\n",
      "Image stored:  /media/marius/data_ex/gaze-motion/derivatives/fmriprep/sub-0000/ses-sep/func/sub-0000_ses-sep_task-go_run-3_space-MNI152NLin2009cAsym_desc-preprocCleaned_bold.nii.gz stored\n",
      "Image stored:  /media/marius/data_ex/gaze-motion/derivatives/fmriprep/sub-0000/ses-sep/func/sub-0000_ses-sep_task-go_run-4_space-MNI152NLin2009cAsym_desc-preprocCleaned_bold.nii.gz stored\n",
      "Image stored:  /media/marius/data_ex/gaze-motion/derivatives/fmriprep/sub-0000/ses-sep/func/sub-0000_ses-sep_task-co_run-1_space-MNI152NLin2009cAsym_desc-preprocCleaned_bold.nii.gz stored\n",
      "Image stored:  /media/marius/data_ex/gaze-motion/derivatives/fmriprep/sub-0000/ses-sep/func/sub-0000_ses-sep_task-co_run-2_space-MNI152NLin2009cAsym_desc-preprocCleaned_bold.nii.gz stored\n",
      "Image stored:  /media/marius/data_ex/gaze-motion/derivatives/fmriprep/sub-0000/ses-sep/func/sub-0000_ses-sep_task-co_run-3_space-MNI152NLin2009cAsym_desc-preprocCleaned_bold.nii.gz stored\n",
      "Image stored:  /media/marius/data_ex/gaze-motion/derivatives/fmriprep/sub-0000/ses-sep/func/sub-0000_ses-sep_task-co_run-4_space-MNI152NLin2009cAsym_desc-preprocCleaned_bold.nii.gz stored\n",
      "Image stored:  /media/marius/data_ex/gaze-motion/derivatives/fmriprep/sub-0000/ses-sep/func/sub-0000_ses-sep_task-faceLoc_run-1_space-MNI152NLin2009cAsym_desc-preprocCleaned_s5_bold.nii.gz stored\n",
      "Image stored:  /media/marius/data_ex/gaze-motion/derivatives/fmriprep/sub-0000/ses-sep/func/sub-0000_ses-sep_task-faceLoc_run-2_space-MNI152NLin2009cAsym_desc-preprocCleaned_s5_bold.nii.gz stored\n",
      "Image stored:  /media/marius/data_ex/gaze-motion/derivatives/fmriprep/sub-0000/ses-sep/func/sub-0000_ses-sep_task-faceLoc_run-3_space-MNI152NLin2009cAsym_desc-preprocCleaned_s5_bold.nii.gz stored\n",
      "Image stored:  /media/marius/data_ex/gaze-motion/derivatives/fmriprep/sub-0000/ses-sep/func/sub-0000_ses-sep_task-faceLoc_run-4_space-MNI152NLin2009cAsym_desc-preprocCleaned_s5_bold.nii.gz stored\n",
      "Image stored:  /media/marius/data_ex/gaze-motion/derivatives/fmriprep/sub-0000/ses-sep/func/sub-0000_ses-sep_task-faceLoc_run-5_space-MNI152NLin2009cAsym_desc-preprocCleaned_s5_bold.nii.gz stored\n",
      "Image stored:  /media/marius/data_ex/gaze-motion/derivatives/fmriprep/sub-0000/ses-sep/func/sub-0000_ses-sep_task-go_run-1_space-MNI152NLin2009cAsym_desc-preprocCleaned_s5_bold.nii.gz stored\n",
      "Image stored:  /media/marius/data_ex/gaze-motion/derivatives/fmriprep/sub-0000/ses-sep/func/sub-0000_ses-sep_task-go_run-2_space-MNI152NLin2009cAsym_desc-preprocCleaned_s5_bold.nii.gz stored\n",
      "Image stored:  /media/marius/data_ex/gaze-motion/derivatives/fmriprep/sub-0000/ses-sep/func/sub-0000_ses-sep_task-go_run-3_space-MNI152NLin2009cAsym_desc-preprocCleaned_s5_bold.nii.gz stored\n",
      "Image stored:  /media/marius/data_ex/gaze-motion/derivatives/fmriprep/sub-0000/ses-sep/func/sub-0000_ses-sep_task-go_run-4_space-MNI152NLin2009cAsym_desc-preprocCleaned_s5_bold.nii.gz stored\n",
      "Image stored:  /media/marius/data_ex/gaze-motion/derivatives/fmriprep/sub-0000/ses-sep/func/sub-0000_ses-sep_task-co_run-1_space-MNI152NLin2009cAsym_desc-preprocCleaned_s5_bold.nii.gz stored\n",
      "Image stored:  /media/marius/data_ex/gaze-motion/derivatives/fmriprep/sub-0000/ses-sep/func/sub-0000_ses-sep_task-co_run-2_space-MNI152NLin2009cAsym_desc-preprocCleaned_s5_bold.nii.gz stored\n",
      "Image stored:  /media/marius/data_ex/gaze-motion/derivatives/fmriprep/sub-0000/ses-sep/func/sub-0000_ses-sep_task-co_run-3_space-MNI152NLin2009cAsym_desc-preprocCleaned_s5_bold.nii.gz stored\n",
      "Image stored:  /media/marius/data_ex/gaze-motion/derivatives/fmriprep/sub-0000/ses-sep/func/sub-0000_ses-sep_task-co_run-4_space-MNI152NLin2009cAsym_desc-preprocCleaned_s5_bold.nii.gz stored\n",
      "Image stored:  /media/marius/data_ex/gaze-motion/derivatives/fmriprep/sub-0000/ses-sep/func/sub-0000_ses-sep_task-faceLoc_run-1_space-MNI152NLin2009cAsym_desc-preprocCleaned_standardized_bold.nii.gz stored\n",
      "Image stored:  /media/marius/data_ex/gaze-motion/derivatives/fmriprep/sub-0000/ses-sep/func/sub-0000_ses-sep_task-faceLoc_run-2_space-MNI152NLin2009cAsym_desc-preprocCleaned_standardized_bold.nii.gz stored\n",
      "Image stored:  /media/marius/data_ex/gaze-motion/derivatives/fmriprep/sub-0000/ses-sep/func/sub-0000_ses-sep_task-faceLoc_run-3_space-MNI152NLin2009cAsym_desc-preprocCleaned_standardized_bold.nii.gz stored\n",
      "Image stored:  /media/marius/data_ex/gaze-motion/derivatives/fmriprep/sub-0000/ses-sep/func/sub-0000_ses-sep_task-faceLoc_run-4_space-MNI152NLin2009cAsym_desc-preprocCleaned_standardized_bold.nii.gz stored\n",
      "Image stored:  /media/marius/data_ex/gaze-motion/derivatives/fmriprep/sub-0000/ses-sep/func/sub-0000_ses-sep_task-faceLoc_run-5_space-MNI152NLin2009cAsym_desc-preprocCleaned_standardized_bold.nii.gz stored\n",
      "Image stored:  /media/marius/data_ex/gaze-motion/derivatives/fmriprep/sub-0000/ses-sep/func/sub-0000_ses-sep_task-go_run-1_space-MNI152NLin2009cAsym_desc-preprocCleaned_standardized_bold.nii.gz stored\n",
      "Image stored:  /media/marius/data_ex/gaze-motion/derivatives/fmriprep/sub-0000/ses-sep/func/sub-0000_ses-sep_task-go_run-2_space-MNI152NLin2009cAsym_desc-preprocCleaned_standardized_bold.nii.gz stored\n",
      "Image stored:  /media/marius/data_ex/gaze-motion/derivatives/fmriprep/sub-0000/ses-sep/func/sub-0000_ses-sep_task-go_run-3_space-MNI152NLin2009cAsym_desc-preprocCleaned_standardized_bold.nii.gz stored\n",
      "Image stored:  /media/marius/data_ex/gaze-motion/derivatives/fmriprep/sub-0000/ses-sep/func/sub-0000_ses-sep_task-go_run-4_space-MNI152NLin2009cAsym_desc-preprocCleaned_standardized_bold.nii.gz stored\n",
      "Image stored:  /media/marius/data_ex/gaze-motion/derivatives/fmriprep/sub-0000/ses-sep/func/sub-0000_ses-sep_task-co_run-1_space-MNI152NLin2009cAsym_desc-preprocCleaned_standardized_bold.nii.gz stored\n",
      "Image stored:  /media/marius/data_ex/gaze-motion/derivatives/fmriprep/sub-0000/ses-sep/func/sub-0000_ses-sep_task-co_run-2_space-MNI152NLin2009cAsym_desc-preprocCleaned_standardized_bold.nii.gz stored\n",
      "Image stored:  /media/marius/data_ex/gaze-motion/derivatives/fmriprep/sub-0000/ses-sep/func/sub-0000_ses-sep_task-co_run-3_space-MNI152NLin2009cAsym_desc-preprocCleaned_standardized_bold.nii.gz stored\n",
      "Image stored:  /media/marius/data_ex/gaze-motion/derivatives/fmriprep/sub-0000/ses-sep/func/sub-0000_ses-sep_task-co_run-4_space-MNI152NLin2009cAsym_desc-preprocCleaned_standardized_bold.nii.gz stored\n",
      "Image stored:  /media/marius/data_ex/gaze-motion/derivatives/fmriprep/sub-0000/ses-sep/func/sub-0000_ses-sep_task-faceLoc_run-1_space-MNI152NLin2009cAsym_desc-preprocCleaned_s5_standardized_bold.nii.gz stored\n",
      "Image stored:  /media/marius/data_ex/gaze-motion/derivatives/fmriprep/sub-0000/ses-sep/func/sub-0000_ses-sep_task-faceLoc_run-2_space-MNI152NLin2009cAsym_desc-preprocCleaned_s5_standardized_bold.nii.gz stored\n",
      "Image stored:  /media/marius/data_ex/gaze-motion/derivatives/fmriprep/sub-0000/ses-sep/func/sub-0000_ses-sep_task-faceLoc_run-3_space-MNI152NLin2009cAsym_desc-preprocCleaned_s5_standardized_bold.nii.gz stored\n",
      "Image stored:  /media/marius/data_ex/gaze-motion/derivatives/fmriprep/sub-0000/ses-sep/func/sub-0000_ses-sep_task-faceLoc_run-4_space-MNI152NLin2009cAsym_desc-preprocCleaned_s5_standardized_bold.nii.gz stored\n",
      "Image stored:  /media/marius/data_ex/gaze-motion/derivatives/fmriprep/sub-0000/ses-sep/func/sub-0000_ses-sep_task-faceLoc_run-5_space-MNI152NLin2009cAsym_desc-preprocCleaned_s5_standardized_bold.nii.gz stored\n",
      "Image stored:  /media/marius/data_ex/gaze-motion/derivatives/fmriprep/sub-0000/ses-sep/func/sub-0000_ses-sep_task-go_run-1_space-MNI152NLin2009cAsym_desc-preprocCleaned_s5_standardized_bold.nii.gz stored\n",
      "Image stored:  /media/marius/data_ex/gaze-motion/derivatives/fmriprep/sub-0000/ses-sep/func/sub-0000_ses-sep_task-go_run-2_space-MNI152NLin2009cAsym_desc-preprocCleaned_s5_standardized_bold.nii.gz stored\n",
      "Image stored:  /media/marius/data_ex/gaze-motion/derivatives/fmriprep/sub-0000/ses-sep/func/sub-0000_ses-sep_task-go_run-3_space-MNI152NLin2009cAsym_desc-preprocCleaned_s5_standardized_bold.nii.gz stored\n",
      "Image stored:  /media/marius/data_ex/gaze-motion/derivatives/fmriprep/sub-0000/ses-sep/func/sub-0000_ses-sep_task-go_run-4_space-MNI152NLin2009cAsym_desc-preprocCleaned_s5_standardized_bold.nii.gz stored\n",
      "Image stored:  /media/marius/data_ex/gaze-motion/derivatives/fmriprep/sub-0000/ses-sep/func/sub-0000_ses-sep_task-co_run-1_space-MNI152NLin2009cAsym_desc-preprocCleaned_s5_standardized_bold.nii.gz stored\n",
      "Image stored:  /media/marius/data_ex/gaze-motion/derivatives/fmriprep/sub-0000/ses-sep/func/sub-0000_ses-sep_task-co_run-2_space-MNI152NLin2009cAsym_desc-preprocCleaned_s5_standardized_bold.nii.gz stored\n",
      "Image stored:  /media/marius/data_ex/gaze-motion/derivatives/fmriprep/sub-0000/ses-sep/func/sub-0000_ses-sep_task-co_run-3_space-MNI152NLin2009cAsym_desc-preprocCleaned_s5_standardized_bold.nii.gz stored\n",
      "Image stored:  /media/marius/data_ex/gaze-motion/derivatives/fmriprep/sub-0000/ses-sep/func/sub-0000_ses-sep_task-co_run-4_space-MNI152NLin2009cAsym_desc-preprocCleaned_s5_standardized_bold.nii.gz stored\n"
     ]
    }
   ],
   "source": [
    "for standardize in [False, True]:\n",
    "    for fwhm in [None, 5]:\n",
    "        subjects[\"sub-0000\"]['ses-sep'].clean_images(standardize=standardize, fwhm=fwhm)"
   ]
  },
  {
   "cell_type": "code",
   "execution_count": null,
   "metadata": {},
   "outputs": [],
   "source": []
  },
  {
   "cell_type": "code",
   "execution_count": null,
   "metadata": {},
   "outputs": [],
   "source": []
  },
  {
   "cell_type": "code",
   "execution_count": null,
   "metadata": {},
   "outputs": [],
   "source": []
  }
 ],
 "metadata": {
  "kernelspec": {
   "display_name": "Python 3 (ipykernel)",
   "language": "python",
   "name": "python3"
  },
  "language_info": {
   "codemirror_mode": {
    "name": "ipython",
    "version": 3
   },
   "file_extension": ".py",
   "mimetype": "text/x-python",
   "name": "python",
   "nbconvert_exporter": "python",
   "pygments_lexer": "ipython3",
   "version": "3.8.10"
  },
  "scenes_data": {
   "active_scene": "Default Scene",
   "init_scene": "",
   "scenes": [
    "Default Scene"
   ]
  }
 },
 "nbformat": 4,
 "nbformat_minor": 4
}
